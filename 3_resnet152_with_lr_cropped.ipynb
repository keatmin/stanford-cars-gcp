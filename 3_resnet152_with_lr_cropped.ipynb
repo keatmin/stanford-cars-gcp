{
 "cells": [
  {
   "cell_type": "markdown",
   "metadata": {},
   "source": [
    "# Resnet152 with cropped images\n",
    "Alternating between normal and cropped images. The number of epochs doubled no increase in accuracy. \n",
    "Other thing to try out is one at a time, also be car"
   ]
  },
  {
   "cell_type": "code",
   "execution_count": 1,
   "metadata": {},
   "outputs": [],
   "source": [
    "import pandas as pd\n",
    "from pathlib import Path\n",
    "from scipy.io import loadmat\n",
    "import matplotlib.pyplot as plt\n",
    "from PIL import Image"
   ]
  },
  {
   "cell_type": "code",
   "execution_count": 2,
   "metadata": {},
   "outputs": [],
   "source": [
    "from fastai import *\n",
    "from fastai.vision import *"
   ]
  },
  {
   "cell_type": "code",
   "execution_count": 42,
   "metadata": {},
   "outputs": [],
   "source": [
    "#!mv data/cars_train data/train\n",
    "#!mv data/cars_test data/test"
   ]
  },
  {
   "cell_type": "code",
   "execution_count": 11,
   "metadata": {},
   "outputs": [
    {
     "name": "stdout",
     "output_type": "stream",
     "text": [
      "--2019-06-05 09:04:47--  https://ai.stanford.edu/~jkrause/cars/car_devkit.tgz\n",
      "Resolving ai.stanford.edu (ai.stanford.edu)... 171.64.68.10\n",
      "Connecting to ai.stanford.edu (ai.stanford.edu)|171.64.68.10|:443... connected.\n",
      "HTTP request sent, awaiting response... 200 OK\n",
      "Length: 330960 (323K) [application/x-gzip]\n",
      "Saving to: ‘car_devkit.tgz’\n",
      "\n",
      "car_devkit.tgz      100%[===================>] 323.20K   207KB/s    in 1.6s    \n",
      "\n",
      "2019-06-05 09:04:50 (207 KB/s) - ‘car_devkit.tgz’ saved [330960/330960]\n",
      "\n"
     ]
    }
   ],
   "source": [
    "#!wget https://ai.stanford.edu/~jkrause/cars/car_devkit.tgz\n",
    "#!tar -zxvf car_devkit.tgz -C data"
   ]
  },
  {
   "cell_type": "code",
   "execution_count": 319,
   "metadata": {},
   "outputs": [
    {
     "name": "stdout",
     "output_type": "stream",
     "text": [
      "--2019-06-05 15:42:06--  http://imagenet.stanford.edu/internal/car196/cars_test_annos_withlabels.mat\n",
      "Resolving imagenet.stanford.edu (imagenet.stanford.edu)... 171.64.68.16\n",
      "Connecting to imagenet.stanford.edu (imagenet.stanford.edu)|171.64.68.16|:80... connected.\n",
      "HTTP request sent, awaiting response... 200 OK\n",
      "Length: 185758 (181K) [text/plain]\n",
      "Saving to: ‘cars_test_annos_withlabels.mat.1’\n",
      "\n",
      "cars_test_annos_wit 100%[===================>] 181.40K   134KB/s    in 1.4s    \n",
      "\n",
      "2019-06-05 15:42:08 (134 KB/s) - ‘cars_test_annos_withlabels.mat.1’ saved [185758/185758]\n",
      "\n"
     ]
    }
   ],
   "source": [
    "#!wget http://imagenet.stanford.edu/internal/car196/cars_test_annos_withlabels.mat\n",
    "#!mv cars_test_annos_withlabels.mat data/"
   ]
  },
  {
   "cell_type": "markdown",
   "metadata": {},
   "source": [
    "Create a unified folder where test images and train images are in for fastai learner to test at the end of training"
   ]
  },
  {
   "cell_type": "code",
   "execution_count": 418,
   "metadata": {},
   "outputs": [],
   "source": [
    "#!mkdir data/all_img\n",
    "#!cp -a data/test/. data/all_img    \n",
    "#cd data/all_img && rename 's/^/test_/' *  # renaming all the test images in the folder with 'test' suffix\n",
    "#!cp -a data/train/. data/all_img   "
   ]
  },
  {
   "cell_type": "code",
   "execution_count": 3,
   "metadata": {},
   "outputs": [],
   "source": [
    "train_path = 'data/train/'\n",
    "cropped_path = 'data/cropped_train/'\n",
    "test_path = 'data/test/'\n",
    "all_img_path = 'data/all_img'\n",
    "CROPPED_PATH = Path(cropped_path)"
   ]
  },
  {
   "cell_type": "code",
   "execution_count": null,
   "metadata": {},
   "outputs": [],
   "source": [
    "#CROPPED_PATH.mkdir(parents=True, exist_ok=True)"
   ]
  },
  {
   "cell_type": "markdown",
   "metadata": {},
   "source": [
    "Fixed code from [Devon from Kaggle](https://www.kaggle.com/criticalmassacre/inaccurate-labels-in-stanford-cars-data-set) "
   ]
  },
  {
   "cell_type": "code",
   "execution_count": 4,
   "metadata": {},
   "outputs": [],
   "source": [
    "train_an_pth = 'data/devkit/cars_train_annos.mat'\n",
    "test_an_pth = 'data/cars_test_annos_withlabels.mat'\n",
    "classes_pth = 'data/devkit/cars_meta.mat'\n",
    "\n",
    "def get_labels(annos_path, classes_path):\n",
    "    car_an = loadmat(annos_path)\n",
    "    car_meta = loadmat(classes_path)\n",
    "    annotations = car_an[\"annotations\"][0,:]\n",
    "    total_classes = len(car_meta[\"class_names\"][0])\n",
    "    class_names = dict(zip(range(1,total_classes+1),[c[0] for c in car_meta[\"class_names\"][0]]))\n",
    "    \n",
    "    labelled_images = {}\n",
    "    dataset = []\n",
    "    for arr in annotations:\n",
    "        # the last entry in the row is the image name\n",
    "        # The rest is the data, first bbox, then classid\n",
    "        dataset.append([y[0][0] for y in arr][0:5]+[arr[5][0]])\n",
    "    # Convert to a DataFrame, and specify the column names\n",
    "    temp_df = pd.DataFrame(dataset, \n",
    "                      columns =['BBOX_X1','BBOX_Y1','BBOX_X2','BBOX_Y2','ClassID','filename'])\n",
    "\n",
    "    temp_df = temp_df.assign(ClassName=temp_df.ClassID.map(dict(class_names)))\n",
    "    temp_df.columns = ['bbox_x1','bbox_y1','bbox_x2','bbox_y2','class_id','filename', 'class_name']\n",
    "    return temp_df"
   ]
  },
  {
   "cell_type": "code",
   "execution_count": 179,
   "metadata": {},
   "outputs": [
    {
     "data": {
      "text/html": [
       "<div>\n",
       "<style scoped>\n",
       "    .dataframe tbody tr th:only-of-type {\n",
       "        vertical-align: middle;\n",
       "    }\n",
       "\n",
       "    .dataframe tbody tr th {\n",
       "        vertical-align: top;\n",
       "    }\n",
       "\n",
       "    .dataframe thead th {\n",
       "        text-align: right;\n",
       "    }\n",
       "</style>\n",
       "<table border=\"1\" class=\"dataframe\">\n",
       "  <thead>\n",
       "    <tr style=\"text-align: right;\">\n",
       "      <th></th>\n",
       "      <th>bbox_x1</th>\n",
       "      <th>bbox_y1</th>\n",
       "      <th>bbox_x2</th>\n",
       "      <th>bbox_y2</th>\n",
       "      <th>class_id</th>\n",
       "      <th>filename</th>\n",
       "      <th>class_name</th>\n",
       "      <th>test</th>\n",
       "    </tr>\n",
       "  </thead>\n",
       "  <tbody>\n",
       "    <tr>\n",
       "      <th>0</th>\n",
       "      <td>39</td>\n",
       "      <td>116</td>\n",
       "      <td>569</td>\n",
       "      <td>375</td>\n",
       "      <td>14</td>\n",
       "      <td>00001.jpg</td>\n",
       "      <td>Audi TTS Coupe 2012</td>\n",
       "      <td>0</td>\n",
       "    </tr>\n",
       "    <tr>\n",
       "      <th>1</th>\n",
       "      <td>36</td>\n",
       "      <td>116</td>\n",
       "      <td>868</td>\n",
       "      <td>587</td>\n",
       "      <td>3</td>\n",
       "      <td>00002.jpg</td>\n",
       "      <td>Acura TL Sedan 2012</td>\n",
       "      <td>0</td>\n",
       "    </tr>\n",
       "    <tr>\n",
       "      <th>2</th>\n",
       "      <td>85</td>\n",
       "      <td>109</td>\n",
       "      <td>601</td>\n",
       "      <td>381</td>\n",
       "      <td>91</td>\n",
       "      <td>00003.jpg</td>\n",
       "      <td>Dodge Dakota Club Cab 2007</td>\n",
       "      <td>0</td>\n",
       "    </tr>\n",
       "    <tr>\n",
       "      <th>3</th>\n",
       "      <td>621</td>\n",
       "      <td>393</td>\n",
       "      <td>1484</td>\n",
       "      <td>1096</td>\n",
       "      <td>134</td>\n",
       "      <td>00004.jpg</td>\n",
       "      <td>Hyundai Sonata Hybrid Sedan 2012</td>\n",
       "      <td>0</td>\n",
       "    </tr>\n",
       "    <tr>\n",
       "      <th>4</th>\n",
       "      <td>14</td>\n",
       "      <td>36</td>\n",
       "      <td>133</td>\n",
       "      <td>99</td>\n",
       "      <td>106</td>\n",
       "      <td>00005.jpg</td>\n",
       "      <td>Ford F-450 Super Duty Crew Cab 2012</td>\n",
       "      <td>0</td>\n",
       "    </tr>\n",
       "  </tbody>\n",
       "</table>\n",
       "</div>"
      ],
      "text/plain": [
       "   bbox_x1  bbox_y1  bbox_x2  bbox_y2  class_id   filename  \\\n",
       "0       39      116      569      375        14  00001.jpg   \n",
       "1       36      116      868      587         3  00002.jpg   \n",
       "2       85      109      601      381        91  00003.jpg   \n",
       "3      621      393     1484     1096       134  00004.jpg   \n",
       "4       14       36      133       99       106  00005.jpg   \n",
       "\n",
       "                            class_name  test  \n",
       "0                  Audi TTS Coupe 2012     0  \n",
       "1                  Acura TL Sedan 2012     0  \n",
       "2           Dodge Dakota Club Cab 2007     0  \n",
       "3     Hyundai Sonata Hybrid Sedan 2012     0  \n",
       "4  Ford F-450 Super Duty Crew Cab 2012     0  "
      ]
     },
     "execution_count": 179,
     "metadata": {},
     "output_type": "execute_result"
    }
   ],
   "source": [
    "train_df = get_labels(train_an_pth, classes_pth)\n",
    "train_df['test'] = 0\n",
    "train_df.head()"
   ]
  },
  {
   "cell_type": "code",
   "execution_count": 180,
   "metadata": {},
   "outputs": [
    {
     "data": {
      "text/html": [
       "<div>\n",
       "<style scoped>\n",
       "    .dataframe tbody tr th:only-of-type {\n",
       "        vertical-align: middle;\n",
       "    }\n",
       "\n",
       "    .dataframe tbody tr th {\n",
       "        vertical-align: top;\n",
       "    }\n",
       "\n",
       "    .dataframe thead th {\n",
       "        text-align: right;\n",
       "    }\n",
       "</style>\n",
       "<table border=\"1\" class=\"dataframe\">\n",
       "  <thead>\n",
       "    <tr style=\"text-align: right;\">\n",
       "      <th></th>\n",
       "      <th>bbox_x1</th>\n",
       "      <th>bbox_y1</th>\n",
       "      <th>bbox_x2</th>\n",
       "      <th>bbox_y2</th>\n",
       "      <th>class_id</th>\n",
       "      <th>filename</th>\n",
       "      <th>class_name</th>\n",
       "      <th>test</th>\n",
       "    </tr>\n",
       "  </thead>\n",
       "  <tbody>\n",
       "    <tr>\n",
       "      <th>0</th>\n",
       "      <td>30</td>\n",
       "      <td>52</td>\n",
       "      <td>246</td>\n",
       "      <td>147</td>\n",
       "      <td>181</td>\n",
       "      <td>00001.jpg</td>\n",
       "      <td>Suzuki Aerio Sedan 2007</td>\n",
       "      <td>1</td>\n",
       "    </tr>\n",
       "    <tr>\n",
       "      <th>1</th>\n",
       "      <td>100</td>\n",
       "      <td>19</td>\n",
       "      <td>576</td>\n",
       "      <td>203</td>\n",
       "      <td>103</td>\n",
       "      <td>00002.jpg</td>\n",
       "      <td>Ferrari 458 Italia Convertible 2012</td>\n",
       "      <td>1</td>\n",
       "    </tr>\n",
       "    <tr>\n",
       "      <th>2</th>\n",
       "      <td>51</td>\n",
       "      <td>105</td>\n",
       "      <td>968</td>\n",
       "      <td>659</td>\n",
       "      <td>145</td>\n",
       "      <td>00003.jpg</td>\n",
       "      <td>Jeep Patriot SUV 2012</td>\n",
       "      <td>1</td>\n",
       "    </tr>\n",
       "    <tr>\n",
       "      <th>3</th>\n",
       "      <td>67</td>\n",
       "      <td>84</td>\n",
       "      <td>581</td>\n",
       "      <td>407</td>\n",
       "      <td>187</td>\n",
       "      <td>00004.jpg</td>\n",
       "      <td>Toyota Camry Sedan 2012</td>\n",
       "      <td>1</td>\n",
       "    </tr>\n",
       "    <tr>\n",
       "      <th>4</th>\n",
       "      <td>140</td>\n",
       "      <td>151</td>\n",
       "      <td>593</td>\n",
       "      <td>339</td>\n",
       "      <td>185</td>\n",
       "      <td>00005.jpg</td>\n",
       "      <td>Tesla Model S Sedan 2012</td>\n",
       "      <td>1</td>\n",
       "    </tr>\n",
       "  </tbody>\n",
       "</table>\n",
       "</div>"
      ],
      "text/plain": [
       "   bbox_x1  bbox_y1  bbox_x2  bbox_y2  class_id   filename  \\\n",
       "0       30       52      246      147       181  00001.jpg   \n",
       "1      100       19      576      203       103  00002.jpg   \n",
       "2       51      105      968      659       145  00003.jpg   \n",
       "3       67       84      581      407       187  00004.jpg   \n",
       "4      140      151      593      339       185  00005.jpg   \n",
       "\n",
       "                            class_name  test  \n",
       "0              Suzuki Aerio Sedan 2007     1  \n",
       "1  Ferrari 458 Italia Convertible 2012     1  \n",
       "2                Jeep Patriot SUV 2012     1  \n",
       "3              Toyota Camry Sedan 2012     1  \n",
       "4             Tesla Model S Sedan 2012     1  "
      ]
     },
     "execution_count": 180,
     "metadata": {},
     "output_type": "execute_result"
    }
   ],
   "source": [
    "test_df = get_labels(test_an_pth,classes_pth)\n",
    "test_df['test'] = 1\n",
    "test_df.head()"
   ]
  },
  {
   "cell_type": "code",
   "execution_count": 181,
   "metadata": {},
   "outputs": [
    {
     "data": {
      "text/html": [
       "<div>\n",
       "<style scoped>\n",
       "    .dataframe tbody tr th:only-of-type {\n",
       "        vertical-align: middle;\n",
       "    }\n",
       "\n",
       "    .dataframe tbody tr th {\n",
       "        vertical-align: top;\n",
       "    }\n",
       "\n",
       "    .dataframe thead th {\n",
       "        text-align: right;\n",
       "    }\n",
       "</style>\n",
       "<table border=\"1\" class=\"dataframe\">\n",
       "  <thead>\n",
       "    <tr style=\"text-align: right;\">\n",
       "      <th></th>\n",
       "      <th>bbox_x1</th>\n",
       "      <th>bbox_y1</th>\n",
       "      <th>bbox_x2</th>\n",
       "      <th>bbox_y2</th>\n",
       "      <th>class_id</th>\n",
       "      <th>filename</th>\n",
       "      <th>class_name</th>\n",
       "      <th>test</th>\n",
       "    </tr>\n",
       "  </thead>\n",
       "  <tbody>\n",
       "    <tr>\n",
       "      <th>0</th>\n",
       "      <td>30</td>\n",
       "      <td>52</td>\n",
       "      <td>246</td>\n",
       "      <td>147</td>\n",
       "      <td>181</td>\n",
       "      <td>test_00001.jpg</td>\n",
       "      <td>Suzuki Aerio Sedan 2007</td>\n",
       "      <td>1</td>\n",
       "    </tr>\n",
       "    <tr>\n",
       "      <th>1</th>\n",
       "      <td>100</td>\n",
       "      <td>19</td>\n",
       "      <td>576</td>\n",
       "      <td>203</td>\n",
       "      <td>103</td>\n",
       "      <td>test_00002.jpg</td>\n",
       "      <td>Ferrari 458 Italia Convertible 2012</td>\n",
       "      <td>1</td>\n",
       "    </tr>\n",
       "    <tr>\n",
       "      <th>2</th>\n",
       "      <td>51</td>\n",
       "      <td>105</td>\n",
       "      <td>968</td>\n",
       "      <td>659</td>\n",
       "      <td>145</td>\n",
       "      <td>test_00003.jpg</td>\n",
       "      <td>Jeep Patriot SUV 2012</td>\n",
       "      <td>1</td>\n",
       "    </tr>\n",
       "    <tr>\n",
       "      <th>3</th>\n",
       "      <td>67</td>\n",
       "      <td>84</td>\n",
       "      <td>581</td>\n",
       "      <td>407</td>\n",
       "      <td>187</td>\n",
       "      <td>test_00004.jpg</td>\n",
       "      <td>Toyota Camry Sedan 2012</td>\n",
       "      <td>1</td>\n",
       "    </tr>\n",
       "    <tr>\n",
       "      <th>4</th>\n",
       "      <td>140</td>\n",
       "      <td>151</td>\n",
       "      <td>593</td>\n",
       "      <td>339</td>\n",
       "      <td>185</td>\n",
       "      <td>test_00005.jpg</td>\n",
       "      <td>Tesla Model S Sedan 2012</td>\n",
       "      <td>1</td>\n",
       "    </tr>\n",
       "  </tbody>\n",
       "</table>\n",
       "</div>"
      ],
      "text/plain": [
       "   bbox_x1  bbox_y1  bbox_x2  bbox_y2  class_id        filename  \\\n",
       "0       30       52      246      147       181  test_00001.jpg   \n",
       "1      100       19      576      203       103  test_00002.jpg   \n",
       "2       51      105      968      659       145  test_00003.jpg   \n",
       "3       67       84      581      407       187  test_00004.jpg   \n",
       "4      140      151      593      339       185  test_00005.jpg   \n",
       "\n",
       "                            class_name  test  \n",
       "0              Suzuki Aerio Sedan 2007     1  \n",
       "1  Ferrari 458 Italia Convertible 2012     1  \n",
       "2                Jeep Patriot SUV 2012     1  \n",
       "3              Toyota Camry Sedan 2012     1  \n",
       "4             Tesla Model S Sedan 2012     1  "
      ]
     },
     "execution_count": 181,
     "metadata": {},
     "output_type": "execute_result"
    }
   ],
   "source": [
    "test_df_all_img = test_df.copy()\n",
    "test_df_all_img['filename'] = test_df_all_img['filename'].map(lambda x: f'test_{x}')\n",
    "test_df_all_img.head()"
   ]
  },
  {
   "cell_type": "code",
   "execution_count": 182,
   "metadata": {},
   "outputs": [],
   "source": [
    "all_img_df = pd.concat([train_df,test_df_all_img])\n",
    "all_img_df = all_img_df.loc[:,['filename', 'class_name', 'class_id', 'test']]\n",
    "#all_img_df.to_csv('all_img.csv',index=False)"
   ]
  },
  {
   "cell_type": "code",
   "execution_count": 30,
   "metadata": {},
   "outputs": [],
   "source": [
    "#Add cropped file names \n",
    "train_df['filename_cropped'] = train_df['filename'].map(lambda x: f'cropped_{x}')\n",
    "#train_df.to_csv('train_labels.csv',index=False)"
   ]
  },
  {
   "cell_type": "code",
   "execution_count": 31,
   "metadata": {},
   "outputs": [
    {
     "data": {
      "text/plain": [
       "(196, 196)"
      ]
     },
     "execution_count": 31,
     "metadata": {},
     "output_type": "execute_result"
    }
   ],
   "source": [
    "#Ensuring class names and class ids are mapped properly \n",
    "train_df['class_name'].nunique(), train_df['class_id'].nunique()"
   ]
  },
  {
   "cell_type": "code",
   "execution_count": 32,
   "metadata": {},
   "outputs": [
    {
     "data": {
      "text/html": [
       "<div>\n",
       "<style scoped>\n",
       "    .dataframe tbody tr th:only-of-type {\n",
       "        vertical-align: middle;\n",
       "    }\n",
       "\n",
       "    .dataframe tbody tr th {\n",
       "        vertical-align: top;\n",
       "    }\n",
       "\n",
       "    .dataframe thead th {\n",
       "        text-align: right;\n",
       "    }\n",
       "</style>\n",
       "<table border=\"1\" class=\"dataframe\">\n",
       "  <thead>\n",
       "    <tr style=\"text-align: right;\">\n",
       "      <th></th>\n",
       "      <th>bbox_x1</th>\n",
       "      <th>bbox_y1</th>\n",
       "      <th>bbox_x2</th>\n",
       "      <th>bbox_y2</th>\n",
       "      <th>class_id</th>\n",
       "      <th>filename</th>\n",
       "      <th>class_name</th>\n",
       "      <th>test</th>\n",
       "      <th>filename_cropped</th>\n",
       "    </tr>\n",
       "  </thead>\n",
       "  <tbody>\n",
       "    <tr>\n",
       "      <th>0</th>\n",
       "      <td>39</td>\n",
       "      <td>116</td>\n",
       "      <td>569</td>\n",
       "      <td>375</td>\n",
       "      <td>14</td>\n",
       "      <td>00001.jpg</td>\n",
       "      <td>Audi TTS Coupe 2012</td>\n",
       "      <td>0</td>\n",
       "      <td>cropped_00001.jpg</td>\n",
       "    </tr>\n",
       "    <tr>\n",
       "      <th>1</th>\n",
       "      <td>36</td>\n",
       "      <td>116</td>\n",
       "      <td>868</td>\n",
       "      <td>587</td>\n",
       "      <td>3</td>\n",
       "      <td>00002.jpg</td>\n",
       "      <td>Acura TL Sedan 2012</td>\n",
       "      <td>0</td>\n",
       "      <td>cropped_00002.jpg</td>\n",
       "    </tr>\n",
       "    <tr>\n",
       "      <th>2</th>\n",
       "      <td>85</td>\n",
       "      <td>109</td>\n",
       "      <td>601</td>\n",
       "      <td>381</td>\n",
       "      <td>91</td>\n",
       "      <td>00003.jpg</td>\n",
       "      <td>Dodge Dakota Club Cab 2007</td>\n",
       "      <td>0</td>\n",
       "      <td>cropped_00003.jpg</td>\n",
       "    </tr>\n",
       "    <tr>\n",
       "      <th>3</th>\n",
       "      <td>621</td>\n",
       "      <td>393</td>\n",
       "      <td>1484</td>\n",
       "      <td>1096</td>\n",
       "      <td>134</td>\n",
       "      <td>00004.jpg</td>\n",
       "      <td>Hyundai Sonata Hybrid Sedan 2012</td>\n",
       "      <td>0</td>\n",
       "      <td>cropped_00004.jpg</td>\n",
       "    </tr>\n",
       "    <tr>\n",
       "      <th>4</th>\n",
       "      <td>14</td>\n",
       "      <td>36</td>\n",
       "      <td>133</td>\n",
       "      <td>99</td>\n",
       "      <td>106</td>\n",
       "      <td>00005.jpg</td>\n",
       "      <td>Ford F-450 Super Duty Crew Cab 2012</td>\n",
       "      <td>0</td>\n",
       "      <td>cropped_00005.jpg</td>\n",
       "    </tr>\n",
       "  </tbody>\n",
       "</table>\n",
       "</div>"
      ],
      "text/plain": [
       "   bbox_x1  bbox_y1  bbox_x2  bbox_y2  class_id   filename  \\\n",
       "0       39      116      569      375        14  00001.jpg   \n",
       "1       36      116      868      587         3  00002.jpg   \n",
       "2       85      109      601      381        91  00003.jpg   \n",
       "3      621      393     1484     1096       134  00004.jpg   \n",
       "4       14       36      133       99       106  00005.jpg   \n",
       "\n",
       "                            class_name  test   filename_cropped  \n",
       "0                  Audi TTS Coupe 2012     0  cropped_00001.jpg  \n",
       "1                  Acura TL Sedan 2012     0  cropped_00002.jpg  \n",
       "2           Dodge Dakota Club Cab 2007     0  cropped_00003.jpg  \n",
       "3     Hyundai Sonata Hybrid Sedan 2012     0  cropped_00004.jpg  \n",
       "4  Ford F-450 Super Duty Crew Cab 2012     0  cropped_00005.jpg  "
      ]
     },
     "execution_count": 32,
     "metadata": {},
     "output_type": "execute_result"
    }
   ],
   "source": [
    "train_df.head()"
   ]
  },
  {
   "cell_type": "code",
   "execution_count": 275,
   "metadata": {},
   "outputs": [],
   "source": [
    "def _crop(df, path, i):\n",
    "    img = Image.open(path + df['filename'][i])\n",
    "    x1 = df['bbox_x1'][i]\n",
    "    y1 =df['bbox_y1'][i]\n",
    "    y2 = df['bbox_y2'][i]\n",
    "    x2 = df['bbox_x2'][i]\n",
    "    bbox = (x1,y1,x2,y2)\n",
    "    return img.crop(bbox)\n",
    "\n",
    "def save(img,df,path,i): \n",
    "    return img.save(f'{path + df[\"filename_cropped\"][i]}')\n",
    "                    \n",
    "def get_cropped_image(df,path,cropped_path,i):\n",
    "    cropped = _crop(df,path,i)\n",
    "    return save(cropped,df,cropped_path,i)\n",
    "    "
   ]
  },
  {
   "cell_type": "code",
   "execution_count": null,
   "metadata": {},
   "outputs": [],
   "source": [
    "#Generate cropped images\n",
    "#list(map(lambda x: get_cropped_image(train_df,train_path,cropped_path,x), list(range(len(train_df)))))"
   ]
  },
  {
   "cell_type": "markdown",
   "metadata": {},
   "source": [
    "#### Commence training: Stage-1 (resnet152)\n",
    "- Setting up data bunch and transformations"
   ]
  },
  {
   "cell_type": "code",
   "execution_count": 13,
   "metadata": {},
   "outputs": [],
   "source": [
    "tfms = get_transforms()\n",
    "trn_df_labels = train_df[['filename','class_name']]\n",
    "\n",
    "src = (ImageList.from_df(trn_df_labels,train_path, cols='filename')\n",
    "       .split_by_rand_pct(0.2, seed=42).label_from_df('class_name'))"
   ]
  },
  {
   "cell_type": "code",
   "execution_count": 14,
   "metadata": {},
   "outputs": [],
   "source": [
    "data128 = (src.transform(tfms,size=128).databunch(bs=64).normalize(imagenet_stats))"
   ]
  },
  {
   "cell_type": "code",
   "execution_count": 15,
   "metadata": {},
   "outputs": [],
   "source": [
    "learn = cnn_learner(data128,models.resnet152,metrics=[error_rate,accuracy, Precision(average='weighted'), Recall(average='weighted')])"
   ]
  },
  {
   "cell_type": "code",
   "execution_count": 16,
   "metadata": {},
   "outputs": [
    {
     "data": {
      "text/html": [],
      "text/plain": [
       "<IPython.core.display.HTML object>"
      ]
     },
     "metadata": {},
     "output_type": "display_data"
    },
    {
     "name": "stdout",
     "output_type": "stream",
     "text": [
      "LR Finder is complete, type {learner_name}.recorder.plot() to see the graph.\n"
     ]
    }
   ],
   "source": [
    "learn.lr_find(wd=1e-3)"
   ]
  },
  {
   "cell_type": "code",
   "execution_count": 17,
   "metadata": {},
   "outputs": [
    {
     "name": "stdout",
     "output_type": "stream",
     "text": [
      "Min numerical gradient: 6.31E-03\n"
     ]
    },
    {
     "data": {
      "image/png": "[encoded data removed]",
      "text/plain": [
       "<Figure size 432x288 with 1 Axes>"
      ]
     },
     "metadata": {
      "needs_background": "light"
     },
     "output_type": "display_data"
    }
   ],
   "source": [
    "learn.recorder.plot(suggestion=True)"
   ]
  },
  {
   "cell_type": "code",
   "execution_count": 21,
   "metadata": {},
   "outputs": [
    {
     "data": {
      "text/html": [
       "<table border=\"1\" class=\"dataframe\">\n",
       "  <thead>\n",
       "    <tr style=\"text-align: left;\">\n",
       "      <th>epoch</th>\n",
       "      <th>train_loss</th>\n",
       "      <th>valid_loss</th>\n",
       "      <th>error_rate</th>\n",
       "      <th>accuracy</th>\n",
       "      <th>precision</th>\n",
       "      <th>recall</th>\n",
       "      <th>time</th>\n",
       "    </tr>\n",
       "  </thead>\n",
       "  <tbody>\n",
       "    <tr>\n",
       "      <td>0</td>\n",
       "      <td>2.013381</td>\n",
       "      <td>3.694886</td>\n",
       "      <td>0.782555</td>\n",
       "      <td>0.217445</td>\n",
       "      <td>nan</td>\n",
       "      <td>0.217445</td>\n",
       "      <td>00:58</td>\n",
       "    </tr>\n",
       "    <tr>\n",
       "      <td>1</td>\n",
       "      <td>2.791586</td>\n",
       "      <td>2.962861</td>\n",
       "      <td>0.725430</td>\n",
       "      <td>0.274570</td>\n",
       "      <td>nan</td>\n",
       "      <td>0.274570</td>\n",
       "      <td>00:59</td>\n",
       "    </tr>\n",
       "    <tr>\n",
       "      <td>2</td>\n",
       "      <td>2.396882</td>\n",
       "      <td>2.283252</td>\n",
       "      <td>0.581695</td>\n",
       "      <td>0.418305</td>\n",
       "      <td>nan</td>\n",
       "      <td>0.418305</td>\n",
       "      <td>00:59</td>\n",
       "    </tr>\n",
       "    <tr>\n",
       "      <td>3</td>\n",
       "      <td>1.829580</td>\n",
       "      <td>1.577860</td>\n",
       "      <td>0.421990</td>\n",
       "      <td>0.578010</td>\n",
       "      <td>0.634760</td>\n",
       "      <td>0.578010</td>\n",
       "      <td>00:59</td>\n",
       "    </tr>\n",
       "    <tr>\n",
       "      <td>4</td>\n",
       "      <td>1.373731</td>\n",
       "      <td>1.420316</td>\n",
       "      <td>0.393120</td>\n",
       "      <td>0.606880</td>\n",
       "      <td>0.644691</td>\n",
       "      <td>0.606880</td>\n",
       "      <td>00:59</td>\n",
       "    </tr>\n",
       "  </tbody>\n",
       "</table>"
      ],
      "text/plain": [
       "<IPython.core.display.HTML object>"
      ]
     },
     "metadata": {},
     "output_type": "display_data"
    }
   ],
   "source": [
    "learn.fit_one_cycle(5, 1e-2,wd=1e-3)"
   ]
  },
  {
   "cell_type": "code",
   "execution_count": 20,
   "metadata": {},
   "outputs": [],
   "source": [
    "learn.save('3-resnet-152-128-v1-5ep-lr1e-2-wd1e-3')"
   ]
  },
  {
   "cell_type": "markdown",
   "metadata": {},
   "source": [
    "#### Stage-2\n",
    "- Unfreezing the model to train body's weight"
   ]
  },
  {
   "cell_type": "code",
   "execution_count": 22,
   "metadata": {},
   "outputs": [],
   "source": [
    "#Load the best model from stage-1\n",
    "learn.load('3-resnet-152-128-v1-5ep-lr1e-2-wd1e-3');"
   ]
  },
  {
   "cell_type": "code",
   "execution_count": 23,
   "metadata": {},
   "outputs": [],
   "source": [
    "learn.unfreeze()"
   ]
  },
  {
   "cell_type": "code",
   "execution_count": 25,
   "metadata": {},
   "outputs": [
    {
     "data": {
      "text/html": [],
      "text/plain": [
       "<IPython.core.display.HTML object>"
      ]
     },
     "metadata": {},
     "output_type": "display_data"
    },
    {
     "name": "stdout",
     "output_type": "stream",
     "text": [
      "LR Finder is complete, type {learner_name}.recorder.plot() to see the graph.\n"
     ]
    }
   ],
   "source": [
    "learn.lr_find(wd=1e-3)"
   ]
  },
  {
   "cell_type": "code",
   "execution_count": 26,
   "metadata": {},
   "outputs": [
    {
     "data": {
      "image/png": "[encoded data removed]",
      "text/plain": [
       "<Figure size 432x288 with 1 Axes>"
      ]
     },
     "metadata": {
      "needs_background": "light"
     },
     "output_type": "display_data"
    }
   ],
   "source": [
    "learn.recorder.plot()"
   ]
  },
  {
   "cell_type": "code",
   "execution_count": 27,
   "metadata": {},
   "outputs": [
    {
     "data": {
      "text/html": [
       "<table border=\"1\" class=\"dataframe\">\n",
       "  <thead>\n",
       "    <tr style=\"text-align: left;\">\n",
       "      <th>epoch</th>\n",
       "      <th>train_loss</th>\n",
       "      <th>valid_loss</th>\n",
       "      <th>error_rate</th>\n",
       "      <th>accuracy</th>\n",
       "      <th>precision</th>\n",
       "      <th>recall</th>\n",
       "      <th>time</th>\n",
       "    </tr>\n",
       "  </thead>\n",
       "  <tbody>\n",
       "    <tr>\n",
       "      <td>0</td>\n",
       "      <td>1.739431</td>\n",
       "      <td>1.758056</td>\n",
       "      <td>0.458845</td>\n",
       "      <td>0.541155</td>\n",
       "      <td>0.575126</td>\n",
       "      <td>0.541155</td>\n",
       "      <td>01:12</td>\n",
       "    </tr>\n",
       "    <tr>\n",
       "      <td>1</td>\n",
       "      <td>1.672987</td>\n",
       "      <td>1.694382</td>\n",
       "      <td>0.448403</td>\n",
       "      <td>0.551597</td>\n",
       "      <td>0.598005</td>\n",
       "      <td>0.551597</td>\n",
       "      <td>01:12</td>\n",
       "    </tr>\n",
       "    <tr>\n",
       "      <td>2</td>\n",
       "      <td>1.497799</td>\n",
       "      <td>1.583202</td>\n",
       "      <td>0.414005</td>\n",
       "      <td>0.585995</td>\n",
       "      <td>0.620193</td>\n",
       "      <td>0.585995</td>\n",
       "      <td>01:12</td>\n",
       "    </tr>\n",
       "    <tr>\n",
       "      <td>3</td>\n",
       "      <td>1.383846</td>\n",
       "      <td>1.507790</td>\n",
       "      <td>0.396806</td>\n",
       "      <td>0.603194</td>\n",
       "      <td>0.636714</td>\n",
       "      <td>0.603194</td>\n",
       "      <td>01:13</td>\n",
       "    </tr>\n",
       "    <tr>\n",
       "      <td>4</td>\n",
       "      <td>1.261193</td>\n",
       "      <td>1.505878</td>\n",
       "      <td>0.405405</td>\n",
       "      <td>0.594595</td>\n",
       "      <td>0.626348</td>\n",
       "      <td>0.594595</td>\n",
       "      <td>01:13</td>\n",
       "    </tr>\n",
       "  </tbody>\n",
       "</table>"
      ],
      "text/plain": [
       "<IPython.core.display.HTML object>"
      ]
     },
     "metadata": {},
     "output_type": "display_data"
    }
   ],
   "source": [
    "learn.fit_one_cycle(5, max_lr=slice(1e-6,3e-4),wd=1e-3)"
   ]
  },
  {
   "cell_type": "code",
   "execution_count": 28,
   "metadata": {},
   "outputs": [],
   "source": [
    "learn.save('3-resnet-152-128-v2-5ep-lr1e-6,3e-4-wd1e-3')"
   ]
  },
  {
   "cell_type": "markdown",
   "metadata": {},
   "source": [
    "#### Stage-3 \n",
    "- with cropped images"
   ]
  },
  {
   "cell_type": "code",
   "execution_count": 87,
   "metadata": {},
   "outputs": [],
   "source": [
    "cropped_src = (ImageList.from_df(train_df,cropped_path, cols='filename_cropped')\n",
    "       .split_by_rand_pct(0.2, seed=42).label_from_df('class_name'))"
   ]
  },
  {
   "cell_type": "code",
   "execution_count": 88,
   "metadata": {},
   "outputs": [],
   "source": [
    "cropped_data128 = (cropped_src.transform(get_transforms(max_zoom=1.),size=128).databunch(bs=64).normalize(imagenet_stats))"
   ]
  },
  {
   "cell_type": "code",
   "execution_count": 89,
   "metadata": {},
   "outputs": [],
   "source": [
    "learn.load('3-resnet-152-128-v2-5ep-lr1e-6,3e-4-wd1e-3');"
   ]
  },
  {
   "cell_type": "code",
   "execution_count": 90,
   "metadata": {},
   "outputs": [],
   "source": [
    "learn.data = cropped_data128"
   ]
  },
  {
   "cell_type": "code",
   "execution_count": 91,
   "metadata": {},
   "outputs": [],
   "source": [
    "learn.freeze()"
   ]
  },
  {
   "cell_type": "code",
   "execution_count": 92,
   "metadata": {},
   "outputs": [
    {
     "data": {
      "text/html": [],
      "text/plain": [
       "<IPython.core.display.HTML object>"
      ]
     },
     "metadata": {},
     "output_type": "display_data"
    },
    {
     "name": "stdout",
     "output_type": "stream",
     "text": [
      "LR Finder is complete, type {learner_name}.recorder.plot() to see the graph.\n"
     ]
    },
    {
     "data": {
      "image/png": "[encoded data removed]",
      "text/plain": [
       "<Figure size 432x288 with 1 Axes>"
      ]
     },
     "metadata": {
      "needs_background": "light"
     },
     "output_type": "display_data"
    }
   ],
   "source": [
    "learn.lr_find(wd=1e-3)\n",
    "learn.recorder.plot()"
   ]
  },
  {
   "cell_type": "code",
   "execution_count": 93,
   "metadata": {},
   "outputs": [
    {
     "data": {
      "text/html": [
       "<table border=\"1\" class=\"dataframe\">\n",
       "  <thead>\n",
       "    <tr style=\"text-align: left;\">\n",
       "      <th>epoch</th>\n",
       "      <th>train_loss</th>\n",
       "      <th>valid_loss</th>\n",
       "      <th>error_rate</th>\n",
       "      <th>accuracy</th>\n",
       "      <th>precision</th>\n",
       "      <th>recall</th>\n",
       "      <th>time</th>\n",
       "    </tr>\n",
       "  </thead>\n",
       "  <tbody>\n",
       "    <tr>\n",
       "      <td>0</td>\n",
       "      <td>2.138529</td>\n",
       "      <td>3.287102</td>\n",
       "      <td>0.745700</td>\n",
       "      <td>0.254300</td>\n",
       "      <td>nan</td>\n",
       "      <td>0.254300</td>\n",
       "      <td>00:56</td>\n",
       "    </tr>\n",
       "    <tr>\n",
       "      <td>1</td>\n",
       "      <td>2.699991</td>\n",
       "      <td>3.493646</td>\n",
       "      <td>0.757985</td>\n",
       "      <td>0.242015</td>\n",
       "      <td>nan</td>\n",
       "      <td>0.242015</td>\n",
       "      <td>00:54</td>\n",
       "    </tr>\n",
       "    <tr>\n",
       "      <td>2</td>\n",
       "      <td>2.289794</td>\n",
       "      <td>2.103782</td>\n",
       "      <td>0.539926</td>\n",
       "      <td>0.460074</td>\n",
       "      <td>nan</td>\n",
       "      <td>0.460074</td>\n",
       "      <td>00:54</td>\n",
       "    </tr>\n",
       "    <tr>\n",
       "      <td>3</td>\n",
       "      <td>1.741220</td>\n",
       "      <td>1.388940</td>\n",
       "      <td>0.380835</td>\n",
       "      <td>0.619165</td>\n",
       "      <td>0.677422</td>\n",
       "      <td>0.619165</td>\n",
       "      <td>00:54</td>\n",
       "    </tr>\n",
       "    <tr>\n",
       "      <td>4</td>\n",
       "      <td>1.377719</td>\n",
       "      <td>1.271232</td>\n",
       "      <td>0.348894</td>\n",
       "      <td>0.651106</td>\n",
       "      <td>0.692314</td>\n",
       "      <td>0.651106</td>\n",
       "      <td>00:53</td>\n",
       "    </tr>\n",
       "  </tbody>\n",
       "</table>"
      ],
      "text/plain": [
       "<IPython.core.display.HTML object>"
      ]
     },
     "metadata": {},
     "output_type": "display_data"
    }
   ],
   "source": [
    "learn.fit_one_cycle(5,1e-2,wd=1e-3)"
   ]
  },
  {
   "cell_type": "code",
   "execution_count": 94,
   "metadata": {},
   "outputs": [],
   "source": [
    "learn.save('3-resnet152-v1-cropped128-5ep-lr1e-2-wd1e-3')"
   ]
  },
  {
   "cell_type": "markdown",
   "metadata": {},
   "source": [
    "### Stage 4\n",
    "- Unfreezing model for cropped image"
   ]
  },
  {
   "cell_type": "code",
   "execution_count": 95,
   "metadata": {},
   "outputs": [],
   "source": [
    "learn.load('3-resnet152-v1-cropped128-5ep-lr1e-2-wd1e-3');"
   ]
  },
  {
   "cell_type": "code",
   "execution_count": 96,
   "metadata": {},
   "outputs": [],
   "source": [
    "learn.unfreeze()"
   ]
  },
  {
   "cell_type": "code",
   "execution_count": 97,
   "metadata": {},
   "outputs": [
    {
     "data": {
      "text/html": [],
      "text/plain": [
       "<IPython.core.display.HTML object>"
      ]
     },
     "metadata": {},
     "output_type": "display_data"
    },
    {
     "name": "stdout",
     "output_type": "stream",
     "text": [
      "LR Finder is complete, type {learner_name}.recorder.plot() to see the graph.\n"
     ]
    }
   ],
   "source": [
    "learn.lr_find(wd=1e-3)"
   ]
  },
  {
   "cell_type": "code",
   "execution_count": 98,
   "metadata": {},
   "outputs": [
    {
     "data": {
      "image/png": "[encoded data removed]",
      "text/plain": [
       "<Figure size 432x288 with 1 Axes>"
      ]
     },
     "metadata": {
      "needs_background": "light"
     },
     "output_type": "display_data"
    }
   ],
   "source": [
    "learn.recorder.plot()"
   ]
  },
  {
   "cell_type": "code",
   "execution_count": 99,
   "metadata": {},
   "outputs": [
    {
     "data": {
      "text/html": [
       "<table border=\"1\" class=\"dataframe\">\n",
       "  <thead>\n",
       "    <tr style=\"text-align: left;\">\n",
       "      <th>epoch</th>\n",
       "      <th>train_loss</th>\n",
       "      <th>valid_loss</th>\n",
       "      <th>error_rate</th>\n",
       "      <th>accuracy</th>\n",
       "      <th>precision</th>\n",
       "      <th>recall</th>\n",
       "      <th>time</th>\n",
       "    </tr>\n",
       "  </thead>\n",
       "  <tbody>\n",
       "    <tr>\n",
       "      <td>0</td>\n",
       "      <td>1.224101</td>\n",
       "      <td>1.242659</td>\n",
       "      <td>0.346437</td>\n",
       "      <td>0.653563</td>\n",
       "      <td>0.687040</td>\n",
       "      <td>0.653563</td>\n",
       "      <td>01:09</td>\n",
       "    </tr>\n",
       "    <tr>\n",
       "      <td>1</td>\n",
       "      <td>1.193846</td>\n",
       "      <td>1.204270</td>\n",
       "      <td>0.326781</td>\n",
       "      <td>0.673219</td>\n",
       "      <td>0.709055</td>\n",
       "      <td>0.673219</td>\n",
       "      <td>01:08</td>\n",
       "    </tr>\n",
       "    <tr>\n",
       "      <td>2</td>\n",
       "      <td>1.114224</td>\n",
       "      <td>1.140540</td>\n",
       "      <td>0.306511</td>\n",
       "      <td>0.693489</td>\n",
       "      <td>0.727093</td>\n",
       "      <td>0.693489</td>\n",
       "      <td>01:08</td>\n",
       "    </tr>\n",
       "    <tr>\n",
       "      <td>3</td>\n",
       "      <td>1.005404</td>\n",
       "      <td>1.075678</td>\n",
       "      <td>0.292383</td>\n",
       "      <td>0.707617</td>\n",
       "      <td>0.735870</td>\n",
       "      <td>0.707617</td>\n",
       "      <td>01:08</td>\n",
       "    </tr>\n",
       "    <tr>\n",
       "      <td>4</td>\n",
       "      <td>0.958708</td>\n",
       "      <td>1.070176</td>\n",
       "      <td>0.293612</td>\n",
       "      <td>0.706388</td>\n",
       "      <td>0.737039</td>\n",
       "      <td>0.706388</td>\n",
       "      <td>01:08</td>\n",
       "    </tr>\n",
       "  </tbody>\n",
       "</table>"
      ],
      "text/plain": [
       "<IPython.core.display.HTML object>"
      ]
     },
     "metadata": {},
     "output_type": "display_data"
    }
   ],
   "source": [
    "learn.fit_one_cycle(5,slice(1e-6,3e-4),wd=1e-3)"
   ]
  },
  {
   "cell_type": "code",
   "execution_count": 100,
   "metadata": {},
   "outputs": [],
   "source": [
    "learn.save('3-resnet152-v2-cropped128-5ep-lr1e-6,3e-4-wd1e-3')"
   ]
  },
  {
   "cell_type": "markdown",
   "metadata": {},
   "source": [
    "### Stage 5 \n",
    "- resized to 224"
   ]
  },
  {
   "cell_type": "code",
   "execution_count": 101,
   "metadata": {},
   "outputs": [],
   "source": [
    "learn.load('3-resnet152-v2-cropped128-5ep-lr1e-6,3e-4-wd1e-3');"
   ]
  },
  {
   "cell_type": "code",
   "execution_count": 102,
   "metadata": {},
   "outputs": [],
   "source": [
    "data224= (src.transform(tfms,size=224).databunch(bs=32).normalize(imagenet_stats))"
   ]
  },
  {
   "cell_type": "code",
   "execution_count": 103,
   "metadata": {},
   "outputs": [],
   "source": [
    "learn.data = data224"
   ]
  },
  {
   "cell_type": "code",
   "execution_count": 104,
   "metadata": {},
   "outputs": [],
   "source": [
    "learn.freeze()"
   ]
  },
  {
   "cell_type": "code",
   "execution_count": 105,
   "metadata": {},
   "outputs": [
    {
     "data": {
      "text/html": [],
      "text/plain": [
       "<IPython.core.display.HTML object>"
      ]
     },
     "metadata": {},
     "output_type": "display_data"
    },
    {
     "name": "stdout",
     "output_type": "stream",
     "text": [
      "LR Finder is complete, type {learner_name}.recorder.plot() to see the graph.\n"
     ]
    },
    {
     "data": {
      "image/png": "[encoded data removed]",
      "text/plain": [
       "<Figure size 432x288 with 1 Axes>"
      ]
     },
     "metadata": {
      "needs_background": "light"
     },
     "output_type": "display_data"
    }
   ],
   "source": [
    "learn.lr_find()\n",
    "learn.recorder.plot()"
   ]
  },
  {
   "cell_type": "code",
   "execution_count": 106,
   "metadata": {},
   "outputs": [
    {
     "data": {
      "text/html": [
       "<table border=\"1\" class=\"dataframe\">\n",
       "  <thead>\n",
       "    <tr style=\"text-align: left;\">\n",
       "      <th>epoch</th>\n",
       "      <th>train_loss</th>\n",
       "      <th>valid_loss</th>\n",
       "      <th>error_rate</th>\n",
       "      <th>accuracy</th>\n",
       "      <th>precision</th>\n",
       "      <th>recall</th>\n",
       "      <th>time</th>\n",
       "    </tr>\n",
       "  </thead>\n",
       "  <tbody>\n",
       "    <tr>\n",
       "      <td>0</td>\n",
       "      <td>1.038781</td>\n",
       "      <td>1.040930</td>\n",
       "      <td>0.285012</td>\n",
       "      <td>0.714988</td>\n",
       "      <td>nan</td>\n",
       "      <td>0.714988</td>\n",
       "      <td>02:32</td>\n",
       "    </tr>\n",
       "    <tr>\n",
       "      <td>1</td>\n",
       "      <td>1.118161</td>\n",
       "      <td>1.034068</td>\n",
       "      <td>0.288698</td>\n",
       "      <td>0.711302</td>\n",
       "      <td>0.776620</td>\n",
       "      <td>0.711302</td>\n",
       "      <td>02:33</td>\n",
       "    </tr>\n",
       "    <tr>\n",
       "      <td>2</td>\n",
       "      <td>0.951176</td>\n",
       "      <td>0.879436</td>\n",
       "      <td>0.254300</td>\n",
       "      <td>0.745700</td>\n",
       "      <td>0.788107</td>\n",
       "      <td>0.745700</td>\n",
       "      <td>02:31</td>\n",
       "    </tr>\n",
       "    <tr>\n",
       "      <td>3</td>\n",
       "      <td>0.630489</td>\n",
       "      <td>0.736352</td>\n",
       "      <td>0.202088</td>\n",
       "      <td>0.797912</td>\n",
       "      <td>0.820987</td>\n",
       "      <td>0.797912</td>\n",
       "      <td>02:32</td>\n",
       "    </tr>\n",
       "    <tr>\n",
       "      <td>4</td>\n",
       "      <td>0.507228</td>\n",
       "      <td>0.711955</td>\n",
       "      <td>0.199631</td>\n",
       "      <td>0.800369</td>\n",
       "      <td>0.820177</td>\n",
       "      <td>0.800369</td>\n",
       "      <td>02:33</td>\n",
       "    </tr>\n",
       "  </tbody>\n",
       "</table>"
      ],
      "text/plain": [
       "<IPython.core.display.HTML object>"
      ]
     },
     "metadata": {},
     "output_type": "display_data"
    }
   ],
   "source": [
    "learn.fit_one_cycle(5,3e-3,wd=1e-3)"
   ]
  },
  {
   "cell_type": "code",
   "execution_count": 107,
   "metadata": {},
   "outputs": [],
   "source": [
    "learn.save('3-resnet152-v1-224-5ep-lr3e-3-wd1e-3')"
   ]
  },
  {
   "cell_type": "markdown",
   "metadata": {},
   "source": [
    "#### Stage-6\n",
    "- Unfreezing the model for data sized 224"
   ]
  },
  {
   "cell_type": "code",
   "execution_count": 108,
   "metadata": {},
   "outputs": [],
   "source": [
    "learn.load('3-resnet152-v1-224-5ep-lr3e-3-wd1e-3');"
   ]
  },
  {
   "cell_type": "code",
   "execution_count": 109,
   "metadata": {},
   "outputs": [],
   "source": [
    "learn.unfreeze()"
   ]
  },
  {
   "cell_type": "code",
   "execution_count": 110,
   "metadata": {},
   "outputs": [
    {
     "data": {
      "text/html": [],
      "text/plain": [
       "<IPython.core.display.HTML object>"
      ]
     },
     "metadata": {},
     "output_type": "display_data"
    },
    {
     "name": "stdout",
     "output_type": "stream",
     "text": [
      "LR Finder is complete, type {learner_name}.recorder.plot() to see the graph.\n"
     ]
    }
   ],
   "source": [
    "learn.lr_find(wd=1e-3)"
   ]
  },
  {
   "cell_type": "code",
   "execution_count": 111,
   "metadata": {},
   "outputs": [
    {
     "data": {
      "image/png": "[encoded data removed]",
      "text/plain": [
       "<Figure size 432x288 with 1 Axes>"
      ]
     },
     "metadata": {
      "needs_background": "light"
     },
     "output_type": "display_data"
    }
   ],
   "source": [
    "learn.recorder.plot()"
   ]
  },
  {
   "cell_type": "code",
   "execution_count": 112,
   "metadata": {},
   "outputs": [
    {
     "data": {
      "text/html": [
       "<table border=\"1\" class=\"dataframe\">\n",
       "  <thead>\n",
       "    <tr style=\"text-align: left;\">\n",
       "      <th>epoch</th>\n",
       "      <th>train_loss</th>\n",
       "      <th>valid_loss</th>\n",
       "      <th>error_rate</th>\n",
       "      <th>accuracy</th>\n",
       "      <th>precision</th>\n",
       "      <th>recall</th>\n",
       "      <th>time</th>\n",
       "    </tr>\n",
       "  </thead>\n",
       "  <tbody>\n",
       "    <tr>\n",
       "      <td>0</td>\n",
       "      <td>0.522418</td>\n",
       "      <td>0.743402</td>\n",
       "      <td>0.211916</td>\n",
       "      <td>0.788084</td>\n",
       "      <td>0.813446</td>\n",
       "      <td>0.788084</td>\n",
       "      <td>03:17</td>\n",
       "    </tr>\n",
       "    <tr>\n",
       "      <td>1</td>\n",
       "      <td>0.596078</td>\n",
       "      <td>0.743302</td>\n",
       "      <td>0.210074</td>\n",
       "      <td>0.789926</td>\n",
       "      <td>0.815516</td>\n",
       "      <td>0.789926</td>\n",
       "      <td>03:19</td>\n",
       "    </tr>\n",
       "    <tr>\n",
       "      <td>2</td>\n",
       "      <td>0.510956</td>\n",
       "      <td>0.703305</td>\n",
       "      <td>0.197174</td>\n",
       "      <td>0.802826</td>\n",
       "      <td>0.823784</td>\n",
       "      <td>0.802826</td>\n",
       "      <td>03:18</td>\n",
       "    </tr>\n",
       "    <tr>\n",
       "      <td>3</td>\n",
       "      <td>0.419995</td>\n",
       "      <td>0.652623</td>\n",
       "      <td>0.186118</td>\n",
       "      <td>0.813882</td>\n",
       "      <td>0.831880</td>\n",
       "      <td>0.813882</td>\n",
       "      <td>03:19</td>\n",
       "    </tr>\n",
       "    <tr>\n",
       "      <td>4</td>\n",
       "      <td>0.368820</td>\n",
       "      <td>0.643411</td>\n",
       "      <td>0.183661</td>\n",
       "      <td>0.816339</td>\n",
       "      <td>0.835844</td>\n",
       "      <td>0.816339</td>\n",
       "      <td>03:18</td>\n",
       "    </tr>\n",
       "  </tbody>\n",
       "</table>"
      ],
      "text/plain": [
       "<IPython.core.display.HTML object>"
      ]
     },
     "metadata": {},
     "output_type": "display_data"
    }
   ],
   "source": [
    "learn.fit_one_cycle(5,slice(3e-6,1e-4),wd=1e-3)"
   ]
  },
  {
   "cell_type": "code",
   "execution_count": 113,
   "metadata": {},
   "outputs": [],
   "source": [
    "learn.save('3-resnet152-v2-224-5ep-lr3e-6,1e-4-wd1e-3')"
   ]
  },
  {
   "cell_type": "markdown",
   "metadata": {},
   "source": [
    "#### Stage-7\n",
    "- with cropped images 224"
   ]
  },
  {
   "cell_type": "code",
   "execution_count": 116,
   "metadata": {},
   "outputs": [],
   "source": [
    "cropped_data224 = (cropped_src.transform(get_transforms(max_zoom=1.),size=224).databunch(bs=32).normalize(imagenet_stats))"
   ]
  },
  {
   "cell_type": "code",
   "execution_count": 117,
   "metadata": {},
   "outputs": [],
   "source": [
    "learn.data = cropped_data224"
   ]
  },
  {
   "cell_type": "code",
   "execution_count": 36,
   "metadata": {},
   "outputs": [],
   "source": [
    "#To free up some memory\n",
    "learn.purge;"
   ]
  },
  {
   "cell_type": "code",
   "execution_count": 124,
   "metadata": {},
   "outputs": [],
   "source": [
    "learn.load('3-resnet152-v2-224-5ep-lr3e-6,1e-4-wd1e-3');"
   ]
  },
  {
   "cell_type": "code",
   "execution_count": 120,
   "metadata": {},
   "outputs": [],
   "source": [
    "learn.freeze()"
   ]
  },
  {
   "cell_type": "code",
   "execution_count": 121,
   "metadata": {},
   "outputs": [
    {
     "data": {
      "text/html": [],
      "text/plain": [
       "<IPython.core.display.HTML object>"
      ]
     },
     "metadata": {},
     "output_type": "display_data"
    },
    {
     "name": "stdout",
     "output_type": "stream",
     "text": [
      "LR Finder is complete, type {learner_name}.recorder.plot() to see the graph.\n"
     ]
    },
    {
     "data": {
      "image/png": "[encoded data removed]",
      "text/plain": [
       "<Figure size 432x288 with 1 Axes>"
      ]
     },
     "metadata": {
      "needs_background": "light"
     },
     "output_type": "display_data"
    }
   ],
   "source": [
    "learn.lr_find(wd=1e-3)\n",
    "learn.recorder.plot()"
   ]
  },
  {
   "cell_type": "code",
   "execution_count": 122,
   "metadata": {},
   "outputs": [
    {
     "data": {
      "text/html": [
       "<table border=\"1\" class=\"dataframe\">\n",
       "  <thead>\n",
       "    <tr style=\"text-align: left;\">\n",
       "      <th>epoch</th>\n",
       "      <th>train_loss</th>\n",
       "      <th>valid_loss</th>\n",
       "      <th>error_rate</th>\n",
       "      <th>accuracy</th>\n",
       "      <th>precision</th>\n",
       "      <th>recall</th>\n",
       "      <th>time</th>\n",
       "    </tr>\n",
       "  </thead>\n",
       "  <tbody>\n",
       "    <tr>\n",
       "      <td>0</td>\n",
       "      <td>1.452858</td>\n",
       "      <td>2.443820</td>\n",
       "      <td>0.568796</td>\n",
       "      <td>0.431204</td>\n",
       "      <td>nan</td>\n",
       "      <td>0.431204</td>\n",
       "      <td>02:30</td>\n",
       "    </tr>\n",
       "    <tr>\n",
       "      <td>1</td>\n",
       "      <td>2.167296</td>\n",
       "      <td>2.061477</td>\n",
       "      <td>0.506142</td>\n",
       "      <td>0.493858</td>\n",
       "      <td>nan</td>\n",
       "      <td>0.493858</td>\n",
       "      <td>02:30</td>\n",
       "    </tr>\n",
       "    <tr>\n",
       "      <td>2</td>\n",
       "      <td>1.707191</td>\n",
       "      <td>1.473007</td>\n",
       "      <td>0.407248</td>\n",
       "      <td>0.592752</td>\n",
       "      <td>nan</td>\n",
       "      <td>0.592752</td>\n",
       "      <td>02:31</td>\n",
       "    </tr>\n",
       "    <tr>\n",
       "      <td>3</td>\n",
       "      <td>1.109409</td>\n",
       "      <td>0.975648</td>\n",
       "      <td>0.282555</td>\n",
       "      <td>0.717445</td>\n",
       "      <td>nan</td>\n",
       "      <td>0.717445</td>\n",
       "      <td>02:30</td>\n",
       "    </tr>\n",
       "    <tr>\n",
       "      <td>4</td>\n",
       "      <td>0.862680</td>\n",
       "      <td>0.854844</td>\n",
       "      <td>0.248772</td>\n",
       "      <td>0.751229</td>\n",
       "      <td>0.773108</td>\n",
       "      <td>0.751228</td>\n",
       "      <td>02:30</td>\n",
       "    </tr>\n",
       "  </tbody>\n",
       "</table>"
      ],
      "text/plain": [
       "<IPython.core.display.HTML object>"
      ]
     },
     "metadata": {},
     "output_type": "display_data"
    }
   ],
   "source": [
    "learn.fit_one_cycle(5,1e-2,wd=1e-3)"
   ]
  },
  {
   "cell_type": "code",
   "execution_count": 125,
   "metadata": {},
   "outputs": [
    {
     "data": {
      "text/html": [
       "<table border=\"1\" class=\"dataframe\">\n",
       "  <thead>\n",
       "    <tr style=\"text-align: left;\">\n",
       "      <th>epoch</th>\n",
       "      <th>train_loss</th>\n",
       "      <th>valid_loss</th>\n",
       "      <th>error_rate</th>\n",
       "      <th>accuracy</th>\n",
       "      <th>precision</th>\n",
       "      <th>recall</th>\n",
       "      <th>time</th>\n",
       "    </tr>\n",
       "  </thead>\n",
       "  <tbody>\n",
       "    <tr>\n",
       "      <td>0</td>\n",
       "      <td>0.977701</td>\n",
       "      <td>1.158290</td>\n",
       "      <td>0.309582</td>\n",
       "      <td>0.690418</td>\n",
       "      <td>0.732649</td>\n",
       "      <td>0.690418</td>\n",
       "      <td>02:30</td>\n",
       "    </tr>\n",
       "    <tr>\n",
       "      <td>1</td>\n",
       "      <td>1.067738</td>\n",
       "      <td>1.169689</td>\n",
       "      <td>0.323096</td>\n",
       "      <td>0.676904</td>\n",
       "      <td>nan</td>\n",
       "      <td>0.676904</td>\n",
       "      <td>02:31</td>\n",
       "    </tr>\n",
       "    <tr>\n",
       "      <td>2</td>\n",
       "      <td>0.937942</td>\n",
       "      <td>0.970014</td>\n",
       "      <td>0.259828</td>\n",
       "      <td>0.740172</td>\n",
       "      <td>0.776676</td>\n",
       "      <td>0.740172</td>\n",
       "      <td>02:31</td>\n",
       "    </tr>\n",
       "    <tr>\n",
       "      <td>3</td>\n",
       "      <td>0.741436</td>\n",
       "      <td>0.851953</td>\n",
       "      <td>0.235872</td>\n",
       "      <td>0.764128</td>\n",
       "      <td>0.793535</td>\n",
       "      <td>0.764128</td>\n",
       "      <td>02:30</td>\n",
       "    </tr>\n",
       "    <tr>\n",
       "      <td>4</td>\n",
       "      <td>0.629359</td>\n",
       "      <td>0.809090</td>\n",
       "      <td>0.223587</td>\n",
       "      <td>0.776413</td>\n",
       "      <td>0.800145</td>\n",
       "      <td>0.776413</td>\n",
       "      <td>02:31</td>\n",
       "    </tr>\n",
       "  </tbody>\n",
       "</table>"
      ],
      "text/plain": [
       "<IPython.core.display.HTML object>"
      ]
     },
     "metadata": {},
     "output_type": "display_data"
    }
   ],
   "source": [
    "learn.fit_one_cycle(5,3e-3,wd=1e-3)"
   ]
  },
  {
   "cell_type": "code",
   "execution_count": 126,
   "metadata": {},
   "outputs": [],
   "source": [
    "learn.save('3-resnet152-v1-cropped224-5ep-lr3e-3-wd1e-3')"
   ]
  },
  {
   "cell_type": "markdown",
   "metadata": {},
   "source": [
    "### Stage 8\n",
    "- Unfreezing model for cropped image 224"
   ]
  },
  {
   "cell_type": "code",
   "execution_count": 144,
   "metadata": {},
   "outputs": [],
   "source": [
    "learn.load('3-resnet152-v1-cropped224-5ep-lr3e-3-wd1e-3');"
   ]
  },
  {
   "cell_type": "code",
   "execution_count": 145,
   "metadata": {},
   "outputs": [],
   "source": [
    "learn.unfreeze()"
   ]
  },
  {
   "cell_type": "code",
   "execution_count": 146,
   "metadata": {},
   "outputs": [
    {
     "data": {
      "text/html": [],
      "text/plain": [
       "<IPython.core.display.HTML object>"
      ]
     },
     "metadata": {},
     "output_type": "display_data"
    },
    {
     "name": "stdout",
     "output_type": "stream",
     "text": [
      "LR Finder is complete, type {learner_name}.recorder.plot() to see the graph.\n"
     ]
    }
   ],
   "source": [
    "learn.lr_find(wd=1e-3)"
   ]
  },
  {
   "cell_type": "code",
   "execution_count": 147,
   "metadata": {},
   "outputs": [
    {
     "data": {
      "image/png": "[encoded data removed]",
      "text/plain": [
       "<Figure size 432x288 with 1 Axes>"
      ]
     },
     "metadata": {
      "needs_background": "light"
     },
     "output_type": "display_data"
    }
   ],
   "source": [
    "learn.recorder.plot()"
   ]
  },
  {
   "cell_type": "code",
   "execution_count": 148,
   "metadata": {},
   "outputs": [
    {
     "data": {
      "text/html": [
       "<table border=\"1\" class=\"dataframe\">\n",
       "  <thead>\n",
       "    <tr style=\"text-align: left;\">\n",
       "      <th>epoch</th>\n",
       "      <th>train_loss</th>\n",
       "      <th>valid_loss</th>\n",
       "      <th>error_rate</th>\n",
       "      <th>accuracy</th>\n",
       "      <th>precision</th>\n",
       "      <th>recall</th>\n",
       "      <th>time</th>\n",
       "    </tr>\n",
       "  </thead>\n",
       "  <tbody>\n",
       "    <tr>\n",
       "      <td>0</td>\n",
       "      <td>0.368552</td>\n",
       "      <td>0.587306</td>\n",
       "      <td>0.171376</td>\n",
       "      <td>0.828624</td>\n",
       "      <td>0.851205</td>\n",
       "      <td>0.828624</td>\n",
       "      <td>03:15</td>\n",
       "    </tr>\n",
       "    <tr>\n",
       "      <td>1</td>\n",
       "      <td>0.359638</td>\n",
       "      <td>0.596699</td>\n",
       "      <td>0.174447</td>\n",
       "      <td>0.825553</td>\n",
       "      <td>0.847128</td>\n",
       "      <td>0.825553</td>\n",
       "      <td>03:16</td>\n",
       "    </tr>\n",
       "    <tr>\n",
       "      <td>2</td>\n",
       "      <td>0.202578</td>\n",
       "      <td>0.498603</td>\n",
       "      <td>0.140049</td>\n",
       "      <td>0.859951</td>\n",
       "      <td>0.874086</td>\n",
       "      <td>0.859951</td>\n",
       "      <td>03:16</td>\n",
       "    </tr>\n",
       "    <tr>\n",
       "      <td>3</td>\n",
       "      <td>0.112822</td>\n",
       "      <td>0.454683</td>\n",
       "      <td>0.125921</td>\n",
       "      <td>0.874079</td>\n",
       "      <td>0.889783</td>\n",
       "      <td>0.874079</td>\n",
       "      <td>03:15</td>\n",
       "    </tr>\n",
       "    <tr>\n",
       "      <td>4</td>\n",
       "      <td>0.077992</td>\n",
       "      <td>0.455804</td>\n",
       "      <td>0.122850</td>\n",
       "      <td>0.877150</td>\n",
       "      <td>0.893526</td>\n",
       "      <td>0.877150</td>\n",
       "      <td>03:16</td>\n",
       "    </tr>\n",
       "  </tbody>\n",
       "</table>"
      ],
      "text/plain": [
       "<IPython.core.display.HTML object>"
      ]
     },
     "metadata": {},
     "output_type": "display_data"
    }
   ],
   "source": [
    "learn.fit_one_cycle(5,slice(1e-5,1e-4),wd=1e-3)"
   ]
  },
  {
   "cell_type": "code",
   "execution_count": 149,
   "metadata": {},
   "outputs": [],
   "source": [
    "learn.save('3-resnet152-v2-cropped224-5ep-lr1e-4,1e-4-wd1e-3')"
   ]
  },
  {
   "cell_type": "markdown",
   "metadata": {},
   "source": [
    "#### Stage-9\n",
    "- Last resizing to 299 "
   ]
  },
  {
   "cell_type": "code",
   "execution_count": null,
   "metadata": {},
   "outputs": [],
   "source": [
    "learn.purge;"
   ]
  },
  {
   "cell_type": "code",
   "execution_count": 151,
   "metadata": {},
   "outputs": [],
   "source": [
    "learn.load('3-resnet152-v2-cropped224-5ep-lr1e-4,1e-4-wd1e-3');"
   ]
  },
  {
   "cell_type": "code",
   "execution_count": 152,
   "metadata": {},
   "outputs": [],
   "source": [
    "data299 = (src.transform(tfms,size=299).databunch(bs=16).normalize(imagenet_stats))"
   ]
  },
  {
   "cell_type": "code",
   "execution_count": 153,
   "metadata": {},
   "outputs": [],
   "source": [
    "learn.data = data299"
   ]
  },
  {
   "cell_type": "code",
   "execution_count": 154,
   "metadata": {},
   "outputs": [],
   "source": [
    "learn.freeze()"
   ]
  },
  {
   "cell_type": "code",
   "execution_count": 156,
   "metadata": {},
   "outputs": [
    {
     "data": {
      "text/html": [],
      "text/plain": [
       "<IPython.core.display.HTML object>"
      ]
     },
     "metadata": {},
     "output_type": "display_data"
    },
    {
     "name": "stdout",
     "output_type": "stream",
     "text": [
      "LR Finder is complete, type {learner_name}.recorder.plot() to see the graph.\n"
     ]
    }
   ],
   "source": [
    "learn.lr_find(wd=1e-3)"
   ]
  },
  {
   "cell_type": "code",
   "execution_count": 157,
   "metadata": {},
   "outputs": [
    {
     "data": {
      "image/png": "[encoded data removed]",
      "text/plain": [
       "<Figure size 432x288 with 1 Axes>"
      ]
     },
     "metadata": {
      "needs_background": "light"
     },
     "output_type": "display_data"
    }
   ],
   "source": [
    "learn.recorder.plot()"
   ]
  },
  {
   "cell_type": "code",
   "execution_count": 158,
   "metadata": {},
   "outputs": [
    {
     "data": {
      "text/html": [
       "<table border=\"1\" class=\"dataframe\">\n",
       "  <thead>\n",
       "    <tr style=\"text-align: left;\">\n",
       "      <th>epoch</th>\n",
       "      <th>train_loss</th>\n",
       "      <th>valid_loss</th>\n",
       "      <th>error_rate</th>\n",
       "      <th>accuracy</th>\n",
       "      <th>precision</th>\n",
       "      <th>recall</th>\n",
       "      <th>time</th>\n",
       "    </tr>\n",
       "  </thead>\n",
       "  <tbody>\n",
       "    <tr>\n",
       "      <td>0</td>\n",
       "      <td>0.531425</td>\n",
       "      <td>0.704516</td>\n",
       "      <td>0.188575</td>\n",
       "      <td>0.811425</td>\n",
       "      <td>0.839868</td>\n",
       "      <td>0.811425</td>\n",
       "      <td>04:50</td>\n",
       "    </tr>\n",
       "    <tr>\n",
       "      <td>1</td>\n",
       "      <td>0.944315</td>\n",
       "      <td>0.970136</td>\n",
       "      <td>0.259828</td>\n",
       "      <td>0.740172</td>\n",
       "      <td>nan</td>\n",
       "      <td>0.740172</td>\n",
       "      <td>04:48</td>\n",
       "    </tr>\n",
       "    <tr>\n",
       "      <td>2</td>\n",
       "      <td>0.658982</td>\n",
       "      <td>0.704651</td>\n",
       "      <td>0.188575</td>\n",
       "      <td>0.811425</td>\n",
       "      <td>0.840696</td>\n",
       "      <td>0.811425</td>\n",
       "      <td>04:48</td>\n",
       "    </tr>\n",
       "    <tr>\n",
       "      <td>3</td>\n",
       "      <td>0.423920</td>\n",
       "      <td>0.577866</td>\n",
       "      <td>0.152334</td>\n",
       "      <td>0.847666</td>\n",
       "      <td>0.862954</td>\n",
       "      <td>0.847666</td>\n",
       "      <td>04:47</td>\n",
       "    </tr>\n",
       "    <tr>\n",
       "      <td>4</td>\n",
       "      <td>0.319245</td>\n",
       "      <td>0.563733</td>\n",
       "      <td>0.150491</td>\n",
       "      <td>0.849509</td>\n",
       "      <td>0.864729</td>\n",
       "      <td>0.849509</td>\n",
       "      <td>04:48</td>\n",
       "    </tr>\n",
       "  </tbody>\n",
       "</table>"
      ],
      "text/plain": [
       "<IPython.core.display.HTML object>"
      ]
     },
     "metadata": {},
     "output_type": "display_data"
    }
   ],
   "source": [
    "learn.fit_one_cycle(5,3e-3,wd=1e-3)"
   ]
  },
  {
   "cell_type": "code",
   "execution_count": 159,
   "metadata": {},
   "outputs": [],
   "source": [
    "learn.save('3-resnet152-v1-299-5ep-lr3e-3-wd1e-3')"
   ]
  },
  {
   "cell_type": "markdown",
   "metadata": {},
   "source": [
    "#### Stage-10 \n",
    "- Unfreezing and last 5 epochs "
   ]
  },
  {
   "cell_type": "code",
   "execution_count": 160,
   "metadata": {},
   "outputs": [],
   "source": [
    "learn.load('3-resnet152-v1-299-5ep-lr3e-3-wd1e-3');"
   ]
  },
  {
   "cell_type": "code",
   "execution_count": 161,
   "metadata": {},
   "outputs": [],
   "source": [
    "learn.unfreeze()"
   ]
  },
  {
   "cell_type": "code",
   "execution_count": 162,
   "metadata": {},
   "outputs": [
    {
     "data": {
      "text/html": [],
      "text/plain": [
       "<IPython.core.display.HTML object>"
      ]
     },
     "metadata": {},
     "output_type": "display_data"
    },
    {
     "name": "stdout",
     "output_type": "stream",
     "text": [
      "LR Finder is complete, type {learner_name}.recorder.plot() to see the graph.\n"
     ]
    }
   ],
   "source": [
    "learn.lr_find(wd=1e-3)"
   ]
  },
  {
   "cell_type": "code",
   "execution_count": 163,
   "metadata": {},
   "outputs": [
    {
     "data": {
      "image/png": "[encoded data removed]",
      "text/plain": [
       "<Figure size 432x288 with 1 Axes>"
      ]
     },
     "metadata": {
      "needs_background": "light"
     },
     "output_type": "display_data"
    }
   ],
   "source": [
    "learn.recorder.plot()"
   ]
  },
  {
   "cell_type": "code",
   "execution_count": 164,
   "metadata": {},
   "outputs": [
    {
     "data": {
      "text/html": [
       "<table border=\"1\" class=\"dataframe\">\n",
       "  <thead>\n",
       "    <tr style=\"text-align: left;\">\n",
       "      <th>epoch</th>\n",
       "      <th>train_loss</th>\n",
       "      <th>valid_loss</th>\n",
       "      <th>error_rate</th>\n",
       "      <th>accuracy</th>\n",
       "      <th>precision</th>\n",
       "      <th>recall</th>\n",
       "      <th>time</th>\n",
       "    </tr>\n",
       "  </thead>\n",
       "  <tbody>\n",
       "    <tr>\n",
       "      <td>0</td>\n",
       "      <td>0.315812</td>\n",
       "      <td>0.557246</td>\n",
       "      <td>0.147420</td>\n",
       "      <td>0.852580</td>\n",
       "      <td>0.867337</td>\n",
       "      <td>0.852580</td>\n",
       "      <td>06:18</td>\n",
       "    </tr>\n",
       "    <tr>\n",
       "      <td>1</td>\n",
       "      <td>0.313907</td>\n",
       "      <td>0.545517</td>\n",
       "      <td>0.151106</td>\n",
       "      <td>0.848894</td>\n",
       "      <td>0.863925</td>\n",
       "      <td>0.848894</td>\n",
       "      <td>06:19</td>\n",
       "    </tr>\n",
       "    <tr>\n",
       "      <td>2</td>\n",
       "      <td>0.289004</td>\n",
       "      <td>0.531201</td>\n",
       "      <td>0.140663</td>\n",
       "      <td>0.859337</td>\n",
       "      <td>0.873708</td>\n",
       "      <td>0.859337</td>\n",
       "      <td>06:19</td>\n",
       "    </tr>\n",
       "    <tr>\n",
       "      <td>3</td>\n",
       "      <td>0.240013</td>\n",
       "      <td>0.537993</td>\n",
       "      <td>0.143120</td>\n",
       "      <td>0.856880</td>\n",
       "      <td>0.871107</td>\n",
       "      <td>0.856880</td>\n",
       "      <td>06:19</td>\n",
       "    </tr>\n",
       "    <tr>\n",
       "      <td>4</td>\n",
       "      <td>0.246275</td>\n",
       "      <td>0.536013</td>\n",
       "      <td>0.142506</td>\n",
       "      <td>0.857494</td>\n",
       "      <td>0.873622</td>\n",
       "      <td>0.857494</td>\n",
       "      <td>06:19</td>\n",
       "    </tr>\n",
       "  </tbody>\n",
       "</table>"
      ],
      "text/plain": [
       "<IPython.core.display.HTML object>"
      ]
     },
     "metadata": {},
     "output_type": "display_data"
    }
   ],
   "source": [
    "learn.fit_one_cycle(5,slice(1e-6,2e-5), wd=0.01)"
   ]
  },
  {
   "cell_type": "code",
   "execution_count": 165,
   "metadata": {},
   "outputs": [],
   "source": [
    "learn.save('3-resnet152-v2-299-5ep-lr1e-6,2e-5-wd1e-3')"
   ]
  },
  {
   "cell_type": "code",
   "execution_count": 166,
   "metadata": {},
   "outputs": [],
   "source": [
    "learn.load('3-resnet152-v2-299-5ep-lr1e-6,2e-5-wd1e-3');"
   ]
  },
  {
   "cell_type": "code",
   "execution_count": 168,
   "metadata": {},
   "outputs": [
    {
     "data": {
      "text/html": [],
      "text/plain": [
       "<IPython.core.display.HTML object>"
      ]
     },
     "metadata": {},
     "output_type": "display_data"
    },
    {
     "name": "stdout",
     "output_type": "stream",
     "text": [
      "LR Finder is complete, type {learner_name}.recorder.plot() to see the graph.\n"
     ]
    }
   ],
   "source": [
    "learn.lr_find(wd=1e-3)"
   ]
  },
  {
   "cell_type": "code",
   "execution_count": 170,
   "metadata": {},
   "outputs": [
    {
     "data": {
      "image/png": "[encoded data removed]",
      "text/plain": [
       "<Figure size 432x288 with 1 Axes>"
      ]
     },
     "metadata": {
      "needs_background": "light"
     },
     "output_type": "display_data"
    }
   ],
   "source": [
    "learn.recorder.plot()"
   ]
  },
  {
   "cell_type": "code",
   "execution_count": 171,
   "metadata": {},
   "outputs": [
    {
     "data": {
      "text/html": [
       "<table border=\"1\" class=\"dataframe\">\n",
       "  <thead>\n",
       "    <tr style=\"text-align: left;\">\n",
       "      <th>epoch</th>\n",
       "      <th>train_loss</th>\n",
       "      <th>valid_loss</th>\n",
       "      <th>error_rate</th>\n",
       "      <th>accuracy</th>\n",
       "      <th>precision</th>\n",
       "      <th>recall</th>\n",
       "      <th>time</th>\n",
       "    </tr>\n",
       "  </thead>\n",
       "  <tbody>\n",
       "    <tr>\n",
       "      <td>0</td>\n",
       "      <td>0.250540</td>\n",
       "      <td>0.529618</td>\n",
       "      <td>0.135135</td>\n",
       "      <td>0.864865</td>\n",
       "      <td>0.877647</td>\n",
       "      <td>0.864865</td>\n",
       "      <td>06:19</td>\n",
       "    </tr>\n",
       "    <tr>\n",
       "      <td>1</td>\n",
       "      <td>0.256458</td>\n",
       "      <td>0.521913</td>\n",
       "      <td>0.139435</td>\n",
       "      <td>0.860565</td>\n",
       "      <td>0.872967</td>\n",
       "      <td>0.860565</td>\n",
       "      <td>06:19</td>\n",
       "    </tr>\n",
       "    <tr>\n",
       "      <td>2</td>\n",
       "      <td>0.250024</td>\n",
       "      <td>0.524316</td>\n",
       "      <td>0.140663</td>\n",
       "      <td>0.859337</td>\n",
       "      <td>0.873230</td>\n",
       "      <td>0.859337</td>\n",
       "      <td>06:19</td>\n",
       "    </tr>\n",
       "    <tr>\n",
       "      <td>3</td>\n",
       "      <td>0.236811</td>\n",
       "      <td>0.515255</td>\n",
       "      <td>0.137592</td>\n",
       "      <td>0.862408</td>\n",
       "      <td>0.876450</td>\n",
       "      <td>0.862408</td>\n",
       "      <td>06:19</td>\n",
       "    </tr>\n",
       "    <tr>\n",
       "      <td>4</td>\n",
       "      <td>0.208187</td>\n",
       "      <td>0.508917</td>\n",
       "      <td>0.133292</td>\n",
       "      <td>0.866708</td>\n",
       "      <td>0.878872</td>\n",
       "      <td>0.866708</td>\n",
       "      <td>06:18</td>\n",
       "    </tr>\n",
       "  </tbody>\n",
       "</table>"
      ],
      "text/plain": [
       "<IPython.core.display.HTML object>"
      ]
     },
     "metadata": {},
     "output_type": "display_data"
    }
   ],
   "source": [
    "learn.fit_one_cycle(5,slice(1e-6,1e-5),wd=1e-3)"
   ]
  },
  {
   "cell_type": "code",
   "execution_count": 172,
   "metadata": {},
   "outputs": [],
   "source": [
    "learn.save('3-resnet152-v3-299-5ep-lr1e-6,1e-5-wd1e-3')"
   ]
  },
  {
   "cell_type": "markdown",
   "metadata": {},
   "source": [
    "#### Stage-11\n",
    "- with cropped images 299"
   ]
  },
  {
   "cell_type": "code",
   "execution_count": 188,
   "metadata": {},
   "outputs": [],
   "source": [
    "cropped_data299 = (cropped_src.transform(get_transforms(max_zoom=1.),size=299).databunch(bs=16).normalize(imagenet_stats))"
   ]
  },
  {
   "cell_type": "code",
   "execution_count": 189,
   "metadata": {},
   "outputs": [],
   "source": [
    "learn.data = cropped_data299"
   ]
  },
  {
   "cell_type": "code",
   "execution_count": 36,
   "metadata": {},
   "outputs": [],
   "source": [
    "#To free up some memory\n",
    "learn.purge;"
   ]
  },
  {
   "cell_type": "code",
   "execution_count": 190,
   "metadata": {},
   "outputs": [],
   "source": [
    "learn.load('3-resnet152-v3-299-5ep-lr1e-6,1e-5-wd1e-3');"
   ]
  },
  {
   "cell_type": "code",
   "execution_count": 191,
   "metadata": {},
   "outputs": [],
   "source": [
    "learn.freeze()"
   ]
  },
  {
   "cell_type": "code",
   "execution_count": 192,
   "metadata": {},
   "outputs": [
    {
     "data": {
      "text/html": [],
      "text/plain": [
       "<IPython.core.display.HTML object>"
      ]
     },
     "metadata": {},
     "output_type": "display_data"
    },
    {
     "name": "stdout",
     "output_type": "stream",
     "text": [
      "LR Finder is complete, type {learner_name}.recorder.plot() to see the graph.\n"
     ]
    },
    {
     "data": {
      "image/png": "[encoded data removed]",
      "text/plain": [
       "<Figure size 432x288 with 1 Axes>"
      ]
     },
     "metadata": {
      "needs_background": "light"
     },
     "output_type": "display_data"
    }
   ],
   "source": [
    "learn.lr_find(wd=1e-3)\n",
    "learn.recorder.plot()"
   ]
  },
  {
   "cell_type": "code",
   "execution_count": null,
   "metadata": {},
   "outputs": [
    {
     "data": {
      "text/html": [
       "\n",
       "    <div>\n",
       "        <style>\n",
       "            /* Turns off some styling */\n",
       "            progress {\n",
       "                /* gets rid of default border in Firefox and Opera. */\n",
       "                border: none;\n",
       "                /* Needs to be in here for Safari polyfill so background images work as expected. */\n",
       "                background-size: auto;\n",
       "            }\n",
       "            .progress-bar-interrupted, .progress-bar-interrupted::-webkit-progress-bar {\n",
       "                background: #F44336;\n",
       "            }\n",
       "        </style>\n",
       "      <progress value='4' class='' max='5', style='width:300px; height:20px; vertical-align: middle;'></progress>\n",
       "      80.00% [4/5 19:09<04:47]\n",
       "    </div>\n",
       "    \n",
       "<table border=\"1\" class=\"dataframe\">\n",
       "  <thead>\n",
       "    <tr style=\"text-align: left;\">\n",
       "      <th>epoch</th>\n",
       "      <th>train_loss</th>\n",
       "      <th>valid_loss</th>\n",
       "      <th>error_rate</th>\n",
       "      <th>accuracy</th>\n",
       "      <th>precision</th>\n",
       "      <th>recall</th>\n",
       "      <th>time</th>\n",
       "    </tr>\n",
       "  </thead>\n",
       "  <tbody>\n",
       "    <tr>\n",
       "      <td>0</td>\n",
       "      <td>0.954351</td>\n",
       "      <td>1.188087</td>\n",
       "      <td>0.292383</td>\n",
       "      <td>0.707617</td>\n",
       "      <td>0.764854</td>\n",
       "      <td>0.707617</td>\n",
       "      <td>04:47</td>\n",
       "    </tr>\n",
       "    <tr>\n",
       "      <td>1</td>\n",
       "      <td>1.081625</td>\n",
       "      <td>1.138938</td>\n",
       "      <td>0.302826</td>\n",
       "      <td>0.697174</td>\n",
       "      <td>0.758877</td>\n",
       "      <td>0.697175</td>\n",
       "      <td>04:47</td>\n",
       "    </tr>\n",
       "    <tr>\n",
       "      <td>2</td>\n",
       "      <td>1.023799</td>\n",
       "      <td>0.909028</td>\n",
       "      <td>0.240172</td>\n",
       "      <td>0.759828</td>\n",
       "      <td>0.808124</td>\n",
       "      <td>0.759828</td>\n",
       "      <td>04:47</td>\n",
       "    </tr>\n",
       "    <tr>\n",
       "      <td>3</td>\n",
       "      <td>0.649248</td>\n",
       "      <td>0.741627</td>\n",
       "      <td>0.207002</td>\n",
       "      <td>0.792998</td>\n",
       "      <td>0.815193</td>\n",
       "      <td>0.792997</td>\n",
       "      <td>04:46</td>\n",
       "    </tr>\n",
       "  </tbody>\n",
       "</table><p>\n",
       "\n",
       "    <div>\n",
       "        <style>\n",
       "            /* Turns off some styling */\n",
       "            progress {\n",
       "                /* gets rid of default border in Firefox and Opera. */\n",
       "                border: none;\n",
       "                /* Needs to be in here for Safari polyfill so background images work as expected. */\n",
       "                background-size: auto;\n",
       "            }\n",
       "            .progress-bar-interrupted, .progress-bar-interrupted::-webkit-progress-bar {\n",
       "                background: #F44336;\n",
       "            }\n",
       "        </style>\n",
       "      <progress value='149' class='' max='407', style='width:300px; height:20px; vertical-align: middle;'></progress>\n",
       "      36.61% [149/407 01:35<02:45 0.5895]\n",
       "    </div>\n",
       "    "
      ],
      "text/plain": [
       "<IPython.core.display.HTML object>"
      ]
     },
     "metadata": {},
     "output_type": "display_data"
    }
   ],
   "source": [
    "learn.fit_one_cycle(5,3e-3,wd=1e-3)"
   ]
  },
  {
   "cell_type": "code",
   "execution_count": 126,
   "metadata": {},
   "outputs": [],
   "source": [
    "learn.save('3-resnet152-v1-cropped299-5ep-lr3e-3-wd1e-3')"
   ]
  },
  {
   "cell_type": "markdown",
   "metadata": {},
   "source": [
    "### Stage 12\n",
    "- Unfreezing model for cropped image 299"
   ]
  },
  {
   "cell_type": "code",
   "execution_count": 144,
   "metadata": {},
   "outputs": [],
   "source": [
    "learn.load('3-resnet152-v1-cropped299-5ep-lr3e-3-wd1e-3');"
   ]
  },
  {
   "cell_type": "code",
   "execution_count": 145,
   "metadata": {},
   "outputs": [],
   "source": [
    "learn.unfreeze()"
   ]
  },
  {
   "cell_type": "code",
   "execution_count": 146,
   "metadata": {},
   "outputs": [
    {
     "data": {
      "text/html": [],
      "text/plain": [
       "<IPython.core.display.HTML object>"
      ]
     },
     "metadata": {},
     "output_type": "display_data"
    },
    {
     "name": "stdout",
     "output_type": "stream",
     "text": [
      "LR Finder is complete, type {learner_name}.recorder.plot() to see the graph.\n"
     ]
    }
   ],
   "source": [
    "learn.lr_find(wd=1e-3)"
   ]
  },
  {
   "cell_type": "code",
   "execution_count": 147,
   "metadata": {},
   "outputs": [
    {
     "data": {
      "image/png": "[encoded data removed]",
      "text/plain": [
       "<Figure size 432x288 with 1 Axes>"
      ]
     },
     "metadata": {
      "needs_background": "light"
     },
     "output_type": "display_data"
    }
   ],
   "source": [
    "learn.recorder.plot()"
   ]
  },
  {
   "cell_type": "code",
   "execution_count": 148,
   "metadata": {},
   "outputs": [
    {
     "data": {
      "text/html": [
       "<table border=\"1\" class=\"dataframe\">\n",
       "  <thead>\n",
       "    <tr style=\"text-align: left;\">\n",
       "      <th>epoch</th>\n",
       "      <th>train_loss</th>\n",
       "      <th>valid_loss</th>\n",
       "      <th>error_rate</th>\n",
       "      <th>accuracy</th>\n",
       "      <th>precision</th>\n",
       "      <th>recall</th>\n",
       "      <th>time</th>\n",
       "    </tr>\n",
       "  </thead>\n",
       "  <tbody>\n",
       "    <tr>\n",
       "      <td>0</td>\n",
       "      <td>0.368552</td>\n",
       "      <td>0.587306</td>\n",
       "      <td>0.171376</td>\n",
       "      <td>0.828624</td>\n",
       "      <td>0.851205</td>\n",
       "      <td>0.828624</td>\n",
       "      <td>03:15</td>\n",
       "    </tr>\n",
       "    <tr>\n",
       "      <td>1</td>\n",
       "      <td>0.359638</td>\n",
       "      <td>0.596699</td>\n",
       "      <td>0.174447</td>\n",
       "      <td>0.825553</td>\n",
       "      <td>0.847128</td>\n",
       "      <td>0.825553</td>\n",
       "      <td>03:16</td>\n",
       "    </tr>\n",
       "    <tr>\n",
       "      <td>2</td>\n",
       "      <td>0.202578</td>\n",
       "      <td>0.498603</td>\n",
       "      <td>0.140049</td>\n",
       "      <td>0.859951</td>\n",
       "      <td>0.874086</td>\n",
       "      <td>0.859951</td>\n",
       "      <td>03:16</td>\n",
       "    </tr>\n",
       "    <tr>\n",
       "      <td>3</td>\n",
       "      <td>0.112822</td>\n",
       "      <td>0.454683</td>\n",
       "      <td>0.125921</td>\n",
       "      <td>0.874079</td>\n",
       "      <td>0.889783</td>\n",
       "      <td>0.874079</td>\n",
       "      <td>03:15</td>\n",
       "    </tr>\n",
       "    <tr>\n",
       "      <td>4</td>\n",
       "      <td>0.077992</td>\n",
       "      <td>0.455804</td>\n",
       "      <td>0.122850</td>\n",
       "      <td>0.877150</td>\n",
       "      <td>0.893526</td>\n",
       "      <td>0.877150</td>\n",
       "      <td>03:16</td>\n",
       "    </tr>\n",
       "  </tbody>\n",
       "</table>"
      ],
      "text/plain": [
       "<IPython.core.display.HTML object>"
      ]
     },
     "metadata": {},
     "output_type": "display_data"
    }
   ],
   "source": [
    "learn.fit_one_cycle(5,slice(1e-5,1e-4),wd=1e-3)"
   ]
  },
  {
   "cell_type": "code",
   "execution_count": 149,
   "metadata": {},
   "outputs": [],
   "source": [
    "learn.save('3-resnet152-v2-cropped224-5ep-lr1e-4,1e-4-wd1e-3')"
   ]
  },
  {
   "cell_type": "markdown",
   "metadata": {},
   "source": [
    "### Test Set Performance"
   ]
  },
  {
   "cell_type": "code",
   "execution_count": 183,
   "metadata": {},
   "outputs": [],
   "source": [
    "data_test = (ImageList.from_df(all_img_df,all_img_path,cols='filename')\n",
    "           .split_from_df(col='test').label_from_df(cols='class_name').transform(tfms,size=299).databunch(bs=64).normalize(imagenet_stats))"
   ]
  },
  {
   "cell_type": "code",
   "execution_count": 184,
   "metadata": {},
   "outputs": [],
   "source": [
    "learn.load('3-resnet152-v3-299-5ep-lr1e-6,1e-5-wd1e-3');"
   ]
  },
  {
   "cell_type": "code",
   "execution_count": 185,
   "metadata": {},
   "outputs": [],
   "source": [
    "learn.data = data_test"
   ]
  },
  {
   "cell_type": "code",
   "execution_count": 186,
   "metadata": {},
   "outputs": [
    {
     "data": {
      "text/html": [],
      "text/plain": [
       "<IPython.core.display.HTML object>"
      ]
     },
     "metadata": {},
     "output_type": "display_data"
    }
   ],
   "source": [
    "test_preds, test_ys = learn.TTA()"
   ]
  },
  {
   "cell_type": "code",
   "execution_count": 187,
   "metadata": {},
   "outputs": [
    {
     "data": {
      "text/plain": [
       "tensor(0.8790)"
      ]
     },
     "execution_count": 187,
     "metadata": {},
     "output_type": "execute_result"
    }
   ],
   "source": [
    "accuracy(test_preds,test_ys)"
   ]
  },
  {
   "cell_type": "markdown",
   "metadata": {},
   "source": [
    "Baseline accuracy will be 87.56% with resnet152"
   ]
  },
  {
   "cell_type": "code",
   "execution_count": null,
   "metadata": {},
   "outputs": [],
   "source": []
  }
 ],
 "metadata": {
  "kernelspec": {
   "display_name": "Python 3",
   "language": "python",
   "name": "python3"
  },
  "language_info": {
   "codemirror_mode": {
    "name": "ipython",
    "version": 3
   },
   "file_extension": ".py",
   "mimetype": "text/x-python",
   "name": "python",
   "nbconvert_exporter": "python",
   "pygments_lexer": "ipython3",
   "version": "3.7.3"
  }
 },
 "nbformat": 4,
 "nbformat_minor": 2
}
