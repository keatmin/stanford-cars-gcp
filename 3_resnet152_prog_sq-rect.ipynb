{
 "cells": [
  {
   "cell_type": "markdown",
   "metadata": {},
   "source": [
    "# Resnet152 with rectangular images\n",
    "### 92.45% TTA accuracy, 92.12% accuracy, 98.84% top5 accuracy on test set with 35 epochs\n",
    "### 92.39% weighted Precision and 92.12% weighted Recall\n",
    "\n",
    "Model is trained with **35 epochs** and has a **92.45% accuracy** on the test set, accuracy is achieved due to a different approach of training with **progressive resizing** and training with **rectangular images** based on the median of the aspect ratio of all images\n",
    "\n",
    "Transfer learning is done on a pretrained ResNet-152 architecture due to the low amount of images in the training set. Training set contains 8144 images and 196 classes, averaging in 41 images per class for training and validation. With a 80:20 train-validation split, there are only around 32 images for each class to be trained on, hence making it significantly difficult to achieve a significant convergence training it from scratch (refer to EDA in the the first notebook). \n",
    "Hence transfer learning is chosen as the method for this challenge. \n",
    "\n",
    "#### On training with rectangular images\n",
    "Training with rectangular images showed to provide a faster convergence compared to training with a fixed square 224x224 images, _fastai_ library allow custom sizing and the pretrained ResNet-152 to train on rectangular images. Initial EDA showed that the median aspect ratio for the training dataset is 3:4, training dataset is initiated with square 299x299 images followed by 299x400, and then testing with same rectangular images, achieving **92.45%** of accuracy in 35 epochs. \n",
    "\n",
    "A typical transfer learning process involve training the last layer before unfreezing the whole architecture for training, which would be the typical approach of freezing the pretrained model and training it for 5 epochs before unfreezing the model\n",
    "\n",
    "#### Data Augmentation \n",
    "Perhaps the most important step that is essential in providing a better accuracy. Together with **progressive resizing** and **rectangular images training**, I have also used the default fastai images transformation, performed by calling `get_transforms()` that randomly augments the images according to their parameters: \n",
    "`do_flip` : perform flipping with probability of 0.5. I chose the default value **True** for this parameter <br>\n",
    "`flip_ver` : if True flip images vertically instead, I chose **False** as it doesn't help to have a vertically flipped images<br>\n",
    "`max_rotate`: I chose up to **10.0** degree rotation at random, <br>\n",
    "`max_zoom`: default value of up to **1.1** zoom<br>\n",
    "`max_lighting`: default value of up to **0.2** of increase/decrease in brightness or contrast<br>\n",
    "`max_warp`:  default value of **0.2**<br>\n",
    "`p_affine` : Probability of randomly applying affine, default value **0.75**<br>\n",
    "`p_lighting` : probability of applying lighting transform, default value **0.75** <br>\n",
    "\n",
    "During resizing, instead of cropping the images to the target size, I chose to squished/compress the images into the target size to keep the features of the images during training"
   ]
  },
  {
   "cell_type": "code",
   "execution_count": 2,
   "metadata": {},
   "outputs": [],
   "source": [
    "import pandas as pd\n",
    "from pathlib import Path\n",
    "from fastai import *\n",
    "from fastai.vision import *"
   ]
  },
  {
   "cell_type": "code",
   "execution_count": 3,
   "metadata": {},
   "outputs": [],
   "source": [
    "train_path = 'data/train/'\n",
    "cropped_path = 'data/cropped_train/'\n",
    "test_path = 'data/test/'\n",
    "all_img_path = 'data/all_img'\n",
    "CROPPED_PATH = Path(cropped_path)"
   ]
  },
  {
   "cell_type": "markdown",
   "metadata": {},
   "source": [
    "#### Commence training: Stage-1 (resnet152)\n",
    "- Setting up data bunch and transformations"
   ]
  },
  {
   "cell_type": "code",
   "execution_count": 3,
   "metadata": {},
   "outputs": [],
   "source": [
    "tfms = get_transforms()"
   ]
  },
  {
   "cell_type": "code",
   "execution_count": 4,
   "metadata": {},
   "outputs": [],
   "source": [
    "trn_df_labels = pd.read_csv('train_labels.csv',usecols=['filename','class_name'])"
   ]
  },
  {
   "cell_type": "code",
   "execution_count": 5,
   "metadata": {},
   "outputs": [],
   "source": [
    "src = (ImageList\n",
    "       .from_df(trn_df_labels,train_path, cols='filename')\n",
    "       .split_by_rand_pct(0.2, seed=42) #Splitting to 80:20 train-val set\n",
    "       .label_from_df('class_name')) #Adding the labels to the data from the df"
   ]
  },
  {
   "cell_type": "code",
   "execution_count": 6,
   "metadata": {},
   "outputs": [],
   "source": [
    "data299 = (src\n",
    "           .transform(tfms,size=(299,299)) #adding transformation and resizing all images to 299x299\n",
    "           .databunch(bs=12) #Using batch size of 12\n",
    "           .normalize(imagenet_stats)) #Normalizing the databunch to imagenet_stats"
   ]
  },
  {
   "cell_type": "code",
   "execution_count": 7,
   "metadata": {},
   "outputs": [],
   "source": [
    "#Initializing the Learner by loading the data, the model and metrics required for training\n",
    "learn = cnn_learner(data299, models.resnet152, metrics=[error_rate, accuracy, Precision(average='weighted'), Recall(average='weighted')]) "
   ]
  },
  {
   "cell_type": "markdown",
   "metadata": {},
   "source": [
    "Train for 5 epochs using Leslie Smith's fit one cycle, where overtime increasing the lr before decreasing back the lr and inversely for momentum can lead to super convergence faster. \n",
    "\n",
    "The most common ways to train a pretrained model is to remove the last layer and train the whole architecture with the pretrained weights, followed by unfreezing the rest of the model and updating the weight on the data. \n",
    "\n",
    "The choice of learning rate 1e-3 is chosen because a low learning rate is essential to not destroy the weights of the pretrained model"
   ]
  },
  {
   "cell_type": "code",
   "execution_count": 8,
   "metadata": {},
   "outputs": [
    {
     "data": {
      "text/html": [
       "<table border=\"1\" class=\"dataframe\">\n",
       "  <thead>\n",
       "    <tr style=\"text-align: left;\">\n",
       "      <th>epoch</th>\n",
       "      <th>train_loss</th>\n",
       "      <th>valid_loss</th>\n",
       "      <th>error_rate</th>\n",
       "      <th>accuracy</th>\n",
       "      <th>precision</th>\n",
       "      <th>recall</th>\n",
       "      <th>time</th>\n",
       "    </tr>\n",
       "  </thead>\n",
       "  <tbody>\n",
       "    <tr>\n",
       "      <td>0</td>\n",
       "      <td>4.356963</td>\n",
       "      <td>3.645032</td>\n",
       "      <td>0.792383</td>\n",
       "      <td>0.207617</td>\n",
       "      <td>nan</td>\n",
       "      <td>0.207617</td>\n",
       "      <td>05:02</td>\n",
       "    </tr>\n",
       "    <tr>\n",
       "      <td>1</td>\n",
       "      <td>2.718966</td>\n",
       "      <td>2.034589</td>\n",
       "      <td>0.506757</td>\n",
       "      <td>0.493243</td>\n",
       "      <td>nan</td>\n",
       "      <td>0.493243</td>\n",
       "      <td>04:56</td>\n",
       "    </tr>\n",
       "    <tr>\n",
       "      <td>2</td>\n",
       "      <td>1.676358</td>\n",
       "      <td>1.183810</td>\n",
       "      <td>0.290541</td>\n",
       "      <td>0.709459</td>\n",
       "      <td>0.763106</td>\n",
       "      <td>0.709459</td>\n",
       "      <td>04:56</td>\n",
       "    </tr>\n",
       "    <tr>\n",
       "      <td>3</td>\n",
       "      <td>1.064125</td>\n",
       "      <td>0.908115</td>\n",
       "      <td>0.232187</td>\n",
       "      <td>0.767813</td>\n",
       "      <td>0.797843</td>\n",
       "      <td>0.767813</td>\n",
       "      <td>04:56</td>\n",
       "    </tr>\n",
       "    <tr>\n",
       "      <td>4</td>\n",
       "      <td>0.823548</td>\n",
       "      <td>0.848760</td>\n",
       "      <td>0.216216</td>\n",
       "      <td>0.783784</td>\n",
       "      <td>0.803974</td>\n",
       "      <td>0.783784</td>\n",
       "      <td>04:56</td>\n",
       "    </tr>\n",
       "  </tbody>\n",
       "</table>"
      ],
      "text/plain": [
       "<IPython.core.display.HTML object>"
      ]
     },
     "metadata": {},
     "output_type": "display_data"
    }
   ],
   "source": [
    "learn.fit_one_cycle(5, 1e-3)"
   ]
  },
  {
   "cell_type": "markdown",
   "metadata": {},
   "source": [
    "### Stage 2\n",
    "Unfreezing the rest of the layers"
   ]
  },
  {
   "cell_type": "code",
   "execution_count": 8,
   "metadata": {},
   "outputs": [],
   "source": [
    "learn.unfreeze()"
   ]
  },
  {
   "cell_type": "markdown",
   "metadata": {},
   "source": [
    "Training for 10 more epochs with learning rate betwee 1e-5 and 1e-3"
   ]
  },
  {
   "cell_type": "code",
   "execution_count": 9,
   "metadata": {},
   "outputs": [
    {
     "data": {
      "text/html": [
       "<table border=\"1\" class=\"dataframe\">\n",
       "  <thead>\n",
       "    <tr style=\"text-align: left;\">\n",
       "      <th>epoch</th>\n",
       "      <th>train_loss</th>\n",
       "      <th>valid_loss</th>\n",
       "      <th>error_rate</th>\n",
       "      <th>accuracy</th>\n",
       "      <th>precision</th>\n",
       "      <th>recall</th>\n",
       "      <th>time</th>\n",
       "    </tr>\n",
       "  </thead>\n",
       "  <tbody>\n",
       "    <tr>\n",
       "      <td>0</td>\n",
       "      <td>0.946753</td>\n",
       "      <td>0.925104</td>\n",
       "      <td>0.237715</td>\n",
       "      <td>0.762285</td>\n",
       "      <td>0.793043</td>\n",
       "      <td>0.762285</td>\n",
       "      <td>06:39</td>\n",
       "    </tr>\n",
       "    <tr>\n",
       "      <td>1</td>\n",
       "      <td>1.237133</td>\n",
       "      <td>1.056666</td>\n",
       "      <td>0.279484</td>\n",
       "      <td>0.720516</td>\n",
       "      <td>nan</td>\n",
       "      <td>0.720516</td>\n",
       "      <td>06:37</td>\n",
       "    </tr>\n",
       "    <tr>\n",
       "      <td>2</td>\n",
       "      <td>1.300394</td>\n",
       "      <td>1.242457</td>\n",
       "      <td>0.348280</td>\n",
       "      <td>0.651720</td>\n",
       "      <td>nan</td>\n",
       "      <td>0.651720</td>\n",
       "      <td>06:37</td>\n",
       "    </tr>\n",
       "    <tr>\n",
       "      <td>3</td>\n",
       "      <td>0.931017</td>\n",
       "      <td>0.845470</td>\n",
       "      <td>0.232187</td>\n",
       "      <td>0.767813</td>\n",
       "      <td>nan</td>\n",
       "      <td>0.767813</td>\n",
       "      <td>06:37</td>\n",
       "    </tr>\n",
       "    <tr>\n",
       "      <td>4</td>\n",
       "      <td>0.722426</td>\n",
       "      <td>0.715556</td>\n",
       "      <td>0.203317</td>\n",
       "      <td>0.796683</td>\n",
       "      <td>0.836159</td>\n",
       "      <td>0.796683</td>\n",
       "      <td>06:36</td>\n",
       "    </tr>\n",
       "    <tr>\n",
       "      <td>5</td>\n",
       "      <td>0.528611</td>\n",
       "      <td>0.569576</td>\n",
       "      <td>0.159091</td>\n",
       "      <td>0.840909</td>\n",
       "      <td>0.860885</td>\n",
       "      <td>0.840909</td>\n",
       "      <td>06:37</td>\n",
       "    </tr>\n",
       "    <tr>\n",
       "      <td>6</td>\n",
       "      <td>0.250225</td>\n",
       "      <td>0.497737</td>\n",
       "      <td>0.135135</td>\n",
       "      <td>0.864865</td>\n",
       "      <td>nan</td>\n",
       "      <td>0.864865</td>\n",
       "      <td>06:36</td>\n",
       "    </tr>\n",
       "    <tr>\n",
       "      <td>7</td>\n",
       "      <td>0.163025</td>\n",
       "      <td>0.438454</td>\n",
       "      <td>0.118550</td>\n",
       "      <td>0.881450</td>\n",
       "      <td>0.894549</td>\n",
       "      <td>0.881450</td>\n",
       "      <td>06:36</td>\n",
       "    </tr>\n",
       "    <tr>\n",
       "      <td>8</td>\n",
       "      <td>0.110071</td>\n",
       "      <td>0.408081</td>\n",
       "      <td>0.108722</td>\n",
       "      <td>0.891278</td>\n",
       "      <td>0.902223</td>\n",
       "      <td>0.891278</td>\n",
       "      <td>06:37</td>\n",
       "    </tr>\n",
       "    <tr>\n",
       "      <td>9</td>\n",
       "      <td>0.065681</td>\n",
       "      <td>0.410232</td>\n",
       "      <td>0.109337</td>\n",
       "      <td>0.890663</td>\n",
       "      <td>0.900586</td>\n",
       "      <td>0.890663</td>\n",
       "      <td>06:37</td>\n",
       "    </tr>\n",
       "  </tbody>\n",
       "</table>"
      ],
      "text/plain": [
       "<IPython.core.display.HTML object>"
      ]
     },
     "metadata": {},
     "output_type": "display_data"
    }
   ],
   "source": [
    "learn.fit_one_cycle(10,slice(1e-5,1e-3))"
   ]
  },
  {
   "cell_type": "markdown",
   "metadata": {},
   "source": [
    "Saving the model"
   ]
  },
  {
   "cell_type": "code",
   "execution_count": 10,
   "metadata": {},
   "outputs": [],
   "source": [
    "learn.save('14-resnet152-cropped-1')"
   ]
  },
  {
   "cell_type": "markdown",
   "metadata": {},
   "source": [
    "lr_find() is used as a quick way to plot learning rate against loss and in the chart, learning rate from 1e-6 to 1e-4 seems to be a good learning rate based on the chart to minimise training loss"
   ]
  },
  {
   "cell_type": "code",
   "execution_count": 11,
   "metadata": {},
   "outputs": [
    {
     "data": {
      "text/html": [],
      "text/plain": [
       "<IPython.core.display.HTML object>"
      ]
     },
     "metadata": {},
     "output_type": "display_data"
    },
    {
     "name": "stdout",
     "output_type": "stream",
     "text": [
      "LR Finder is complete, type {learner_name}.recorder.plot() to see the graph.\n"
     ]
    },
    {
     "data": {
      "image/png": "[encoded data removed]",
      "text/plain": [
       "<Figure size 432x288 with 1 Axes>"
      ]
     },
     "metadata": {
      "needs_background": "light"
     },
     "output_type": "display_data"
    }
   ],
   "source": [
    "learn.lr_find()\n",
    "learn.recorder.plot()"
   ]
  },
  {
   "cell_type": "markdown",
   "metadata": {},
   "source": [
    "Training it for another 5 epochs based on the learning rate chosen from the chart"
   ]
  },
  {
   "cell_type": "code",
   "execution_count": 12,
   "metadata": {},
   "outputs": [
    {
     "data": {
      "text/html": [
       "<table border=\"1\" class=\"dataframe\">\n",
       "  <thead>\n",
       "    <tr style=\"text-align: left;\">\n",
       "      <th>epoch</th>\n",
       "      <th>train_loss</th>\n",
       "      <th>valid_loss</th>\n",
       "      <th>error_rate</th>\n",
       "      <th>accuracy</th>\n",
       "      <th>precision</th>\n",
       "      <th>recall</th>\n",
       "      <th>time</th>\n",
       "    </tr>\n",
       "  </thead>\n",
       "  <tbody>\n",
       "    <tr>\n",
       "      <td>0</td>\n",
       "      <td>0.075135</td>\n",
       "      <td>0.397597</td>\n",
       "      <td>0.106265</td>\n",
       "      <td>0.893735</td>\n",
       "      <td>0.905368</td>\n",
       "      <td>0.893735</td>\n",
       "      <td>06:37</td>\n",
       "    </tr>\n",
       "    <tr>\n",
       "      <td>1</td>\n",
       "      <td>0.082872</td>\n",
       "      <td>0.404371</td>\n",
       "      <td>0.110565</td>\n",
       "      <td>0.889435</td>\n",
       "      <td>0.902594</td>\n",
       "      <td>0.889435</td>\n",
       "      <td>06:38</td>\n",
       "    </tr>\n",
       "    <tr>\n",
       "      <td>2</td>\n",
       "      <td>0.061445</td>\n",
       "      <td>0.409659</td>\n",
       "      <td>0.108108</td>\n",
       "      <td>0.891892</td>\n",
       "      <td>0.902999</td>\n",
       "      <td>0.891892</td>\n",
       "      <td>06:38</td>\n",
       "    </tr>\n",
       "    <tr>\n",
       "      <td>3</td>\n",
       "      <td>0.060745</td>\n",
       "      <td>0.403940</td>\n",
       "      <td>0.107494</td>\n",
       "      <td>0.892506</td>\n",
       "      <td>0.904370</td>\n",
       "      <td>0.892506</td>\n",
       "      <td>06:38</td>\n",
       "    </tr>\n",
       "    <tr>\n",
       "      <td>4</td>\n",
       "      <td>0.055910</td>\n",
       "      <td>0.398311</td>\n",
       "      <td>0.107494</td>\n",
       "      <td>0.892506</td>\n",
       "      <td>0.904397</td>\n",
       "      <td>0.892506</td>\n",
       "      <td>06:38</td>\n",
       "    </tr>\n",
       "  </tbody>\n",
       "</table>"
      ],
      "text/plain": [
       "<IPython.core.display.HTML object>"
      ]
     },
     "metadata": {},
     "output_type": "display_data"
    }
   ],
   "source": [
    "learn.fit_one_cycle(5, slice(1e-6,1e-4))"
   ]
  },
  {
   "cell_type": "code",
   "execution_count": 13,
   "metadata": {},
   "outputs": [],
   "source": [
    "learn.save('14-resnet152-cropped-2')"
   ]
  },
  {
   "cell_type": "markdown",
   "metadata": {},
   "source": [
    "Initial EDA shows that median aspect ratio in the dataset is 3:4 and it is an important information because most model is trained with squared image and it will not work with a rectangular images. FastAI library made it easier to train with a custom aspect ratio, allowing the model to be trained on rectangular images. \n",
    "Reason why square images do not work is because, when images are resized to squares, depending on the resizing method, the images either were:\n",
    "\n",
    "1. made the images look squished \n",
    "2. cropped into the middle, losing other features for the whole image\n",
    "\n",
    "Hence training it with images with **3:4 aspect ratio** will retain a lot of the features of the car. "
   ]
  },
  {
   "cell_type": "code",
   "execution_count": 24,
   "metadata": {},
   "outputs": [],
   "source": [
    "data_ar = (src\n",
    "           .transform(tfms,size=(299,400)) #299,400 to retain the 3:4 aspect ratio\n",
    "           .databunch(bs=12) \n",
    "           .normalize(imagenet_stats))"
   ]
  },
  {
   "cell_type": "markdown",
   "metadata": {},
   "source": [
    "Swapping out the data in the Learner object with new rectangular images for training"
   ]
  },
  {
   "cell_type": "code",
   "execution_count": 25,
   "metadata": {},
   "outputs": [],
   "source": [
    "learn.data = data_ar "
   ]
  },
  {
   "cell_type": "code",
   "execution_count": 26,
   "metadata": {},
   "outputs": [],
   "source": [
    "learn.freeze()"
   ]
  },
  {
   "cell_type": "code",
   "execution_count": 27,
   "metadata": {},
   "outputs": [
    {
     "data": {
      "text/html": [],
      "text/plain": [
       "<IPython.core.display.HTML object>"
      ]
     },
     "metadata": {},
     "output_type": "display_data"
    },
    {
     "name": "stdout",
     "output_type": "stream",
     "text": [
      "LR Finder is complete, type {learner_name}.recorder.plot() to see the graph.\n"
     ]
    }
   ],
   "source": [
    "learn.lr_find()"
   ]
  },
  {
   "cell_type": "code",
   "execution_count": 28,
   "metadata": {},
   "outputs": [
    {
     "data": {
      "image/png": "[encoded data removed]",
      "text/plain": [
       "<Figure size 432x288 with 1 Axes>"
      ]
     },
     "metadata": {
      "needs_background": "light"
     },
     "output_type": "display_data"
    }
   ],
   "source": [
    "learn.recorder.plot()"
   ]
  },
  {
   "cell_type": "code",
   "execution_count": 29,
   "metadata": {},
   "outputs": [
    {
     "data": {
      "text/html": [
       "<table border=\"1\" class=\"dataframe\">\n",
       "  <thead>\n",
       "    <tr style=\"text-align: left;\">\n",
       "      <th>epoch</th>\n",
       "      <th>train_loss</th>\n",
       "      <th>valid_loss</th>\n",
       "      <th>error_rate</th>\n",
       "      <th>accuracy</th>\n",
       "      <th>precision</th>\n",
       "      <th>recall</th>\n",
       "      <th>time</th>\n",
       "    </tr>\n",
       "  </thead>\n",
       "  <tbody>\n",
       "    <tr>\n",
       "      <td>0</td>\n",
       "      <td>0.052192</td>\n",
       "      <td>0.401342</td>\n",
       "      <td>0.107494</td>\n",
       "      <td>0.892506</td>\n",
       "      <td>0.903457</td>\n",
       "      <td>0.892506</td>\n",
       "      <td>06:27</td>\n",
       "    </tr>\n",
       "    <tr>\n",
       "      <td>1</td>\n",
       "      <td>0.055976</td>\n",
       "      <td>0.403220</td>\n",
       "      <td>0.109337</td>\n",
       "      <td>0.890663</td>\n",
       "      <td>0.900945</td>\n",
       "      <td>0.890663</td>\n",
       "      <td>06:26</td>\n",
       "    </tr>\n",
       "    <tr>\n",
       "      <td>2</td>\n",
       "      <td>0.059788</td>\n",
       "      <td>0.403950</td>\n",
       "      <td>0.108108</td>\n",
       "      <td>0.891892</td>\n",
       "      <td>0.902538</td>\n",
       "      <td>0.891892</td>\n",
       "      <td>06:25</td>\n",
       "    </tr>\n",
       "    <tr>\n",
       "      <td>3</td>\n",
       "      <td>0.063641</td>\n",
       "      <td>0.401846</td>\n",
       "      <td>0.107494</td>\n",
       "      <td>0.892506</td>\n",
       "      <td>0.904053</td>\n",
       "      <td>0.892506</td>\n",
       "      <td>06:25</td>\n",
       "    </tr>\n",
       "    <tr>\n",
       "      <td>4</td>\n",
       "      <td>0.065086</td>\n",
       "      <td>0.401861</td>\n",
       "      <td>0.108722</td>\n",
       "      <td>0.891278</td>\n",
       "      <td>0.901971</td>\n",
       "      <td>0.891278</td>\n",
       "      <td>06:26</td>\n",
       "    </tr>\n",
       "  </tbody>\n",
       "</table>"
      ],
      "text/plain": [
       "<IPython.core.display.HTML object>"
      ]
     },
     "metadata": {},
     "output_type": "display_data"
    }
   ],
   "source": [
    "learn.fit_one_cycle(5,2e-6)"
   ]
  },
  {
   "cell_type": "markdown",
   "metadata": {},
   "source": [
    "Unfreezing to train the whole model and its weights"
   ]
  },
  {
   "cell_type": "code",
   "execution_count": 30,
   "metadata": {},
   "outputs": [],
   "source": [
    "learn.unfreeze()"
   ]
  },
  {
   "cell_type": "code",
   "execution_count": 31,
   "metadata": {},
   "outputs": [
    {
     "data": {
      "text/html": [],
      "text/plain": [
       "<IPython.core.display.HTML object>"
      ]
     },
     "metadata": {},
     "output_type": "display_data"
    },
    {
     "name": "stdout",
     "output_type": "stream",
     "text": [
      "LR Finder is complete, type {learner_name}.recorder.plot() to see the graph.\n"
     ]
    },
    {
     "data": {
      "image/png": "[encoded data removed]",
      "text/plain": [
       "<Figure size 432x288 with 1 Axes>"
      ]
     },
     "metadata": {
      "needs_background": "light"
     },
     "output_type": "display_data"
    }
   ],
   "source": [
    "learn.lr_find()\n",
    "learn.recorder.plot()"
   ]
  },
  {
   "cell_type": "code",
   "execution_count": 32,
   "metadata": {},
   "outputs": [
    {
     "data": {
      "text/html": [
       "<table border=\"1\" class=\"dataframe\">\n",
       "  <thead>\n",
       "    <tr style=\"text-align: left;\">\n",
       "      <th>epoch</th>\n",
       "      <th>train_loss</th>\n",
       "      <th>valid_loss</th>\n",
       "      <th>error_rate</th>\n",
       "      <th>accuracy</th>\n",
       "      <th>precision</th>\n",
       "      <th>recall</th>\n",
       "      <th>time</th>\n",
       "    </tr>\n",
       "  </thead>\n",
       "  <tbody>\n",
       "    <tr>\n",
       "      <td>0</td>\n",
       "      <td>0.058514</td>\n",
       "      <td>0.396269</td>\n",
       "      <td>0.106265</td>\n",
       "      <td>0.893735</td>\n",
       "      <td>0.903020</td>\n",
       "      <td>0.893735</td>\n",
       "      <td>08:28</td>\n",
       "    </tr>\n",
       "    <tr>\n",
       "      <td>1</td>\n",
       "      <td>0.069162</td>\n",
       "      <td>0.392105</td>\n",
       "      <td>0.104423</td>\n",
       "      <td>0.895577</td>\n",
       "      <td>0.906700</td>\n",
       "      <td>0.895577</td>\n",
       "      <td>08:30</td>\n",
       "    </tr>\n",
       "    <tr>\n",
       "      <td>2</td>\n",
       "      <td>0.052691</td>\n",
       "      <td>0.377156</td>\n",
       "      <td>0.101966</td>\n",
       "      <td>0.898034</td>\n",
       "      <td>0.907320</td>\n",
       "      <td>0.898034</td>\n",
       "      <td>08:30</td>\n",
       "    </tr>\n",
       "    <tr>\n",
       "      <td>3</td>\n",
       "      <td>0.049295</td>\n",
       "      <td>0.365907</td>\n",
       "      <td>0.101351</td>\n",
       "      <td>0.898649</td>\n",
       "      <td>0.908291</td>\n",
       "      <td>0.898649</td>\n",
       "      <td>08:30</td>\n",
       "    </tr>\n",
       "    <tr>\n",
       "      <td>4</td>\n",
       "      <td>0.043621</td>\n",
       "      <td>0.368690</td>\n",
       "      <td>0.098280</td>\n",
       "      <td>0.901720</td>\n",
       "      <td>0.910490</td>\n",
       "      <td>0.901720</td>\n",
       "      <td>08:31</td>\n",
       "    </tr>\n",
       "    <tr>\n",
       "      <td>5</td>\n",
       "      <td>0.039249</td>\n",
       "      <td>0.368421</td>\n",
       "      <td>0.101966</td>\n",
       "      <td>0.898034</td>\n",
       "      <td>0.906926</td>\n",
       "      <td>0.898034</td>\n",
       "      <td>08:31</td>\n",
       "    </tr>\n",
       "    <tr>\n",
       "      <td>6</td>\n",
       "      <td>0.031399</td>\n",
       "      <td>0.369126</td>\n",
       "      <td>0.100123</td>\n",
       "      <td>0.899877</td>\n",
       "      <td>0.909132</td>\n",
       "      <td>0.899877</td>\n",
       "      <td>08:31</td>\n",
       "    </tr>\n",
       "    <tr>\n",
       "      <td>7</td>\n",
       "      <td>0.042559</td>\n",
       "      <td>0.366983</td>\n",
       "      <td>0.098894</td>\n",
       "      <td>0.901106</td>\n",
       "      <td>0.909618</td>\n",
       "      <td>0.901106</td>\n",
       "      <td>08:30</td>\n",
       "    </tr>\n",
       "    <tr>\n",
       "      <td>8</td>\n",
       "      <td>0.040305</td>\n",
       "      <td>0.365066</td>\n",
       "      <td>0.096437</td>\n",
       "      <td>0.903563</td>\n",
       "      <td>0.911852</td>\n",
       "      <td>0.903563</td>\n",
       "      <td>08:32</td>\n",
       "    </tr>\n",
       "    <tr>\n",
       "      <td>9</td>\n",
       "      <td>0.048855</td>\n",
       "      <td>0.365729</td>\n",
       "      <td>0.097666</td>\n",
       "      <td>0.902334</td>\n",
       "      <td>0.911494</td>\n",
       "      <td>0.902334</td>\n",
       "      <td>08:31</td>\n",
       "    </tr>\n",
       "  </tbody>\n",
       "</table>"
      ],
      "text/plain": [
       "<IPython.core.display.HTML object>"
      ]
     },
     "metadata": {},
     "output_type": "display_data"
    }
   ],
   "source": [
    "learn.fit_one_cycle(10,slice(3e-7,3e-5))"
   ]
  },
  {
   "cell_type": "markdown",
   "metadata": {},
   "source": [
    "Saving the model to be used for testing"
   ]
  },
  {
   "cell_type": "code",
   "execution_count": 33,
   "metadata": {},
   "outputs": [],
   "source": [
    "learn.save('14-resnet152-cropped-3')"
   ]
  },
  {
   "cell_type": "markdown",
   "metadata": {},
   "source": [
    "### Testing"
   ]
  },
  {
   "cell_type": "markdown",
   "metadata": {},
   "source": [
    "Load test dataset"
   ]
  },
  {
   "cell_type": "code",
   "execution_count": 42,
   "metadata": {},
   "outputs": [],
   "source": [
    "all_img_df = pd.read_csv('all_img.csv', usecols=['filename','class_name', 'test'])"
   ]
  },
  {
   "cell_type": "code",
   "execution_count": 9,
   "metadata": {},
   "outputs": [],
   "source": [
    "prec = Precision(average='weighted')\n",
    "prec.n_classes = 0\n",
    "rec = Recall(average='weighted')\n",
    "rec.n_classes = 0\n"
   ]
  },
  {
   "cell_type": "markdown",
   "metadata": {},
   "source": [
    "Loading a test image, test set is used in the dataloader validation set. "
   ]
  },
  {
   "cell_type": "code",
   "execution_count": 43,
   "metadata": {},
   "outputs": [],
   "source": [
    "data_test = (ImageList\n",
    "             .from_df(all_img_df,all_img_path,cols='filename')\n",
    "             .split_from_df(col='test')\n",
    "             .label_from_df(cols='class_name')\n",
    "             .transform(size=(299,400))\n",
    "             .databunch(bs=64)\n",
    "             .normalize(imagenet_stats))"
   ]
  },
  {
   "cell_type": "code",
   "execution_count": 11,
   "metadata": {},
   "outputs": [],
   "source": [
    "learn = cnn_learner(data299,models.resnet152,metrics=[error_rate,accuracy,top_k_accuracy,prec,rec])"
   ]
  },
  {
   "cell_type": "code",
   "execution_count": 12,
   "metadata": {},
   "outputs": [],
   "source": [
    "learn.load('8-resnet152-v3');"
   ]
  },
  {
   "cell_type": "code",
   "execution_count": 13,
   "metadata": {},
   "outputs": [],
   "source": [
    "learn.data = data_test"
   ]
  },
  {
   "cell_type": "code",
   "execution_count": 14,
   "metadata": {},
   "outputs": [
    {
     "data": {
      "text/plain": [
       "[0.31520358,\n",
       " tensor(0.0788),\n",
       " tensor(0.9212),\n",
       " tensor(0.9884),\n",
       " tensor(0.9239),\n",
       " tensor(0.9212)]"
      ]
     },
     "execution_count": 14,
     "metadata": {},
     "output_type": "execute_result"
    }
   ],
   "source": [
    "#rectangular\n",
    "learn.validate()"
   ]
  },
  {
   "cell_type": "markdown",
   "metadata": {},
   "source": [
    " Loss: 0.31520358,\n",
    " Error rate 7.8%\n",
    " Accuracy 92.12%,\n",
    " Top5 Accuracy 98.84%\n",
    " Precision 92.39%\n",
    " Recall 92.12%"
   ]
  }
 ],
 "metadata": {
  "kernelspec": {
   "display_name": "Python 3",
   "language": "python",
   "name": "python3"
  },
  "language_info": {
   "codemirror_mode": {
    "name": "ipython",
    "version": 3
   },
   "file_extension": ".py",
   "mimetype": "text/x-python",
   "name": "python",
   "nbconvert_exporter": "python",
   "pygments_lexer": "ipython3",
   "version": "3.7.3"
  }
 },
 "nbformat": 4,
 "nbformat_minor": 2
}
