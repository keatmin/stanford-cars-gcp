{
 "cells": [
  {
   "cell_type": "code",
   "execution_count": 270,
   "metadata": {},
   "outputs": [],
   "source": [
    "import pandas as pd\n",
    "from pathlib import Path\n",
    "from scipy.io import loadmat\n",
    "import matplotlib.pyplot as plt\n",
    "from PIL import Image"
   ]
  },
  {
   "cell_type": "code",
   "execution_count": 178,
   "metadata": {},
   "outputs": [],
   "source": [
    "from fastai import *\n",
    "from fastai.vision import *"
   ]
  },
  {
   "cell_type": "code",
   "execution_count": 42,
   "metadata": {},
   "outputs": [],
   "source": [
    "#!mv data/cars_train data/train\n",
    "#!mv data/cars_test data/test"
   ]
  },
  {
   "cell_type": "code",
   "execution_count": 11,
   "metadata": {},
   "outputs": [
    {
     "name": "stdout",
     "output_type": "stream",
     "text": [
      "--2019-06-05 09:04:47--  https://ai.stanford.edu/~jkrause/cars/car_devkit.tgz\n",
      "Resolving ai.stanford.edu (ai.stanford.edu)... 171.64.68.10\n",
      "Connecting to ai.stanford.edu (ai.stanford.edu)|171.64.68.10|:443... connected.\n",
      "HTTP request sent, awaiting response... 200 OK\n",
      "Length: 330960 (323K) [application/x-gzip]\n",
      "Saving to: ‘car_devkit.tgz’\n",
      "\n",
      "car_devkit.tgz      100%[===================>] 323.20K   207KB/s    in 1.6s    \n",
      "\n",
      "2019-06-05 09:04:50 (207 KB/s) - ‘car_devkit.tgz’ saved [330960/330960]\n",
      "\n"
     ]
    }
   ],
   "source": [
    "#!wget https://ai.stanford.edu/~jkrause/cars/car_devkit.tgz\n",
    "#!tar -zxvf car_devkit.tgz -C data"
   ]
  },
  {
   "cell_type": "code",
   "execution_count": 319,
   "metadata": {},
   "outputs": [
    {
     "name": "stdout",
     "output_type": "stream",
     "text": [
      "--2019-06-05 15:42:06--  http://imagenet.stanford.edu/internal/car196/cars_test_annos_withlabels.mat\n",
      "Resolving imagenet.stanford.edu (imagenet.stanford.edu)... 171.64.68.16\n",
      "Connecting to imagenet.stanford.edu (imagenet.stanford.edu)|171.64.68.16|:80... connected.\n",
      "HTTP request sent, awaiting response... 200 OK\n",
      "Length: 185758 (181K) [text/plain]\n",
      "Saving to: ‘cars_test_annos_withlabels.mat.1’\n",
      "\n",
      "cars_test_annos_wit 100%[===================>] 181.40K   134KB/s    in 1.4s    \n",
      "\n",
      "2019-06-05 15:42:08 (134 KB/s) - ‘cars_test_annos_withlabels.mat.1’ saved [185758/185758]\n",
      "\n"
     ]
    }
   ],
   "source": [
    "#!wget http://imagenet.stanford.edu/internal/car196/cars_test_annos_withlabels.mat\n",
    "#!mv cars_test_annos_withlabels.mat data/"
   ]
  },
  {
   "cell_type": "markdown",
   "metadata": {},
   "source": [
    "Create a unified folder where test images and train images are in for fastai learner to test at the end of training"
   ]
  },
  {
   "cell_type": "code",
   "execution_count": 418,
   "metadata": {},
   "outputs": [],
   "source": [
    "#!mkdir data/all_img\n",
    "#!cp -a data/test/. data/all_img    \n",
    "#cd data/all_img && rename 's/^/test_/' *  # renaming all the test images in the folder with 'test' suffix\n",
    "#!cp -a data/train/. data/all_img   "
   ]
  },
  {
   "cell_type": "code",
   "execution_count": 466,
   "metadata": {},
   "outputs": [],
   "source": [
    "train_path = 'data/train/'\n",
    "cropped_path = 'data/cropped_train/'\n",
    "test_path = 'data/test/'\n",
    "all_img_path = 'data/all_img'\n",
    "CROPPED_PATH = Path(cropped_path)"
   ]
  },
  {
   "cell_type": "code",
   "execution_count": null,
   "metadata": {},
   "outputs": [],
   "source": [
    "CROPPED_PATH.mkdir(parents=True, exist_ok=True)"
   ]
  },
  {
   "cell_type": "markdown",
   "metadata": {},
   "source": [
    "Fixed code from [Devon from Kaggle](https://www.kaggle.com/criticalmassacre/inaccurate-labels-in-stanford-cars-data-set) "
   ]
  },
  {
   "cell_type": "code",
   "execution_count": 423,
   "metadata": {},
   "outputs": [],
   "source": [
    "train_an_pth = 'data/devkit/cars_train_annos.mat'\n",
    "test_an_pth = 'data/cars_test_annos_withlabels.mat'\n",
    "classes_pth = 'data/devkit/cars_meta.mat'\n",
    "\n",
    "def get_labels(annos_path, classes_path):\n",
    "    car_an = loadmat(annos_path)\n",
    "    car_meta = loadmat(classes_path)\n",
    "    annotations = car_an[\"annotations\"][0,:]\n",
    "    total_classes = len(car_meta[\"class_names\"][0])\n",
    "    class_names = dict(zip(range(1,total_classes+1),[c[0] for c in car_meta[\"class_names\"][0]]))\n",
    "    \n",
    "    labelled_images = {}\n",
    "    dataset = []\n",
    "    for arr in annotations:\n",
    "        # the last entry in the row is the image name\n",
    "        # The rest is the data, first bbox, then classid\n",
    "        dataset.append([y[0][0] for y in arr][0:5]+[arr[5][0]])\n",
    "    # Convert to a DataFrame, and specify the column names\n",
    "    temp_df = pd.DataFrame(dataset, \n",
    "                      columns =['BBOX_X1','BBOX_Y1','BBOX_X2','BBOX_Y2','ClassID','filename'])\n",
    "\n",
    "    temp_df = temp_df.assign(ClassName=temp_df.ClassID.map(dict(class_names)))\n",
    "    temp_df.columns = ['bbox_x1','bbox_y1','bbox_x2','bbox_y2','class_id','filename', 'class_name']\n",
    "    return temp_df"
   ]
  },
  {
   "cell_type": "code",
   "execution_count": 456,
   "metadata": {},
   "outputs": [
    {
     "data": {
      "text/html": [
       "<div>\n",
       "<style scoped>\n",
       "    .dataframe tbody tr th:only-of-type {\n",
       "        vertical-align: middle;\n",
       "    }\n",
       "\n",
       "    .dataframe tbody tr th {\n",
       "        vertical-align: top;\n",
       "    }\n",
       "\n",
       "    .dataframe thead th {\n",
       "        text-align: right;\n",
       "    }\n",
       "</style>\n",
       "<table border=\"1\" class=\"dataframe\">\n",
       "  <thead>\n",
       "    <tr style=\"text-align: right;\">\n",
       "      <th></th>\n",
       "      <th>bbox_x1</th>\n",
       "      <th>bbox_y1</th>\n",
       "      <th>bbox_x2</th>\n",
       "      <th>bbox_y2</th>\n",
       "      <th>class_id</th>\n",
       "      <th>filename</th>\n",
       "      <th>class_name</th>\n",
       "      <th>test</th>\n",
       "    </tr>\n",
       "  </thead>\n",
       "  <tbody>\n",
       "    <tr>\n",
       "      <th>0</th>\n",
       "      <td>39</td>\n",
       "      <td>116</td>\n",
       "      <td>569</td>\n",
       "      <td>375</td>\n",
       "      <td>14</td>\n",
       "      <td>00001.jpg</td>\n",
       "      <td>Audi TTS Coupe 2012</td>\n",
       "      <td>0</td>\n",
       "    </tr>\n",
       "    <tr>\n",
       "      <th>1</th>\n",
       "      <td>36</td>\n",
       "      <td>116</td>\n",
       "      <td>868</td>\n",
       "      <td>587</td>\n",
       "      <td>3</td>\n",
       "      <td>00002.jpg</td>\n",
       "      <td>Acura TL Sedan 2012</td>\n",
       "      <td>0</td>\n",
       "    </tr>\n",
       "    <tr>\n",
       "      <th>2</th>\n",
       "      <td>85</td>\n",
       "      <td>109</td>\n",
       "      <td>601</td>\n",
       "      <td>381</td>\n",
       "      <td>91</td>\n",
       "      <td>00003.jpg</td>\n",
       "      <td>Dodge Dakota Club Cab 2007</td>\n",
       "      <td>0</td>\n",
       "    </tr>\n",
       "    <tr>\n",
       "      <th>3</th>\n",
       "      <td>621</td>\n",
       "      <td>393</td>\n",
       "      <td>1484</td>\n",
       "      <td>1096</td>\n",
       "      <td>134</td>\n",
       "      <td>00004.jpg</td>\n",
       "      <td>Hyundai Sonata Hybrid Sedan 2012</td>\n",
       "      <td>0</td>\n",
       "    </tr>\n",
       "    <tr>\n",
       "      <th>4</th>\n",
       "      <td>14</td>\n",
       "      <td>36</td>\n",
       "      <td>133</td>\n",
       "      <td>99</td>\n",
       "      <td>106</td>\n",
       "      <td>00005.jpg</td>\n",
       "      <td>Ford F-450 Super Duty Crew Cab 2012</td>\n",
       "      <td>0</td>\n",
       "    </tr>\n",
       "  </tbody>\n",
       "</table>\n",
       "</div>"
      ],
      "text/plain": [
       "   bbox_x1  bbox_y1  bbox_x2  bbox_y2  class_id   filename  \\\n",
       "0       39      116      569      375        14  00001.jpg   \n",
       "1       36      116      868      587         3  00002.jpg   \n",
       "2       85      109      601      381        91  00003.jpg   \n",
       "3      621      393     1484     1096       134  00004.jpg   \n",
       "4       14       36      133       99       106  00005.jpg   \n",
       "\n",
       "                            class_name  test  \n",
       "0                  Audi TTS Coupe 2012     0  \n",
       "1                  Acura TL Sedan 2012     0  \n",
       "2           Dodge Dakota Club Cab 2007     0  \n",
       "3     Hyundai Sonata Hybrid Sedan 2012     0  \n",
       "4  Ford F-450 Super Duty Crew Cab 2012     0  "
      ]
     },
     "execution_count": 456,
     "metadata": {},
     "output_type": "execute_result"
    }
   ],
   "source": [
    "train_df = get_labels(train_an_pth, classes_pth)\n",
    "train_df['test'] = 0\n",
    "train_df.head()"
   ]
  },
  {
   "cell_type": "code",
   "execution_count": 457,
   "metadata": {},
   "outputs": [
    {
     "data": {
      "text/html": [
       "<div>\n",
       "<style scoped>\n",
       "    .dataframe tbody tr th:only-of-type {\n",
       "        vertical-align: middle;\n",
       "    }\n",
       "\n",
       "    .dataframe tbody tr th {\n",
       "        vertical-align: top;\n",
       "    }\n",
       "\n",
       "    .dataframe thead th {\n",
       "        text-align: right;\n",
       "    }\n",
       "</style>\n",
       "<table border=\"1\" class=\"dataframe\">\n",
       "  <thead>\n",
       "    <tr style=\"text-align: right;\">\n",
       "      <th></th>\n",
       "      <th>bbox_x1</th>\n",
       "      <th>bbox_y1</th>\n",
       "      <th>bbox_x2</th>\n",
       "      <th>bbox_y2</th>\n",
       "      <th>class_id</th>\n",
       "      <th>filename</th>\n",
       "      <th>class_name</th>\n",
       "      <th>test</th>\n",
       "    </tr>\n",
       "  </thead>\n",
       "  <tbody>\n",
       "    <tr>\n",
       "      <th>0</th>\n",
       "      <td>30</td>\n",
       "      <td>52</td>\n",
       "      <td>246</td>\n",
       "      <td>147</td>\n",
       "      <td>181</td>\n",
       "      <td>00001.jpg</td>\n",
       "      <td>Suzuki Aerio Sedan 2007</td>\n",
       "      <td>1</td>\n",
       "    </tr>\n",
       "    <tr>\n",
       "      <th>1</th>\n",
       "      <td>100</td>\n",
       "      <td>19</td>\n",
       "      <td>576</td>\n",
       "      <td>203</td>\n",
       "      <td>103</td>\n",
       "      <td>00002.jpg</td>\n",
       "      <td>Ferrari 458 Italia Convertible 2012</td>\n",
       "      <td>1</td>\n",
       "    </tr>\n",
       "    <tr>\n",
       "      <th>2</th>\n",
       "      <td>51</td>\n",
       "      <td>105</td>\n",
       "      <td>968</td>\n",
       "      <td>659</td>\n",
       "      <td>145</td>\n",
       "      <td>00003.jpg</td>\n",
       "      <td>Jeep Patriot SUV 2012</td>\n",
       "      <td>1</td>\n",
       "    </tr>\n",
       "    <tr>\n",
       "      <th>3</th>\n",
       "      <td>67</td>\n",
       "      <td>84</td>\n",
       "      <td>581</td>\n",
       "      <td>407</td>\n",
       "      <td>187</td>\n",
       "      <td>00004.jpg</td>\n",
       "      <td>Toyota Camry Sedan 2012</td>\n",
       "      <td>1</td>\n",
       "    </tr>\n",
       "    <tr>\n",
       "      <th>4</th>\n",
       "      <td>140</td>\n",
       "      <td>151</td>\n",
       "      <td>593</td>\n",
       "      <td>339</td>\n",
       "      <td>185</td>\n",
       "      <td>00005.jpg</td>\n",
       "      <td>Tesla Model S Sedan 2012</td>\n",
       "      <td>1</td>\n",
       "    </tr>\n",
       "  </tbody>\n",
       "</table>\n",
       "</div>"
      ],
      "text/plain": [
       "   bbox_x1  bbox_y1  bbox_x2  bbox_y2  class_id   filename  \\\n",
       "0       30       52      246      147       181  00001.jpg   \n",
       "1      100       19      576      203       103  00002.jpg   \n",
       "2       51      105      968      659       145  00003.jpg   \n",
       "3       67       84      581      407       187  00004.jpg   \n",
       "4      140      151      593      339       185  00005.jpg   \n",
       "\n",
       "                            class_name  test  \n",
       "0              Suzuki Aerio Sedan 2007     1  \n",
       "1  Ferrari 458 Italia Convertible 2012     1  \n",
       "2                Jeep Patriot SUV 2012     1  \n",
       "3              Toyota Camry Sedan 2012     1  \n",
       "4             Tesla Model S Sedan 2012     1  "
      ]
     },
     "execution_count": 457,
     "metadata": {},
     "output_type": "execute_result"
    }
   ],
   "source": [
    "test_df = get_labels(test_an_pth,classes_pth)\n",
    "test_df['test'] = 1\n",
    "test_df.head()"
   ]
  },
  {
   "cell_type": "code",
   "execution_count": 458,
   "metadata": {},
   "outputs": [
    {
     "data": {
      "text/html": [
       "<div>\n",
       "<style scoped>\n",
       "    .dataframe tbody tr th:only-of-type {\n",
       "        vertical-align: middle;\n",
       "    }\n",
       "\n",
       "    .dataframe tbody tr th {\n",
       "        vertical-align: top;\n",
       "    }\n",
       "\n",
       "    .dataframe thead th {\n",
       "        text-align: right;\n",
       "    }\n",
       "</style>\n",
       "<table border=\"1\" class=\"dataframe\">\n",
       "  <thead>\n",
       "    <tr style=\"text-align: right;\">\n",
       "      <th></th>\n",
       "      <th>bbox_x1</th>\n",
       "      <th>bbox_y1</th>\n",
       "      <th>bbox_x2</th>\n",
       "      <th>bbox_y2</th>\n",
       "      <th>class_id</th>\n",
       "      <th>filename</th>\n",
       "      <th>class_name</th>\n",
       "      <th>test</th>\n",
       "    </tr>\n",
       "  </thead>\n",
       "  <tbody>\n",
       "    <tr>\n",
       "      <th>0</th>\n",
       "      <td>30</td>\n",
       "      <td>52</td>\n",
       "      <td>246</td>\n",
       "      <td>147</td>\n",
       "      <td>181</td>\n",
       "      <td>test_00001.jpg</td>\n",
       "      <td>Suzuki Aerio Sedan 2007</td>\n",
       "      <td>1</td>\n",
       "    </tr>\n",
       "    <tr>\n",
       "      <th>1</th>\n",
       "      <td>100</td>\n",
       "      <td>19</td>\n",
       "      <td>576</td>\n",
       "      <td>203</td>\n",
       "      <td>103</td>\n",
       "      <td>test_00002.jpg</td>\n",
       "      <td>Ferrari 458 Italia Convertible 2012</td>\n",
       "      <td>1</td>\n",
       "    </tr>\n",
       "    <tr>\n",
       "      <th>2</th>\n",
       "      <td>51</td>\n",
       "      <td>105</td>\n",
       "      <td>968</td>\n",
       "      <td>659</td>\n",
       "      <td>145</td>\n",
       "      <td>test_00003.jpg</td>\n",
       "      <td>Jeep Patriot SUV 2012</td>\n",
       "      <td>1</td>\n",
       "    </tr>\n",
       "    <tr>\n",
       "      <th>3</th>\n",
       "      <td>67</td>\n",
       "      <td>84</td>\n",
       "      <td>581</td>\n",
       "      <td>407</td>\n",
       "      <td>187</td>\n",
       "      <td>test_00004.jpg</td>\n",
       "      <td>Toyota Camry Sedan 2012</td>\n",
       "      <td>1</td>\n",
       "    </tr>\n",
       "    <tr>\n",
       "      <th>4</th>\n",
       "      <td>140</td>\n",
       "      <td>151</td>\n",
       "      <td>593</td>\n",
       "      <td>339</td>\n",
       "      <td>185</td>\n",
       "      <td>test_00005.jpg</td>\n",
       "      <td>Tesla Model S Sedan 2012</td>\n",
       "      <td>1</td>\n",
       "    </tr>\n",
       "  </tbody>\n",
       "</table>\n",
       "</div>"
      ],
      "text/plain": [
       "   bbox_x1  bbox_y1  bbox_x2  bbox_y2  class_id        filename  \\\n",
       "0       30       52      246      147       181  test_00001.jpg   \n",
       "1      100       19      576      203       103  test_00002.jpg   \n",
       "2       51      105      968      659       145  test_00003.jpg   \n",
       "3       67       84      581      407       187  test_00004.jpg   \n",
       "4      140      151      593      339       185  test_00005.jpg   \n",
       "\n",
       "                            class_name  test  \n",
       "0              Suzuki Aerio Sedan 2007     1  \n",
       "1  Ferrari 458 Italia Convertible 2012     1  \n",
       "2                Jeep Patriot SUV 2012     1  \n",
       "3              Toyota Camry Sedan 2012     1  \n",
       "4             Tesla Model S Sedan 2012     1  "
      ]
     },
     "execution_count": 458,
     "metadata": {},
     "output_type": "execute_result"
    }
   ],
   "source": [
    "test_df_all_img = test_df.copy()\n",
    "test_df_all_img['filename'] = test_df_all_img['filename'].map(lambda x: f'test_{x}')\n",
    "test_df_all_img.head()"
   ]
  },
  {
   "cell_type": "code",
   "execution_count": 463,
   "metadata": {},
   "outputs": [],
   "source": [
    "#all_img_df = pd.concat([train_df,test_df_all_img])\n",
    "#all_img_df = all_img_df.loc[:,['filename', 'class_name', 'class_id', 'test']]\n",
    "#all_img_df.to_csv('all_img.csv',index=False)"
   ]
  },
  {
   "cell_type": "code",
   "execution_count": 464,
   "metadata": {},
   "outputs": [],
   "source": [
    "#Add cropped file names \n",
    "train_df['filename_cropped'] = train_df['filename'].map(lambda x: f'cropped_{x}')\n",
    "#train_df.to_csv('train_labels.csv',index=False)"
   ]
  },
  {
   "cell_type": "code",
   "execution_count": 465,
   "metadata": {},
   "outputs": [
    {
     "data": {
      "text/plain": [
       "(196, 196)"
      ]
     },
     "execution_count": 465,
     "metadata": {},
     "output_type": "execute_result"
    }
   ],
   "source": [
    "#Ensuring class names and class ids are mapped properly \n",
    "train_df['class_name'].nunique(), train_df['class_id'].nunique()"
   ]
  },
  {
   "cell_type": "code",
   "execution_count": 275,
   "metadata": {},
   "outputs": [],
   "source": [
    "def _crop(df, path, i):\n",
    "    img = Image.open(path + df['filename'][i])\n",
    "    x1 = df['bbox_x1'][i]\n",
    "    y1 =df['bbox_y1'][i]\n",
    "    y2 = df['bbox_y2'][i]\n",
    "    x2 = df['bbox_x2'][i]\n",
    "    bbox = (x1,y1,x2,y2)\n",
    "    return img.crop(bbox)\n",
    "\n",
    "def save(img,df,path,i): \n",
    "    return img.save(f'{path + df[\"filename_cropped\"][i]}')\n",
    "                    \n",
    "def get_cropped_image(df,path,cropped_path,i):\n",
    "    cropped = _crop(df,path,i)\n",
    "    return save(cropped,df,cropped_path,i)\n",
    "    "
   ]
  },
  {
   "cell_type": "code",
   "execution_count": null,
   "metadata": {},
   "outputs": [],
   "source": [
    "#Generate cropped images\n",
    "list(map(lambda x: get_cropped_image(train_df,train_path,cropped_path,x), list(range(len(train_df)))))"
   ]
  },
  {
   "cell_type": "markdown",
   "metadata": {},
   "source": [
    "#### Commence training: Stage-1 \n",
    "- Setting up data bunch and transformations"
   ]
  },
  {
   "cell_type": "code",
   "execution_count": 196,
   "metadata": {},
   "outputs": [],
   "source": [
    "tfms = get_transforms()\n",
    "trn_df_labels = train_df[['filename','class_name']]\n",
    "\n",
    "src = (ImageList.from_df(trn_df_labels,train_path, cols='filename')\n",
    "       .split_by_rand_pct(0.2, seed=42).label_from_df('class_name'))"
   ]
  },
  {
   "cell_type": "code",
   "execution_count": 197,
   "metadata": {},
   "outputs": [],
   "source": [
    "data128 = (src.transform(tfms,size=128).databunch(bs=64).normalize(imagenet_stats))"
   ]
  },
  {
   "cell_type": "code",
   "execution_count": 213,
   "metadata": {},
   "outputs": [],
   "source": [
    "learn = cnn_learner(data128,models.resnet50,metrics=[error_rate,accuracy, Precision(average='weighted'), Recall(average='weighted')])"
   ]
  },
  {
   "cell_type": "code",
   "execution_count": 206,
   "metadata": {},
   "outputs": [
    {
     "data": {
      "text/html": [],
      "text/plain": [
       "<IPython.core.display.HTML object>"
      ]
     },
     "metadata": {},
     "output_type": "display_data"
    },
    {
     "name": "stdout",
     "output_type": "stream",
     "text": [
      "LR Finder is complete, type {learner_name}.recorder.plot() to see the graph.\n"
     ]
    }
   ],
   "source": [
    "learn.lr_find()"
   ]
  },
  {
   "cell_type": "code",
   "execution_count": 208,
   "metadata": {},
   "outputs": [
    {
     "name": "stdout",
     "output_type": "stream",
     "text": [
      "Min numerical gradient: 6.31E-07\n"
     ]
    },
    {
     "data": {
      "image/png": "[encoded data removed]",
      "text/plain": [
       "<Figure size 432x288 with 1 Axes>"
      ]
     },
     "metadata": {
      "needs_background": "light"
     },
     "output_type": "display_data"
    }
   ],
   "source": [
    "learn.recorder.plot(suggestion=True)"
   ]
  },
  {
   "cell_type": "code",
   "execution_count": 211,
   "metadata": {},
   "outputs": [
    {
     "data": {
      "text/html": [
       "<table border=\"1\" class=\"dataframe\">\n",
       "  <thead>\n",
       "    <tr style=\"text-align: left;\">\n",
       "      <th>epoch</th>\n",
       "      <th>train_loss</th>\n",
       "      <th>valid_loss</th>\n",
       "      <th>error_rate</th>\n",
       "      <th>accuracy</th>\n",
       "      <th>precision</th>\n",
       "      <th>recall</th>\n",
       "      <th>time</th>\n",
       "    </tr>\n",
       "  </thead>\n",
       "  <tbody>\n",
       "    <tr>\n",
       "      <td>0</td>\n",
       "      <td>5.138432</td>\n",
       "      <td>4.226190</td>\n",
       "      <td>0.884521</td>\n",
       "      <td>0.115479</td>\n",
       "      <td>nan</td>\n",
       "      <td>0.115479</td>\n",
       "      <td>00:45</td>\n",
       "    </tr>\n",
       "    <tr>\n",
       "      <td>1</td>\n",
       "      <td>4.119222</td>\n",
       "      <td>3.818387</td>\n",
       "      <td>0.847052</td>\n",
       "      <td>0.152948</td>\n",
       "      <td>nan</td>\n",
       "      <td>0.152948</td>\n",
       "      <td>00:45</td>\n",
       "    </tr>\n",
       "    <tr>\n",
       "      <td>2</td>\n",
       "      <td>3.711101</td>\n",
       "      <td>3.469118</td>\n",
       "      <td>0.820025</td>\n",
       "      <td>0.179975</td>\n",
       "      <td>nan</td>\n",
       "      <td>0.179975</td>\n",
       "      <td>00:46</td>\n",
       "    </tr>\n",
       "    <tr>\n",
       "      <td>3</td>\n",
       "      <td>3.231939</td>\n",
       "      <td>3.002592</td>\n",
       "      <td>0.745086</td>\n",
       "      <td>0.254914</td>\n",
       "      <td>nan</td>\n",
       "      <td>0.254914</td>\n",
       "      <td>00:46</td>\n",
       "    </tr>\n",
       "    <tr>\n",
       "      <td>4</td>\n",
       "      <td>2.755414</td>\n",
       "      <td>2.743575</td>\n",
       "      <td>0.691032</td>\n",
       "      <td>0.308968</td>\n",
       "      <td>nan</td>\n",
       "      <td>0.308968</td>\n",
       "      <td>00:46</td>\n",
       "    </tr>\n",
       "    <tr>\n",
       "      <td>5</td>\n",
       "      <td>2.445485</td>\n",
       "      <td>2.228982</td>\n",
       "      <td>0.576781</td>\n",
       "      <td>0.423219</td>\n",
       "      <td>nan</td>\n",
       "      <td>0.423219</td>\n",
       "      <td>00:46</td>\n",
       "    </tr>\n",
       "    <tr>\n",
       "      <td>6</td>\n",
       "      <td>2.057514</td>\n",
       "      <td>1.876806</td>\n",
       "      <td>0.496314</td>\n",
       "      <td>0.503685</td>\n",
       "      <td>nan</td>\n",
       "      <td>0.503685</td>\n",
       "      <td>00:44</td>\n",
       "    </tr>\n",
       "    <tr>\n",
       "      <td>7</td>\n",
       "      <td>1.624446</td>\n",
       "      <td>1.574086</td>\n",
       "      <td>0.430590</td>\n",
       "      <td>0.569410</td>\n",
       "      <td>nan</td>\n",
       "      <td>0.569410</td>\n",
       "      <td>00:46</td>\n",
       "    </tr>\n",
       "    <tr>\n",
       "      <td>8</td>\n",
       "      <td>1.356377</td>\n",
       "      <td>1.466112</td>\n",
       "      <td>0.391892</td>\n",
       "      <td>0.608108</td>\n",
       "      <td>0.639639</td>\n",
       "      <td>0.608108</td>\n",
       "      <td>00:45</td>\n",
       "    </tr>\n",
       "    <tr>\n",
       "      <td>9</td>\n",
       "      <td>1.182848</td>\n",
       "      <td>1.449367</td>\n",
       "      <td>0.388206</td>\n",
       "      <td>0.611794</td>\n",
       "      <td>0.646562</td>\n",
       "      <td>0.611794</td>\n",
       "      <td>00:47</td>\n",
       "    </tr>\n",
       "  </tbody>\n",
       "</table>"
      ],
      "text/plain": [
       "<IPython.core.display.HTML object>"
      ]
     },
     "metadata": {},
     "output_type": "display_data"
    }
   ],
   "source": [
    "learn.fit_one_cycle(10, 1e-2)"
   ]
  },
  {
   "cell_type": "code",
   "execution_count": 212,
   "metadata": {},
   "outputs": [],
   "source": [
    "learn.save('resnet-50-v1-10ep-lr1e-2')"
   ]
  },
  {
   "cell_type": "markdown",
   "metadata": {},
   "source": [
    "#### Stage-2\n",
    "- Unfreezing the model to train body's weight"
   ]
  },
  {
   "cell_type": "code",
   "execution_count": 222,
   "metadata": {},
   "outputs": [],
   "source": [
    "#Load the best model from stage-1\n",
    "learn.load('resnet-50-v1-10ep-lr1e-2');"
   ]
  },
  {
   "cell_type": "code",
   "execution_count": 223,
   "metadata": {},
   "outputs": [],
   "source": [
    "learn.unfreeze()"
   ]
  },
  {
   "cell_type": "code",
   "execution_count": 219,
   "metadata": {},
   "outputs": [
    {
     "data": {
      "text/html": [],
      "text/plain": [
       "<IPython.core.display.HTML object>"
      ]
     },
     "metadata": {},
     "output_type": "display_data"
    },
    {
     "name": "stdout",
     "output_type": "stream",
     "text": [
      "LR Finder is complete, type {learner_name}.recorder.plot() to see the graph.\n"
     ]
    }
   ],
   "source": [
    "learn.lr_find()"
   ]
  },
  {
   "cell_type": "code",
   "execution_count": 220,
   "metadata": {},
   "outputs": [
    {
     "data": {
      "image/png": "[encoded data removed]",
      "text/plain": [
       "<Figure size 432x288 with 1 Axes>"
      ]
     },
     "metadata": {
      "needs_background": "light"
     },
     "output_type": "display_data"
    }
   ],
   "source": [
    "learn.recorder.plot()"
   ]
  },
  {
   "cell_type": "code",
   "execution_count": 224,
   "metadata": {},
   "outputs": [
    {
     "data": {
      "text/html": [
       "<table border=\"1\" class=\"dataframe\">\n",
       "  <thead>\n",
       "    <tr style=\"text-align: left;\">\n",
       "      <th>epoch</th>\n",
       "      <th>train_loss</th>\n",
       "      <th>valid_loss</th>\n",
       "      <th>error_rate</th>\n",
       "      <th>accuracy</th>\n",
       "      <th>precision</th>\n",
       "      <th>recall</th>\n",
       "      <th>time</th>\n",
       "    </tr>\n",
       "  </thead>\n",
       "  <tbody>\n",
       "    <tr>\n",
       "      <td>0</td>\n",
       "      <td>1.194527</td>\n",
       "      <td>1.423693</td>\n",
       "      <td>0.376536</td>\n",
       "      <td>0.623464</td>\n",
       "      <td>0.652011</td>\n",
       "      <td>0.623464</td>\n",
       "      <td>00:47</td>\n",
       "    </tr>\n",
       "    <tr>\n",
       "      <td>1</td>\n",
       "      <td>1.150866</td>\n",
       "      <td>1.397366</td>\n",
       "      <td>0.377150</td>\n",
       "      <td>0.622850</td>\n",
       "      <td>0.653201</td>\n",
       "      <td>0.622850</td>\n",
       "      <td>00:46</td>\n",
       "    </tr>\n",
       "    <tr>\n",
       "      <td>2</td>\n",
       "      <td>1.084218</td>\n",
       "      <td>1.356243</td>\n",
       "      <td>0.363636</td>\n",
       "      <td>0.636364</td>\n",
       "      <td>0.670448</td>\n",
       "      <td>0.636364</td>\n",
       "      <td>00:48</td>\n",
       "    </tr>\n",
       "    <tr>\n",
       "      <td>3</td>\n",
       "      <td>1.008702</td>\n",
       "      <td>1.330672</td>\n",
       "      <td>0.350737</td>\n",
       "      <td>0.649263</td>\n",
       "      <td>0.673674</td>\n",
       "      <td>0.649263</td>\n",
       "      <td>00:48</td>\n",
       "    </tr>\n",
       "    <tr>\n",
       "      <td>4</td>\n",
       "      <td>0.963027</td>\n",
       "      <td>1.325752</td>\n",
       "      <td>0.355037</td>\n",
       "      <td>0.644963</td>\n",
       "      <td>0.672400</td>\n",
       "      <td>0.644963</td>\n",
       "      <td>00:47</td>\n",
       "    </tr>\n",
       "  </tbody>\n",
       "</table>"
      ],
      "text/plain": [
       "<IPython.core.display.HTML object>"
      ]
     },
     "metadata": {},
     "output_type": "display_data"
    }
   ],
   "source": [
    "learn.fit_one_cycle(5, max_lr=slice(1e-6,3e-4))"
   ]
  },
  {
   "cell_type": "code",
   "execution_count": 225,
   "metadata": {},
   "outputs": [],
   "source": [
    "learn.save('resnet-50-v2-5ep-lr1e-6,3e-4')"
   ]
  },
  {
   "cell_type": "markdown",
   "metadata": {},
   "source": [
    "#### Stage-3\n",
    "- Resizing the images to 224"
   ]
  },
  {
   "cell_type": "code",
   "execution_count": 245,
   "metadata": {},
   "outputs": [],
   "source": [
    "learn.load('resnet-50-v2-5ep-lr1e-6,3e-4');"
   ]
  },
  {
   "cell_type": "code",
   "execution_count": 246,
   "metadata": {},
   "outputs": [],
   "source": [
    "data224= (src.transform(tfms,size=224).databunch(bs=64).normalize(imagenet_stats))"
   ]
  },
  {
   "cell_type": "code",
   "execution_count": 247,
   "metadata": {},
   "outputs": [],
   "source": [
    "learn.data = data224"
   ]
  },
  {
   "cell_type": "code",
   "execution_count": 238,
   "metadata": {},
   "outputs": [
    {
     "data": {
      "text/html": [],
      "text/plain": [
       "<IPython.core.display.HTML object>"
      ]
     },
     "metadata": {},
     "output_type": "display_data"
    },
    {
     "name": "stdout",
     "output_type": "stream",
     "text": [
      "LR Finder is complete, type {learner_name}.recorder.plot() to see the graph.\n"
     ]
    },
    {
     "data": {
      "image/png": "[encoded data removed]",
      "text/plain": [
       "<Figure size 432x288 with 1 Axes>"
      ]
     },
     "metadata": {
      "needs_background": "light"
     },
     "output_type": "display_data"
    }
   ],
   "source": [
    "learn.freeze()\n",
    "learn.lr_find()\n",
    "learn.recorder.plot()"
   ]
  },
  {
   "cell_type": "code",
   "execution_count": 248,
   "metadata": {},
   "outputs": [
    {
     "data": {
      "text/html": [
       "<table border=\"1\" class=\"dataframe\">\n",
       "  <thead>\n",
       "    <tr style=\"text-align: left;\">\n",
       "      <th>epoch</th>\n",
       "      <th>train_loss</th>\n",
       "      <th>valid_loss</th>\n",
       "      <th>error_rate</th>\n",
       "      <th>accuracy</th>\n",
       "      <th>precision</th>\n",
       "      <th>recall</th>\n",
       "      <th>time</th>\n",
       "    </tr>\n",
       "  </thead>\n",
       "  <tbody>\n",
       "    <tr>\n",
       "      <td>0</td>\n",
       "      <td>1.351839</td>\n",
       "      <td>1.182503</td>\n",
       "      <td>0.328624</td>\n",
       "      <td>0.671376</td>\n",
       "      <td>0.704447</td>\n",
       "      <td>0.671376</td>\n",
       "      <td>01:13</td>\n",
       "    </tr>\n",
       "    <tr>\n",
       "      <td>1</td>\n",
       "      <td>1.133406</td>\n",
       "      <td>1.146795</td>\n",
       "      <td>0.329238</td>\n",
       "      <td>0.670762</td>\n",
       "      <td>0.714662</td>\n",
       "      <td>0.670762</td>\n",
       "      <td>01:13</td>\n",
       "    </tr>\n",
       "    <tr>\n",
       "      <td>2</td>\n",
       "      <td>0.932171</td>\n",
       "      <td>0.997145</td>\n",
       "      <td>0.287469</td>\n",
       "      <td>0.712531</td>\n",
       "      <td>0.743484</td>\n",
       "      <td>0.712531</td>\n",
       "      <td>01:13</td>\n",
       "    </tr>\n",
       "    <tr>\n",
       "      <td>3</td>\n",
       "      <td>0.733333</td>\n",
       "      <td>0.908603</td>\n",
       "      <td>0.261671</td>\n",
       "      <td>0.738329</td>\n",
       "      <td>0.757512</td>\n",
       "      <td>0.738329</td>\n",
       "      <td>01:13</td>\n",
       "    </tr>\n",
       "    <tr>\n",
       "      <td>4</td>\n",
       "      <td>0.614609</td>\n",
       "      <td>0.900460</td>\n",
       "      <td>0.264742</td>\n",
       "      <td>0.735258</td>\n",
       "      <td>0.757165</td>\n",
       "      <td>0.735258</td>\n",
       "      <td>01:15</td>\n",
       "    </tr>\n",
       "  </tbody>\n",
       "</table>"
      ],
      "text/plain": [
       "<IPython.core.display.HTML object>"
      ]
     },
     "metadata": {},
     "output_type": "display_data"
    }
   ],
   "source": [
    "learn.fit_one_cycle(5,3e-3)"
   ]
  },
  {
   "cell_type": "code",
   "execution_count": 244,
   "metadata": {},
   "outputs": [],
   "source": [
    "learn.save('resnet50-v2-224-5ep-lr1e-2')"
   ]
  },
  {
   "cell_type": "code",
   "execution_count": 249,
   "metadata": {},
   "outputs": [],
   "source": [
    "learn.save('resnet50-v2-224-5ep-lr3e-3')"
   ]
  },
  {
   "cell_type": "markdown",
   "metadata": {},
   "source": [
    "#### Stage-4\n",
    "- Unfreezing the model for data sized 224"
   ]
  },
  {
   "cell_type": "code",
   "execution_count": 257,
   "metadata": {},
   "outputs": [],
   "source": [
    "learn.load('resnet50-v2-224-5ep-lr1e-2');"
   ]
  },
  {
   "cell_type": "code",
   "execution_count": 258,
   "metadata": {},
   "outputs": [],
   "source": [
    "learn.unfreeze()"
   ]
  },
  {
   "cell_type": "code",
   "execution_count": 259,
   "metadata": {},
   "outputs": [
    {
     "data": {
      "text/html": [],
      "text/plain": [
       "<IPython.core.display.HTML object>"
      ]
     },
     "metadata": {},
     "output_type": "display_data"
    },
    {
     "name": "stdout",
     "output_type": "stream",
     "text": [
      "LR Finder is complete, type {learner_name}.recorder.plot() to see the graph.\n"
     ]
    }
   ],
   "source": [
    "learn.lr_find()"
   ]
  },
  {
   "cell_type": "code",
   "execution_count": 260,
   "metadata": {},
   "outputs": [
    {
     "data": {
      "image/png": "[encoded data removed]",
      "text/plain": [
       "<Figure size 432x288 with 1 Axes>"
      ]
     },
     "metadata": {
      "needs_background": "light"
     },
     "output_type": "display_data"
    }
   ],
   "source": [
    "learn.recorder.plot()"
   ]
  },
  {
   "cell_type": "code",
   "execution_count": 261,
   "metadata": {},
   "outputs": [
    {
     "data": {
      "text/html": [
       "<table border=\"1\" class=\"dataframe\">\n",
       "  <thead>\n",
       "    <tr style=\"text-align: left;\">\n",
       "      <th>epoch</th>\n",
       "      <th>train_loss</th>\n",
       "      <th>valid_loss</th>\n",
       "      <th>error_rate</th>\n",
       "      <th>accuracy</th>\n",
       "      <th>precision</th>\n",
       "      <th>recall</th>\n",
       "      <th>time</th>\n",
       "    </tr>\n",
       "  </thead>\n",
       "  <tbody>\n",
       "    <tr>\n",
       "      <td>0</td>\n",
       "      <td>0.645909</td>\n",
       "      <td>0.911374</td>\n",
       "      <td>0.259214</td>\n",
       "      <td>0.740786</td>\n",
       "      <td>0.764781</td>\n",
       "      <td>0.740786</td>\n",
       "      <td>01:31</td>\n",
       "    </tr>\n",
       "    <tr>\n",
       "      <td>1</td>\n",
       "      <td>0.646370</td>\n",
       "      <td>0.886123</td>\n",
       "      <td>0.247543</td>\n",
       "      <td>0.752457</td>\n",
       "      <td>0.773807</td>\n",
       "      <td>0.752457</td>\n",
       "      <td>01:32</td>\n",
       "    </tr>\n",
       "    <tr>\n",
       "      <td>2</td>\n",
       "      <td>0.576843</td>\n",
       "      <td>0.850081</td>\n",
       "      <td>0.235258</td>\n",
       "      <td>0.764742</td>\n",
       "      <td>0.780163</td>\n",
       "      <td>0.764742</td>\n",
       "      <td>01:33</td>\n",
       "    </tr>\n",
       "    <tr>\n",
       "      <td>3</td>\n",
       "      <td>0.500295</td>\n",
       "      <td>0.806696</td>\n",
       "      <td>0.219902</td>\n",
       "      <td>0.780098</td>\n",
       "      <td>0.795138</td>\n",
       "      <td>0.780098</td>\n",
       "      <td>01:32</td>\n",
       "    </tr>\n",
       "    <tr>\n",
       "      <td>4</td>\n",
       "      <td>0.449587</td>\n",
       "      <td>0.805641</td>\n",
       "      <td>0.218059</td>\n",
       "      <td>0.781941</td>\n",
       "      <td>0.795029</td>\n",
       "      <td>0.781941</td>\n",
       "      <td>01:32</td>\n",
       "    </tr>\n",
       "  </tbody>\n",
       "</table>"
      ],
      "text/plain": [
       "<IPython.core.display.HTML object>"
      ]
     },
     "metadata": {},
     "output_type": "display_data"
    }
   ],
   "source": [
    "learn.fit_one_cycle(5,slice(3e-6,3e-4))"
   ]
  },
  {
   "cell_type": "code",
   "execution_count": 256,
   "metadata": {},
   "outputs": [],
   "source": [
    "learn.save('resnet50-v3-224-5ep-lr1e-5')"
   ]
  },
  {
   "cell_type": "code",
   "execution_count": 291,
   "metadata": {},
   "outputs": [],
   "source": [
    "learn.save('resnet50-v3-224-5ep-lr3e-6,3e-4')"
   ]
  },
  {
   "cell_type": "markdown",
   "metadata": {},
   "source": [
    "#### Stage-5\n",
    "- Last resizing to 299 "
   ]
  },
  {
   "cell_type": "code",
   "execution_count": 336,
   "metadata": {},
   "outputs": [],
   "source": [
    "learn.load('resnet50-v3-224-5ep-lr3e-6,3e-4');"
   ]
  },
  {
   "cell_type": "code",
   "execution_count": 337,
   "metadata": {},
   "outputs": [],
   "source": [
    "data299 = (src.transform(tfms,size=299).databunch(bs=64//2).normalize(imagenet_stats))"
   ]
  },
  {
   "cell_type": "code",
   "execution_count": 484,
   "metadata": {},
   "outputs": [],
   "source": [
    "learn.data = data299"
   ]
  },
  {
   "cell_type": "code",
   "execution_count": 339,
   "metadata": {},
   "outputs": [],
   "source": [
    "learn.freeze()"
   ]
  },
  {
   "cell_type": "code",
   "execution_count": 340,
   "metadata": {},
   "outputs": [
    {
     "data": {
      "text/html": [],
      "text/plain": [
       "<IPython.core.display.HTML object>"
      ]
     },
     "metadata": {},
     "output_type": "display_data"
    },
    {
     "name": "stdout",
     "output_type": "stream",
     "text": [
      "LR Finder is complete, type {learner_name}.recorder.plot() to see the graph.\n"
     ]
    }
   ],
   "source": [
    "learn.lr_find()"
   ]
  },
  {
   "cell_type": "code",
   "execution_count": 341,
   "metadata": {},
   "outputs": [
    {
     "data": {
      "image/png": "[encoded data removed]",
      "text/plain": [
       "<Figure size 432x288 with 1 Axes>"
      ]
     },
     "metadata": {
      "needs_background": "light"
     },
     "output_type": "display_data"
    }
   ],
   "source": [
    "learn.recorder.plot()"
   ]
  },
  {
   "cell_type": "code",
   "execution_count": 299,
   "metadata": {},
   "outputs": [
    {
     "data": {
      "text/html": [
       "<table border=\"1\" class=\"dataframe\">\n",
       "  <thead>\n",
       "    <tr style=\"text-align: left;\">\n",
       "      <th>epoch</th>\n",
       "      <th>train_loss</th>\n",
       "      <th>valid_loss</th>\n",
       "      <th>error_rate</th>\n",
       "      <th>accuracy</th>\n",
       "      <th>precision</th>\n",
       "      <th>recall</th>\n",
       "      <th>time</th>\n",
       "    </tr>\n",
       "  </thead>\n",
       "  <tbody>\n",
       "    <tr>\n",
       "      <td>0</td>\n",
       "      <td>0.669053</td>\n",
       "      <td>0.837330</td>\n",
       "      <td>0.233415</td>\n",
       "      <td>0.766585</td>\n",
       "      <td>0.784629</td>\n",
       "      <td>0.766585</td>\n",
       "      <td>02:10</td>\n",
       "    </tr>\n",
       "    <tr>\n",
       "      <td>1</td>\n",
       "      <td>0.650914</td>\n",
       "      <td>0.809797</td>\n",
       "      <td>0.222973</td>\n",
       "      <td>0.777027</td>\n",
       "      <td>0.801958</td>\n",
       "      <td>0.777027</td>\n",
       "      <td>02:08</td>\n",
       "    </tr>\n",
       "    <tr>\n",
       "      <td>2</td>\n",
       "      <td>0.555341</td>\n",
       "      <td>0.776597</td>\n",
       "      <td>0.217445</td>\n",
       "      <td>0.782555</td>\n",
       "      <td>0.805800</td>\n",
       "      <td>0.782555</td>\n",
       "      <td>02:08</td>\n",
       "    </tr>\n",
       "    <tr>\n",
       "      <td>3</td>\n",
       "      <td>0.455643</td>\n",
       "      <td>0.738147</td>\n",
       "      <td>0.194103</td>\n",
       "      <td>0.805897</td>\n",
       "      <td>0.823040</td>\n",
       "      <td>0.805897</td>\n",
       "      <td>02:08</td>\n",
       "    </tr>\n",
       "    <tr>\n",
       "      <td>4</td>\n",
       "      <td>0.404386</td>\n",
       "      <td>0.732418</td>\n",
       "      <td>0.195332</td>\n",
       "      <td>0.804668</td>\n",
       "      <td>0.821466</td>\n",
       "      <td>0.804668</td>\n",
       "      <td>02:09</td>\n",
       "    </tr>\n",
       "  </tbody>\n",
       "</table>"
      ],
      "text/plain": [
       "<IPython.core.display.HTML object>"
      ]
     },
     "metadata": {},
     "output_type": "display_data"
    }
   ],
   "source": [
    "learn.fit_one_cycle(5)"
   ]
  },
  {
   "cell_type": "code",
   "execution_count": 328,
   "metadata": {},
   "outputs": [],
   "source": [
    "learn.save('resnet50-v1-299-5ep-lr3e-3')"
   ]
  },
  {
   "cell_type": "markdown",
   "metadata": {},
   "source": [
    "#### Stage-6 \n",
    "- Unfreezing and last 5 epochs "
   ]
  },
  {
   "cell_type": "code",
   "execution_count": 485,
   "metadata": {},
   "outputs": [],
   "source": [
    "learn.load('resnet50-v1-299-5ep-lr3e-3');"
   ]
  },
  {
   "cell_type": "code",
   "execution_count": 486,
   "metadata": {},
   "outputs": [],
   "source": [
    "learn.unfreeze()"
   ]
  },
  {
   "cell_type": "code",
   "execution_count": 488,
   "metadata": {},
   "outputs": [
    {
     "data": {
      "text/html": [],
      "text/plain": [
       "<IPython.core.display.HTML object>"
      ]
     },
     "metadata": {},
     "output_type": "display_data"
    },
    {
     "name": "stdout",
     "output_type": "stream",
     "text": [
      "LR Finder is complete, type {learner_name}.recorder.plot() to see the graph.\n"
     ]
    }
   ],
   "source": [
    "learn.lr_find()"
   ]
  },
  {
   "cell_type": "code",
   "execution_count": 487,
   "metadata": {},
   "outputs": [
    {
     "data": {
      "text/html": [],
      "text/plain": [
       "<IPython.core.display.HTML object>"
      ]
     },
     "metadata": {},
     "output_type": "display_data"
    },
    {
     "name": "stdout",
     "output_type": "stream",
     "text": [
      "LR Finder is complete, type {learner_name}.recorder.plot() to see the graph.\n"
     ]
    },
    {
     "data": {
      "image/png": "[encoded data removed]",
      "text/plain": [
       "<Figure size 432x288 with 1 Axes>"
      ]
     },
     "metadata": {
      "needs_background": "light"
     },
     "output_type": "display_data"
    }
   ],
   "source": [
    "learn.recorder.plot()"
   ]
  },
  {
   "cell_type": "code",
   "execution_count": 489,
   "metadata": {},
   "outputs": [
    {
     "data": {
      "text/html": [
       "<table border=\"1\" class=\"dataframe\">\n",
       "  <thead>\n",
       "    <tr style=\"text-align: left;\">\n",
       "      <th>epoch</th>\n",
       "      <th>train_loss</th>\n",
       "      <th>valid_loss</th>\n",
       "      <th>error_rate</th>\n",
       "      <th>accuracy</th>\n",
       "      <th>precision</th>\n",
       "      <th>recall</th>\n",
       "      <th>time</th>\n",
       "    </tr>\n",
       "  </thead>\n",
       "  <tbody>\n",
       "    <tr>\n",
       "      <td>0</td>\n",
       "      <td>0.382608</td>\n",
       "      <td>0.726346</td>\n",
       "      <td>0.191646</td>\n",
       "      <td>0.808354</td>\n",
       "      <td>0.824645</td>\n",
       "      <td>0.808354</td>\n",
       "      <td>02:46</td>\n",
       "    </tr>\n",
       "    <tr>\n",
       "      <td>1</td>\n",
       "      <td>0.374835</td>\n",
       "      <td>0.710805</td>\n",
       "      <td>0.194717</td>\n",
       "      <td>0.805283</td>\n",
       "      <td>0.822556</td>\n",
       "      <td>0.805283</td>\n",
       "      <td>02:46</td>\n",
       "    </tr>\n",
       "    <tr>\n",
       "      <td>2</td>\n",
       "      <td>0.359276</td>\n",
       "      <td>0.707630</td>\n",
       "      <td>0.192260</td>\n",
       "      <td>0.807740</td>\n",
       "      <td>0.824675</td>\n",
       "      <td>0.807740</td>\n",
       "      <td>02:47</td>\n",
       "    </tr>\n",
       "    <tr>\n",
       "      <td>3</td>\n",
       "      <td>0.377893</td>\n",
       "      <td>0.701999</td>\n",
       "      <td>0.192875</td>\n",
       "      <td>0.807125</td>\n",
       "      <td>0.822989</td>\n",
       "      <td>0.807125</td>\n",
       "      <td>02:47</td>\n",
       "    </tr>\n",
       "    <tr>\n",
       "      <td>4</td>\n",
       "      <td>0.344796</td>\n",
       "      <td>0.704292</td>\n",
       "      <td>0.195332</td>\n",
       "      <td>0.804668</td>\n",
       "      <td>0.821273</td>\n",
       "      <td>0.804668</td>\n",
       "      <td>02:47</td>\n",
       "    </tr>\n",
       "  </tbody>\n",
       "</table>"
      ],
      "text/plain": [
       "<IPython.core.display.HTML object>"
      ]
     },
     "metadata": {},
     "output_type": "display_data"
    }
   ],
   "source": [
    "learn.fit_one_cycle(5,slice(1e-6,1e-5))"
   ]
  },
  {
   "cell_type": "code",
   "execution_count": 490,
   "metadata": {},
   "outputs": [],
   "source": [
    "learn.save('resnet50-v2-299-5ep-lr1e-6,1e-5')"
   ]
  },
  {
   "cell_type": "markdown",
   "metadata": {},
   "source": [
    "#### Conclusion \n",
    "- This model started to overfit and training should stop as it doesn't show any increase in accuracy"
   ]
  },
  {
   "cell_type": "markdown",
   "metadata": {},
   "source": [
    "### Test Set Performance"
   ]
  },
  {
   "cell_type": "code",
   "execution_count": 478,
   "metadata": {},
   "outputs": [],
   "source": [
    "data_test = (ImageList.from_df(all_img_df,all_img_path,cols='filename')\n",
    "           .split_from_df(col='test').label_from_df(cols='class_name').transform(tfms,size=299).databunch(bs=64).normalize(imagenet_stats))"
   ]
  },
  {
   "cell_type": "code",
   "execution_count": 491,
   "metadata": {},
   "outputs": [],
   "source": [
    "learn.load('resnet50-v2-299-5ep-lr1e-6,1e-5');"
   ]
  },
  {
   "cell_type": "code",
   "execution_count": 492,
   "metadata": {},
   "outputs": [],
   "source": [
    "learn.data = data_test"
   ]
  },
  {
   "cell_type": "code",
   "execution_count": 493,
   "metadata": {},
   "outputs": [
    {
     "data": {
      "text/html": [],
      "text/plain": [
       "<IPython.core.display.HTML object>"
      ]
     },
     "metadata": {},
     "output_type": "display_data"
    }
   ],
   "source": [
    "test_preds, test_ys = learn.TTA()"
   ]
  },
  {
   "cell_type": "code",
   "execution_count": 494,
   "metadata": {},
   "outputs": [
    {
     "data": {
      "text/plain": [
       "tensor(0.8261)"
      ]
     },
     "execution_count": 494,
     "metadata": {},
     "output_type": "execute_result"
    }
   ],
   "source": [
    "accuracy(test_preds,test_ys)"
   ]
  },
  {
   "cell_type": "markdown",
   "metadata": {},
   "source": [
    "Baseline accuracy will be 82.61% with resnet50"
   ]
  }
 ],
 "metadata": {
  "kernelspec": {
   "display_name": "Python 3",
   "language": "python",
   "name": "python3"
  },
  "language_info": {
   "codemirror_mode": {
    "name": "ipython",
    "version": 3
   },
   "file_extension": ".py",
   "mimetype": "text/x-python",
   "name": "python",
   "nbconvert_exporter": "python",
   "pygments_lexer": "ipython3",
   "version": "3.7.3"
  }
 },
 "nbformat": 4,
 "nbformat_minor": 2
}
