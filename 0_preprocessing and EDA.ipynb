{
 "cells": [
  {
   "cell_type": "markdown",
   "metadata": {},
   "source": [
    "# Processing images\n",
    "\n",
    "Notebook contain codes to download images, data extraction from .mat files and initial EDA. "
   ]
  },
  {
   "cell_type": "code",
   "execution_count": 26,
   "metadata": {},
   "outputs": [],
   "source": [
    "import pandas as pd\n",
    "from pathlib import Path\n",
    "from scipy.io import loadmat\n",
    "from PIL import Image"
   ]
  },
  {
   "cell_type": "code",
   "execution_count": 27,
   "metadata": {},
   "outputs": [],
   "source": [
    "from fastai import *\n",
    "from fastai.vision import *"
   ]
  },
  {
   "cell_type": "markdown",
   "metadata": {},
   "source": [
    "#### Download training set from website"
   ]
  },
  {
   "cell_type": "code",
   "execution_count": null,
   "metadata": {},
   "outputs": [],
   "source": [
    "#download_data('http://imagenet.stanford.edu/internal/car196/cars_train',fname='cars_train', data=True, ext='.tgz')\n",
    "#!tar -zxvf cars_train.tgz -C datata"
   ]
  },
  {
   "cell_type": "code",
   "execution_count": null,
   "metadata": {},
   "outputs": [],
   "source": [
    "#download_data('http://imagenet.stanford.edu/internal/car196/cars_test',fname='cars_test',ext='.tgz')\n",
    "#!tar -zxvf cars_test.tgz -C data"
   ]
  },
  {
   "cell_type": "code",
   "execution_count": null,
   "metadata": {},
   "outputs": [],
   "source": [
    "#untar_data('https://ai.stanford.edu/~jkrause/cars/car_devkit.tgz',fname='car_devkit.tgz', dest='data')"
   ]
  },
  {
   "cell_type": "markdown",
   "metadata": {},
   "source": [
    "#### Download labels for test set "
   ]
  },
  {
   "cell_type": "code",
   "execution_count": 319,
   "metadata": {},
   "outputs": [
    {
     "name": "stdout",
     "output_type": "stream",
     "text": [
      "--2019-06-05 15:42:06--  http://imagenet.stanford.edu/internal/car196/cars_test_annos_withlabels.mat\n",
      "Resolving imagenet.stanford.edu (imagenet.stanford.edu)... 171.64.68.16\n",
      "Connecting to imagenet.stanford.edu (imagenet.stanford.edu)|171.64.68.16|:80... connected.\n",
      "HTTP request sent, awaiting response... 200 OK\n",
      "Length: 185758 (181K) [text/plain]\n",
      "Saving to: ‘cars_test_annos_withlabels.mat.1’\n",
      "\n",
      "cars_test_annos_wit 100%[===================>] 181.40K   134KB/s    in 1.4s    \n",
      "\n",
      "2019-06-05 15:42:08 (134 KB/s) - ‘cars_test_annos_withlabels.mat.1’ saved [185758/185758]\n",
      "\n"
     ]
    }
   ],
   "source": [
    "#!wget http://imagenet.stanford.edu/internal/car196/cars_test_annos_withlabels.mat\n",
    "#!mv cars_test_annos_withlabels.mat data/"
   ]
  },
  {
   "cell_type": "markdown",
   "metadata": {},
   "source": [
    "#### Renaming the folders"
   ]
  },
  {
   "cell_type": "code",
   "execution_count": 42,
   "metadata": {},
   "outputs": [],
   "source": [
    "#!mv data/cars_train data/train\n",
    "#!mv data/cars_test data/test"
   ]
  },
  {
   "cell_type": "markdown",
   "metadata": {},
   "source": [
    "#### Create a unified folder where test images and train images are in for fastai learner to test at the end of training"
   ]
  },
  {
   "cell_type": "code",
   "execution_count": 418,
   "metadata": {},
   "outputs": [],
   "source": [
    "#!mkdir data/all_img\n",
    "#!cp -a data/test/. data/all_img    \n",
    "#cd data/all_img && rename 's/^/test_/' *  # renaming all the test images in the folder with 'test' suffix\n",
    "#!cp -a data/train/. data/all_img   "
   ]
  },
  {
   "cell_type": "code",
   "execution_count": 2,
   "metadata": {},
   "outputs": [],
   "source": [
    "train_path = 'data/train/'\n",
    "cropped_path = 'data/cropped_train/'\n",
    "test_path = 'data/test/'\n",
    "all_img_path = 'data/all_img'\n",
    "test_cropped_path = 'data/cropped_test/'"
   ]
  },
  {
   "cell_type": "code",
   "execution_count": null,
   "metadata": {},
   "outputs": [],
   "source": [
    "CROPPED_PATH = Path(cropped_path)\n",
    "CROPPED_PATH.mkdir(parents=True, exist_ok=True)"
   ]
  },
  {
   "cell_type": "code",
   "execution_count": 6,
   "metadata": {},
   "outputs": [],
   "source": [
    "TEST_CROPPED_PATH = Path(test_cropped_path)\n",
    "TEST_CROPPED_PATH.mkdir(parents=True, exist_ok=True)"
   ]
  },
  {
   "cell_type": "markdown",
   "metadata": {},
   "source": [
    "Code below is adapted and improved from [Devon from Kaggle](https://www.kaggle.com/criticalmassacre/inaccurate-labels-in-stanford-cars-data-set) and fixed the code to show add all the classes. Thanks!\n",
    "\n",
    "It is used to extract labels from .mat files "
   ]
  },
  {
   "cell_type": "code",
   "execution_count": 8,
   "metadata": {},
   "outputs": [],
   "source": [
    "train_an_pth = 'data/devkit/cars_train_annos.mat'\n",
    "test_an_pth = 'data/cars_test_annos_withlabels.mat'\n",
    "classes_pth = 'data/devkit/cars_meta.mat'\n",
    "\n",
    "def get_labels(annos_path, classes_path):\n",
    "    car_an = loadmat(annos_path)\n",
    "    car_meta = loadmat(classes_path)\n",
    "    annotations = car_an[\"annotations\"][0,:]\n",
    "    total_classes = len(car_meta[\"class_names\"][0])\n",
    "    class_names = dict(zip(range(1,total_classes+1),[c[0] for c in car_meta[\"class_names\"][0]]))\n",
    "    \n",
    "    labelled_images = {}\n",
    "    dataset = []\n",
    "    for arr in annotations:\n",
    "        # the last entry in the row is the image name\n",
    "        # The rest is the data, first bbox, then classid\n",
    "        dataset.append([y[0][0] for y in arr][0:5]+[arr[5][0]])\n",
    "    # Convert to a DataFrame, and specify the column names\n",
    "    temp_df = pd.DataFrame(dataset, \n",
    "                      columns =['BBOX_X1','BBOX_Y1','BBOX_X2','BBOX_Y2','ClassID','filename'])\n",
    "\n",
    "    temp_df = temp_df.assign(ClassName=temp_df.ClassID.map(dict(class_names)))\n",
    "    temp_df.columns = ['bbox_x1','bbox_y1','bbox_x2','bbox_y2','class_id','filename', 'class_name']\n",
    "    return temp_df"
   ]
  },
  {
   "cell_type": "code",
   "execution_count": 15,
   "metadata": {},
   "outputs": [],
   "source": [
    "#Creating a train dataframe\n",
    "train_df = get_labels(train_an_pth, classes_pth)\n",
    "train_df['test'] = 0 #adding a test column for testing in the future"
   ]
  },
  {
   "cell_type": "code",
   "execution_count": 16,
   "metadata": {},
   "outputs": [],
   "source": [
    "#Add cropped file names and saving it to csv\n",
    "train_df['filename_cropped'] = train_df['filename'].map(lambda x: f'cropped_{x}')\n",
    "#train_df.to_csv('train_labels.csv',index=False)"
   ]
  },
  {
   "cell_type": "markdown",
   "metadata": {},
   "source": [
    "Generate a csv of for both cropped and normal train images"
   ]
  },
  {
   "cell_type": "code",
   "execution_count": 56,
   "metadata": {},
   "outputs": [],
   "source": [
    "#train_df_cropped = train_df[['filename_cropped','class_name']].rename(columns={'filename_cropped': 'filename'})\n",
    "#train_df_norm = train_df[['filename','class_name']]\n",
    "#train_all = pd.concat([train_df_norm,train_df_cropped])\n",
    "#train_all.to_csv('train_all.csv', index=False)"
   ]
  },
  {
   "cell_type": "code",
   "execution_count": 17,
   "metadata": {},
   "outputs": [
    {
     "data": {
      "text/html": [
       "<div>\n",
       "<style scoped>\n",
       "    .dataframe tbody tr th:only-of-type {\n",
       "        vertical-align: middle;\n",
       "    }\n",
       "\n",
       "    .dataframe tbody tr th {\n",
       "        vertical-align: top;\n",
       "    }\n",
       "\n",
       "    .dataframe thead th {\n",
       "        text-align: right;\n",
       "    }\n",
       "</style>\n",
       "<table border=\"1\" class=\"dataframe\">\n",
       "  <thead>\n",
       "    <tr style=\"text-align: right;\">\n",
       "      <th></th>\n",
       "      <th>bbox_x1</th>\n",
       "      <th>bbox_y1</th>\n",
       "      <th>bbox_x2</th>\n",
       "      <th>bbox_y2</th>\n",
       "      <th>class_id</th>\n",
       "      <th>filename</th>\n",
       "      <th>class_name</th>\n",
       "      <th>test</th>\n",
       "      <th>filename_cropped</th>\n",
       "    </tr>\n",
       "  </thead>\n",
       "  <tbody>\n",
       "    <tr>\n",
       "      <th>0</th>\n",
       "      <td>39</td>\n",
       "      <td>116</td>\n",
       "      <td>569</td>\n",
       "      <td>375</td>\n",
       "      <td>14</td>\n",
       "      <td>00001.jpg</td>\n",
       "      <td>Audi TTS Coupe 2012</td>\n",
       "      <td>0</td>\n",
       "      <td>cropped_00001.jpg</td>\n",
       "    </tr>\n",
       "    <tr>\n",
       "      <th>1</th>\n",
       "      <td>36</td>\n",
       "      <td>116</td>\n",
       "      <td>868</td>\n",
       "      <td>587</td>\n",
       "      <td>3</td>\n",
       "      <td>00002.jpg</td>\n",
       "      <td>Acura TL Sedan 2012</td>\n",
       "      <td>0</td>\n",
       "      <td>cropped_00002.jpg</td>\n",
       "    </tr>\n",
       "    <tr>\n",
       "      <th>2</th>\n",
       "      <td>85</td>\n",
       "      <td>109</td>\n",
       "      <td>601</td>\n",
       "      <td>381</td>\n",
       "      <td>91</td>\n",
       "      <td>00003.jpg</td>\n",
       "      <td>Dodge Dakota Club Cab 2007</td>\n",
       "      <td>0</td>\n",
       "      <td>cropped_00003.jpg</td>\n",
       "    </tr>\n",
       "    <tr>\n",
       "      <th>3</th>\n",
       "      <td>621</td>\n",
       "      <td>393</td>\n",
       "      <td>1484</td>\n",
       "      <td>1096</td>\n",
       "      <td>134</td>\n",
       "      <td>00004.jpg</td>\n",
       "      <td>Hyundai Sonata Hybrid Sedan 2012</td>\n",
       "      <td>0</td>\n",
       "      <td>cropped_00004.jpg</td>\n",
       "    </tr>\n",
       "    <tr>\n",
       "      <th>4</th>\n",
       "      <td>14</td>\n",
       "      <td>36</td>\n",
       "      <td>133</td>\n",
       "      <td>99</td>\n",
       "      <td>106</td>\n",
       "      <td>00005.jpg</td>\n",
       "      <td>Ford F-450 Super Duty Crew Cab 2012</td>\n",
       "      <td>0</td>\n",
       "      <td>cropped_00005.jpg</td>\n",
       "    </tr>\n",
       "  </tbody>\n",
       "</table>\n",
       "</div>"
      ],
      "text/plain": [
       "   bbox_x1  bbox_y1  bbox_x2  bbox_y2  class_id   filename  \\\n",
       "0       39      116      569      375        14  00001.jpg   \n",
       "1       36      116      868      587         3  00002.jpg   \n",
       "2       85      109      601      381        91  00003.jpg   \n",
       "3      621      393     1484     1096       134  00004.jpg   \n",
       "4       14       36      133       99       106  00005.jpg   \n",
       "\n",
       "                            class_name  test   filename_cropped  \n",
       "0                  Audi TTS Coupe 2012     0  cropped_00001.jpg  \n",
       "1                  Acura TL Sedan 2012     0  cropped_00002.jpg  \n",
       "2           Dodge Dakota Club Cab 2007     0  cropped_00003.jpg  \n",
       "3     Hyundai Sonata Hybrid Sedan 2012     0  cropped_00004.jpg  \n",
       "4  Ford F-450 Super Duty Crew Cab 2012     0  cropped_00005.jpg  "
      ]
     },
     "execution_count": 17,
     "metadata": {},
     "output_type": "execute_result"
    }
   ],
   "source": [
    "#Sanity check\n",
    "train_df.head()"
   ]
  },
  {
   "cell_type": "code",
   "execution_count": 9,
   "metadata": {},
   "outputs": [],
   "source": [
    "#Creating a test dataframe with labels and saving it to csv\n",
    "test_df = get_labels(test_an_pth,classes_pth)\n",
    "test_df['test'] = 1"
   ]
  },
  {
   "cell_type": "code",
   "execution_count": 8,
   "metadata": {},
   "outputs": [],
   "source": [
    "#Sanity check\n",
    "test_df['filename_cropped'] = test_df['filename'].map(lambda x: f'test_cropped_{x}')\n",
    "test_df.head()\n",
    "test_df.to_csv('test_df.csv', index='False')"
   ]
  },
  {
   "cell_type": "code",
   "execution_count": 18,
   "metadata": {},
   "outputs": [],
   "source": [
    "test_df_all_img = test_df.copy()\n",
    "test_df_all_img['filename'] = test_df_all_img['filename'].map(lambda x: f'test_{x}')"
   ]
  },
  {
   "cell_type": "code",
   "execution_count": 19,
   "metadata": {},
   "outputs": [
    {
     "data": {
      "text/html": [
       "<div>\n",
       "<style scoped>\n",
       "    .dataframe tbody tr th:only-of-type {\n",
       "        vertical-align: middle;\n",
       "    }\n",
       "\n",
       "    .dataframe tbody tr th {\n",
       "        vertical-align: top;\n",
       "    }\n",
       "\n",
       "    .dataframe thead th {\n",
       "        text-align: right;\n",
       "    }\n",
       "</style>\n",
       "<table border=\"1\" class=\"dataframe\">\n",
       "  <thead>\n",
       "    <tr style=\"text-align: right;\">\n",
       "      <th></th>\n",
       "      <th>bbox_x1</th>\n",
       "      <th>bbox_y1</th>\n",
       "      <th>bbox_x2</th>\n",
       "      <th>bbox_y2</th>\n",
       "      <th>class_id</th>\n",
       "      <th>filename</th>\n",
       "      <th>class_name</th>\n",
       "      <th>test</th>\n",
       "      <th>filename_cropped</th>\n",
       "    </tr>\n",
       "  </thead>\n",
       "  <tbody>\n",
       "    <tr>\n",
       "      <th>0</th>\n",
       "      <td>30</td>\n",
       "      <td>52</td>\n",
       "      <td>246</td>\n",
       "      <td>147</td>\n",
       "      <td>181</td>\n",
       "      <td>test_00001.jpg</td>\n",
       "      <td>Suzuki Aerio Sedan 2007</td>\n",
       "      <td>1</td>\n",
       "      <td>test_cropped_00001.jpg</td>\n",
       "    </tr>\n",
       "    <tr>\n",
       "      <th>1</th>\n",
       "      <td>100</td>\n",
       "      <td>19</td>\n",
       "      <td>576</td>\n",
       "      <td>203</td>\n",
       "      <td>103</td>\n",
       "      <td>test_00002.jpg</td>\n",
       "      <td>Ferrari 458 Italia Convertible 2012</td>\n",
       "      <td>1</td>\n",
       "      <td>test_cropped_00002.jpg</td>\n",
       "    </tr>\n",
       "    <tr>\n",
       "      <th>2</th>\n",
       "      <td>51</td>\n",
       "      <td>105</td>\n",
       "      <td>968</td>\n",
       "      <td>659</td>\n",
       "      <td>145</td>\n",
       "      <td>test_00003.jpg</td>\n",
       "      <td>Jeep Patriot SUV 2012</td>\n",
       "      <td>1</td>\n",
       "      <td>test_cropped_00003.jpg</td>\n",
       "    </tr>\n",
       "    <tr>\n",
       "      <th>3</th>\n",
       "      <td>67</td>\n",
       "      <td>84</td>\n",
       "      <td>581</td>\n",
       "      <td>407</td>\n",
       "      <td>187</td>\n",
       "      <td>test_00004.jpg</td>\n",
       "      <td>Toyota Camry Sedan 2012</td>\n",
       "      <td>1</td>\n",
       "      <td>test_cropped_00004.jpg</td>\n",
       "    </tr>\n",
       "    <tr>\n",
       "      <th>4</th>\n",
       "      <td>140</td>\n",
       "      <td>151</td>\n",
       "      <td>593</td>\n",
       "      <td>339</td>\n",
       "      <td>185</td>\n",
       "      <td>test_00005.jpg</td>\n",
       "      <td>Tesla Model S Sedan 2012</td>\n",
       "      <td>1</td>\n",
       "      <td>test_cropped_00005.jpg</td>\n",
       "    </tr>\n",
       "  </tbody>\n",
       "</table>\n",
       "</div>"
      ],
      "text/plain": [
       "   bbox_x1  bbox_y1  bbox_x2  bbox_y2  class_id        filename  \\\n",
       "0       30       52      246      147       181  test_00001.jpg   \n",
       "1      100       19      576      203       103  test_00002.jpg   \n",
       "2       51      105      968      659       145  test_00003.jpg   \n",
       "3       67       84      581      407       187  test_00004.jpg   \n",
       "4      140      151      593      339       185  test_00005.jpg   \n",
       "\n",
       "                            class_name  test        filename_cropped  \n",
       "0              Suzuki Aerio Sedan 2007     1  test_cropped_00001.jpg  \n",
       "1  Ferrari 458 Italia Convertible 2012     1  test_cropped_00002.jpg  \n",
       "2                Jeep Patriot SUV 2012     1  test_cropped_00003.jpg  \n",
       "3              Toyota Camry Sedan 2012     1  test_cropped_00004.jpg  \n",
       "4             Tesla Model S Sedan 2012     1  test_cropped_00005.jpg  "
      ]
     },
     "execution_count": 19,
     "metadata": {},
     "output_type": "execute_result"
    }
   ],
   "source": [
    "#Sanity check\n",
    "test_df_all_img.head()"
   ]
  },
  {
   "cell_type": "markdown",
   "metadata": {},
   "source": [
    "Creating a unified dataframe that contains both training and test images, for testing after training"
   ]
  },
  {
   "cell_type": "code",
   "execution_count": 20,
   "metadata": {},
   "outputs": [],
   "source": [
    "all_img_df = pd.concat([train_df,test_df_all_img])\n",
    "all_img_df = all_img_df.loc[:,['filename', 'class_name', 'class_id', 'test']]\n",
    "all_img_df.to_csv('all_img.csv',index=False)"
   ]
  },
  {
   "cell_type": "code",
   "execution_count": 465,
   "metadata": {},
   "outputs": [
    {
     "data": {
      "text/plain": [
       "(196, 196)"
      ]
     },
     "execution_count": 465,
     "metadata": {},
     "output_type": "execute_result"
    }
   ],
   "source": [
    "#Ensuring class names and class ids are mapped properly \n",
    "train_df['class_name'].nunique(), train_df['class_id'].nunique()"
   ]
  },
  {
   "cell_type": "markdown",
   "metadata": {},
   "source": [
    "#### Cropping images based on bbox"
   ]
  },
  {
   "cell_type": "code",
   "execution_count": 5,
   "metadata": {},
   "outputs": [],
   "source": [
    "def _crop(df, path, i):\n",
    "    img = Image.open(path + df['filename'][i])\n",
    "    x1 = df['bbox_x1'][i]\n",
    "    y1 =df['bbox_y1'][i]\n",
    "    y2 = df['bbox_y2'][i]\n",
    "    x2 = df['bbox_x2'][i]\n",
    "    bbox = (x1,y1,x2,y2)\n",
    "    return img.crop(bbox)\n",
    "\n",
    "def save(img,df,path,i): \n",
    "    return img.save(f'{path + df[\"filename_cropped\"][i]}')\n",
    "                    \n",
    "def get_cropped_image(df,path,cropped_path,i):\n",
    "    cropped = _crop(df,path,i)\n",
    "    return save(cropped,df,cropped_path,i)\n",
    "    "
   ]
  },
  {
   "cell_type": "markdown",
   "metadata": {},
   "source": [
    "Generate cropped images"
   ]
  },
  {
   "cell_type": "code",
   "execution_count": null,
   "metadata": {},
   "outputs": [],
   "source": [
    "#test_df=pd.read_csv('test_df.csv')\n",
    "#list(map(lambda x: get_cropped_image(test_df,test_path,test_cropped_path,x), list(range(len(test_df)))))\n",
    "#list(map(lambda x: get_cropped_image(train_df,train_path,train_cropped_path,x), list(range(len(train_df)))))"
   ]
  },
  {
   "cell_type": "markdown",
   "metadata": {},
   "source": [
    "# EDA"
   ]
  },
  {
   "cell_type": "code",
   "execution_count": 23,
   "metadata": {},
   "outputs": [
    {
     "name": "stdout",
     "output_type": "stream",
     "text": [
      "Number of images in the training set: 8144\n"
     ]
    }
   ],
   "source": [
    "print(f'Number of images in the training set: {len(train_df)}')"
   ]
  },
  {
   "cell_type": "code",
   "execution_count": 33,
   "metadata": {},
   "outputs": [
    {
     "data": {
      "text/plain": [
       "count    196.00000\n",
       "mean      41.55102\n",
       "std        4.33382\n",
       "min       24.00000\n",
       "25%       39.75000\n",
       "50%       42.00000\n",
       "75%       44.00000\n",
       "max       68.00000\n",
       "Name: class_name, dtype: float64"
      ]
     },
     "execution_count": 33,
     "metadata": {},
     "output_type": "execute_result"
    }
   ],
   "source": [
    "classes_cnt = train_df['class_name'].value_counts()\n",
    "classes_cnt.describe()"
   ]
  },
  {
   "cell_type": "markdown",
   "metadata": {},
   "source": [
    "With 196 different classes and an average of 41.5 images per class. With a minimum of 24 images and a maximum of 68 images"
   ]
  },
  {
   "cell_type": "code",
   "execution_count": 24,
   "metadata": {},
   "outputs": [
    {
     "data": {
      "text/plain": [
       "<matplotlib.axes._subplots.AxesSubplot at 0x7fd7e2409208>"
      ]
     },
     "execution_count": 24,
     "metadata": {},
     "output_type": "execute_result"
    },
    {
     "data": {
      "image/png": "[encoded data removed]",
      "text/plain": [
       "<Figure size 432x288 with 1 Axes>"
      ]
     },
     "metadata": {
      "needs_background": "light"
     },
     "output_type": "display_data"
    }
   ],
   "source": [
    "classes_cnt.plot(kind='hist', title='Histogram of number of images')"
   ]
  },
  {
   "cell_type": "markdown",
   "metadata": {},
   "source": [
    "#### Looking at the aspect ratio of all the images"
   ]
  },
  {
   "cell_type": "code",
   "execution_count": 31,
   "metadata": {},
   "outputs": [],
   "source": [
    "all_imgs = pd.read_csv('all_img.csv')"
   ]
  },
  {
   "cell_type": "code",
   "execution_count": 34,
   "metadata": {},
   "outputs": [],
   "source": [
    "src = ImageList.from_df(all_imgs, all_img_path, cols='filename')"
   ]
  },
  {
   "cell_type": "code",
   "execution_count": 40,
   "metadata": {},
   "outputs": [],
   "source": [
    "lst = []\n",
    "for i in range(len(src)): \n",
    "    lst.append((src[i].size[0],src[i].size[1]))"
   ]
  },
  {
   "cell_type": "code",
   "execution_count": 47,
   "metadata": {},
   "outputs": [],
   "source": [
    "aspect_ratio = pd.DataFrame(lst, columns=['height','width'])"
   ]
  },
  {
   "cell_type": "code",
   "execution_count": 48,
   "metadata": {},
   "outputs": [],
   "source": [
    "aspect_ratio['aspect_ratio'] = aspect_ratio['height']/aspect_ratio['width']"
   ]
  },
  {
   "cell_type": "code",
   "execution_count": 49,
   "metadata": {},
   "outputs": [
    {
     "data": {
      "text/html": [
       "<div>\n",
       "<style scoped>\n",
       "    .dataframe tbody tr th:only-of-type {\n",
       "        vertical-align: middle;\n",
       "    }\n",
       "\n",
       "    .dataframe tbody tr th {\n",
       "        vertical-align: top;\n",
       "    }\n",
       "\n",
       "    .dataframe thead th {\n",
       "        text-align: right;\n",
       "    }\n",
       "</style>\n",
       "<table border=\"1\" class=\"dataframe\">\n",
       "  <thead>\n",
       "    <tr style=\"text-align: right;\">\n",
       "      <th></th>\n",
       "      <th>count</th>\n",
       "      <th>mean</th>\n",
       "      <th>std</th>\n",
       "      <th>min</th>\n",
       "      <th>25%</th>\n",
       "      <th>50%</th>\n",
       "      <th>75%</th>\n",
       "      <th>max</th>\n",
       "    </tr>\n",
       "  </thead>\n",
       "  <tbody>\n",
       "    <tr>\n",
       "      <th>height</th>\n",
       "      <td>16185.0</td>\n",
       "      <td>483.245845</td>\n",
       "      <td>318.311547</td>\n",
       "      <td>41.000000</td>\n",
       "      <td>290.000</td>\n",
       "      <td>426.000</td>\n",
       "      <td>540.00</td>\n",
       "      <td>5400.000000</td>\n",
       "    </tr>\n",
       "    <tr>\n",
       "      <th>width</th>\n",
       "      <td>16185.0</td>\n",
       "      <td>700.492555</td>\n",
       "      <td>453.238969</td>\n",
       "      <td>78.000000</td>\n",
       "      <td>429.000</td>\n",
       "      <td>640.000</td>\n",
       "      <td>800.00</td>\n",
       "      <td>7800.000000</td>\n",
       "    </tr>\n",
       "    <tr>\n",
       "      <th>aspect_ratio</th>\n",
       "      <td>16185.0</td>\n",
       "      <td>0.692916</td>\n",
       "      <td>0.092752</td>\n",
       "      <td>0.257232</td>\n",
       "      <td>0.659</td>\n",
       "      <td>0.745</td>\n",
       "      <td>0.75</td>\n",
       "      <td>1.686154</td>\n",
       "    </tr>\n",
       "  </tbody>\n",
       "</table>\n",
       "</div>"
      ],
      "text/plain": [
       "                count        mean         std        min      25%      50%  \\\n",
       "height        16185.0  483.245845  318.311547  41.000000  290.000  426.000   \n",
       "width         16185.0  700.492555  453.238969  78.000000  429.000  640.000   \n",
       "aspect_ratio  16185.0    0.692916    0.092752   0.257232    0.659    0.745   \n",
       "\n",
       "                 75%          max  \n",
       "height        540.00  5400.000000  \n",
       "width         800.00  7800.000000  \n",
       "aspect_ratio    0.75     1.686154  "
      ]
     },
     "execution_count": 49,
     "metadata": {},
     "output_type": "execute_result"
    }
   ],
   "source": [
    "aspect_ratio.describe().T"
   ]
  },
  {
   "cell_type": "markdown",
   "metadata": {},
   "source": [
    "Mean aspect ratio for all the images is **0.69** while the median and the 3rd quartile is around **0.75**, it'd be safe to use **0.75** aspect ratio to begin the training. Since Imagenet images are all squared images. "
   ]
  },
  {
   "cell_type": "code",
   "execution_count": null,
   "metadata": {},
   "outputs": [],
   "source": []
  }
 ],
 "metadata": {
  "kernelspec": {
   "display_name": "Python 3",
   "language": "python",
   "name": "python3"
  },
  "language_info": {
   "codemirror_mode": {
    "name": "ipython",
    "version": 3
   },
   "file_extension": ".py",
   "mimetype": "text/x-python",
   "name": "python",
   "nbconvert_exporter": "python",
   "pygments_lexer": "ipython3",
   "version": "3.7.3"
  }
 },
 "nbformat": 4,
 "nbformat_minor": 2
}
