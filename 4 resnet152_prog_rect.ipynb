{
 "cells": [
  {
   "cell_type": "code",
   "execution_count": 1,
   "metadata": {},
   "outputs": [],
   "source": [
    "import pandas as pd\n",
    "from pathlib import Path"
   ]
  },
  {
   "cell_type": "code",
   "execution_count": 2,
   "metadata": {},
   "outputs": [],
   "source": [
    "from fastai import *\n",
    "from fastai.vision import *"
   ]
  },
  {
   "cell_type": "code",
   "execution_count": 3,
   "metadata": {},
   "outputs": [],
   "source": [
    "train_path = 'data/train/'\n",
    "cropped_path = 'data/cropped_train/'\n",
    "test_path = 'data/test/'\n",
    "all_img_path = 'data/all_img'\n",
    "CROPPED_PATH = Path(cropped_path)"
   ]
  },
  {
   "cell_type": "markdown",
   "metadata": {},
   "source": [
    "#### Commence training: Stage-1 (resnet152)\n",
    "- Setting up data bunch and transformations"
   ]
  },
  {
   "cell_type": "code",
   "execution_count": 4,
   "metadata": {},
   "outputs": [],
   "source": [
    "tfms = get_transforms()\n",
    "trn_df_labels = pd.read_csv('train_labels.csv',usecols=['filename','class_name'])\n",
    "\n",
    "src = (ImageList.from_df(trn_df_labels,train_path, cols='filename')\n",
    "       .split_by_rand_pct(0.2, seed=42).label_from_df('class_name'))"
   ]
  },
  {
   "cell_type": "code",
   "execution_count": 5,
   "metadata": {},
   "outputs": [],
   "source": [
    "data224_32 = (src.transform(tfms,size=(224,299)).databunch(bs=24).normalize(imagenet_stats))"
   ]
  },
  {
   "cell_type": "code",
   "execution_count": 6,
   "metadata": {},
   "outputs": [],
   "source": [
    "learn = cnn_learner(data224_32,models.resnet152,metrics=[error_rate,accuracy])"
   ]
  },
  {
   "cell_type": "code",
   "execution_count": 7,
   "metadata": {},
   "outputs": [],
   "source": [
    "learn.lr_find()"
   ]
  },
  {
   "cell_type": "code",
   "execution_count": 8,
   "metadata": {},
   "outputs": [
    {
     "data": {
      "image/png": "[encoded data removed]",
      "text/plain": [
       "<Figure size 432x288 with 1 Axes>"
      ]
     },
     "metadata": {
      "needs_background": "light"
     },
     "output_type": "display_data"
    }
   ],
   "source": [
    "learn.recorder.plot()"
   ]
  },
  {
   "cell_type": "code",
   "execution_count": 10,
   "metadata": {},
   "outputs": [
    {
     "data": {
      "text/html": [
       "<table border=\"1\" class=\"dataframe\">\n",
       "  <thead>\n",
       "    <tr style=\"text-align: left;\">\n",
       "      <th>epoch</th>\n",
       "      <th>train_loss</th>\n",
       "      <th>valid_loss</th>\n",
       "      <th>error_rate</th>\n",
       "      <th>accuracy</th>\n",
       "      <th>precision</th>\n",
       "      <th>recall</th>\n",
       "      <th>time</th>\n",
       "    </tr>\n",
       "  </thead>\n",
       "  <tbody>\n",
       "    <tr>\n",
       "      <td>0</td>\n",
       "      <td>4.672921</td>\n",
       "      <td>3.746114</td>\n",
       "      <td>0.813268</td>\n",
       "      <td>0.186732</td>\n",
       "      <td>nan</td>\n",
       "      <td>0.186732</td>\n",
       "      <td>03:37</td>\n",
       "    </tr>\n",
       "    <tr>\n",
       "      <td>1</td>\n",
       "      <td>2.862571</td>\n",
       "      <td>2.130151</td>\n",
       "      <td>0.496929</td>\n",
       "      <td>0.503071</td>\n",
       "      <td>nan</td>\n",
       "      <td>0.503071</td>\n",
       "      <td>03:30</td>\n",
       "    </tr>\n",
       "    <tr>\n",
       "      <td>2</td>\n",
       "      <td>1.742831</td>\n",
       "      <td>1.340450</td>\n",
       "      <td>0.326167</td>\n",
       "      <td>0.673833</td>\n",
       "      <td>0.722551</td>\n",
       "      <td>0.673833</td>\n",
       "      <td>03:29</td>\n",
       "    </tr>\n",
       "    <tr>\n",
       "      <td>3</td>\n",
       "      <td>1.204341</td>\n",
       "      <td>1.061345</td>\n",
       "      <td>0.259214</td>\n",
       "      <td>0.740786</td>\n",
       "      <td>0.765427</td>\n",
       "      <td>0.740786</td>\n",
       "      <td>03:29</td>\n",
       "    </tr>\n",
       "    <tr>\n",
       "      <td>4</td>\n",
       "      <td>0.914445</td>\n",
       "      <td>1.009286</td>\n",
       "      <td>0.243243</td>\n",
       "      <td>0.756757</td>\n",
       "      <td>0.784302</td>\n",
       "      <td>0.756757</td>\n",
       "      <td>03:30</td>\n",
       "    </tr>\n",
       "  </tbody>\n",
       "</table>"
      ],
      "text/plain": [
       "<IPython.core.display.HTML object>"
      ]
     },
     "metadata": {},
     "output_type": "display_data"
    }
   ],
   "source": [
    "learn.fit_one_cycle(5, 1e-3)"
   ]
  },
  {
   "cell_type": "code",
   "execution_count": 11,
   "metadata": {},
   "outputs": [],
   "source": [
    "learn.save('12-stage1')"
   ]
  },
  {
   "cell_type": "code",
   "execution_count": 12,
   "metadata": {},
   "outputs": [],
   "source": [
    "learn.unfreeze()"
   ]
  },
  {
   "cell_type": "code",
   "execution_count": 13,
   "metadata": {},
   "outputs": [
    {
     "data": {
      "text/html": [
       "<table border=\"1\" class=\"dataframe\">\n",
       "  <thead>\n",
       "    <tr style=\"text-align: left;\">\n",
       "      <th>epoch</th>\n",
       "      <th>train_loss</th>\n",
       "      <th>valid_loss</th>\n",
       "      <th>error_rate</th>\n",
       "      <th>accuracy</th>\n",
       "      <th>precision</th>\n",
       "      <th>recall</th>\n",
       "      <th>time</th>\n",
       "    </tr>\n",
       "  </thead>\n",
       "  <tbody>\n",
       "    <tr>\n",
       "      <td>0</td>\n",
       "      <td>0.888151</td>\n",
       "      <td>0.964497</td>\n",
       "      <td>0.245700</td>\n",
       "      <td>0.754300</td>\n",
       "      <td>0.792935</td>\n",
       "      <td>0.754300</td>\n",
       "      <td>04:36</td>\n",
       "    </tr>\n",
       "    <tr>\n",
       "      <td>1</td>\n",
       "      <td>1.058518</td>\n",
       "      <td>1.010158</td>\n",
       "      <td>0.257985</td>\n",
       "      <td>0.742015</td>\n",
       "      <td>0.784950</td>\n",
       "      <td>0.742015</td>\n",
       "      <td>04:35</td>\n",
       "    </tr>\n",
       "    <tr>\n",
       "      <td>2</td>\n",
       "      <td>1.002259</td>\n",
       "      <td>1.074253</td>\n",
       "      <td>0.293612</td>\n",
       "      <td>0.706388</td>\n",
       "      <td>nan</td>\n",
       "      <td>0.706388</td>\n",
       "      <td>04:35</td>\n",
       "    </tr>\n",
       "    <tr>\n",
       "      <td>3</td>\n",
       "      <td>0.768968</td>\n",
       "      <td>0.844232</td>\n",
       "      <td>0.235872</td>\n",
       "      <td>0.764128</td>\n",
       "      <td>0.820728</td>\n",
       "      <td>0.764128</td>\n",
       "      <td>04:35</td>\n",
       "    </tr>\n",
       "    <tr>\n",
       "      <td>4</td>\n",
       "      <td>0.571937</td>\n",
       "      <td>0.789212</td>\n",
       "      <td>0.224816</td>\n",
       "      <td>0.775184</td>\n",
       "      <td>0.817478</td>\n",
       "      <td>0.775184</td>\n",
       "      <td>04:35</td>\n",
       "    </tr>\n",
       "    <tr>\n",
       "      <td>5</td>\n",
       "      <td>0.333338</td>\n",
       "      <td>0.586565</td>\n",
       "      <td>0.157862</td>\n",
       "      <td>0.842138</td>\n",
       "      <td>0.859165</td>\n",
       "      <td>0.842138</td>\n",
       "      <td>04:35</td>\n",
       "    </tr>\n",
       "    <tr>\n",
       "      <td>6</td>\n",
       "      <td>0.191304</td>\n",
       "      <td>0.554738</td>\n",
       "      <td>0.143735</td>\n",
       "      <td>0.856265</td>\n",
       "      <td>0.876120</td>\n",
       "      <td>0.856265</td>\n",
       "      <td>04:35</td>\n",
       "    </tr>\n",
       "    <tr>\n",
       "      <td>7</td>\n",
       "      <td>0.108730</td>\n",
       "      <td>0.497725</td>\n",
       "      <td>0.128378</td>\n",
       "      <td>0.871622</td>\n",
       "      <td>0.883004</td>\n",
       "      <td>0.871622</td>\n",
       "      <td>04:35</td>\n",
       "    </tr>\n",
       "    <tr>\n",
       "      <td>8</td>\n",
       "      <td>0.070027</td>\n",
       "      <td>0.464491</td>\n",
       "      <td>0.132064</td>\n",
       "      <td>0.867936</td>\n",
       "      <td>0.879540</td>\n",
       "      <td>0.867936</td>\n",
       "      <td>04:35</td>\n",
       "    </tr>\n",
       "    <tr>\n",
       "      <td>9</td>\n",
       "      <td>0.053923</td>\n",
       "      <td>0.463636</td>\n",
       "      <td>0.126536</td>\n",
       "      <td>0.873464</td>\n",
       "      <td>0.884461</td>\n",
       "      <td>0.873464</td>\n",
       "      <td>04:35</td>\n",
       "    </tr>\n",
       "  </tbody>\n",
       "</table>"
      ],
      "text/plain": [
       "<IPython.core.display.HTML object>"
      ]
     },
     "metadata": {},
     "output_type": "display_data"
    }
   ],
   "source": [
    "learn.fit_one_cycle(10,slice(1e-5,1e-3))"
   ]
  },
  {
   "cell_type": "code",
   "execution_count": 14,
   "metadata": {},
   "outputs": [],
   "source": [
    "learn.save('12-stage2')"
   ]
  },
  {
   "cell_type": "code",
   "execution_count": 15,
   "metadata": {},
   "outputs": [
    {
     "data": {
      "text/html": [],
      "text/plain": [
       "<IPython.core.display.HTML object>"
      ]
     },
     "metadata": {},
     "output_type": "display_data"
    },
    {
     "name": "stdout",
     "output_type": "stream",
     "text": [
      "LR Finder is complete, type {learner_name}.recorder.plot() to see the graph.\n"
     ]
    },
    {
     "data": {
      "image/png": "[encoded data removed]",
      "text/plain": [
       "<Figure size 432x288 with 1 Axes>"
      ]
     },
     "metadata": {
      "needs_background": "light"
     },
     "output_type": "display_data"
    }
   ],
   "source": [
    "learn.lr_find()\n",
    "learn.recorder.plot()"
   ]
  },
  {
   "cell_type": "code",
   "execution_count": 16,
   "metadata": {},
   "outputs": [
    {
     "data": {
      "text/html": [
       "<table border=\"1\" class=\"dataframe\">\n",
       "  <thead>\n",
       "    <tr style=\"text-align: left;\">\n",
       "      <th>epoch</th>\n",
       "      <th>train_loss</th>\n",
       "      <th>valid_loss</th>\n",
       "      <th>error_rate</th>\n",
       "      <th>accuracy</th>\n",
       "      <th>precision</th>\n",
       "      <th>recall</th>\n",
       "      <th>time</th>\n",
       "    </tr>\n",
       "  </thead>\n",
       "  <tbody>\n",
       "    <tr>\n",
       "      <td>0</td>\n",
       "      <td>0.048104</td>\n",
       "      <td>0.466288</td>\n",
       "      <td>0.124079</td>\n",
       "      <td>0.875921</td>\n",
       "      <td>0.886271</td>\n",
       "      <td>0.875921</td>\n",
       "      <td>04:35</td>\n",
       "    </tr>\n",
       "    <tr>\n",
       "      <td>1</td>\n",
       "      <td>0.049791</td>\n",
       "      <td>0.461074</td>\n",
       "      <td>0.122236</td>\n",
       "      <td>0.877764</td>\n",
       "      <td>0.888862</td>\n",
       "      <td>0.877764</td>\n",
       "      <td>04:36</td>\n",
       "    </tr>\n",
       "    <tr>\n",
       "      <td>2</td>\n",
       "      <td>0.037272</td>\n",
       "      <td>0.463788</td>\n",
       "      <td>0.124079</td>\n",
       "      <td>0.875921</td>\n",
       "      <td>0.887455</td>\n",
       "      <td>0.875921</td>\n",
       "      <td>04:35</td>\n",
       "    </tr>\n",
       "    <tr>\n",
       "      <td>3</td>\n",
       "      <td>0.029955</td>\n",
       "      <td>0.453031</td>\n",
       "      <td>0.116708</td>\n",
       "      <td>0.883292</td>\n",
       "      <td>0.892217</td>\n",
       "      <td>0.883292</td>\n",
       "      <td>04:35</td>\n",
       "    </tr>\n",
       "    <tr>\n",
       "      <td>4</td>\n",
       "      <td>0.033711</td>\n",
       "      <td>0.452339</td>\n",
       "      <td>0.120393</td>\n",
       "      <td>0.879607</td>\n",
       "      <td>0.890148</td>\n",
       "      <td>0.879607</td>\n",
       "      <td>04:35</td>\n",
       "    </tr>\n",
       "  </tbody>\n",
       "</table>"
      ],
      "text/plain": [
       "<IPython.core.display.HTML object>"
      ]
     },
     "metadata": {},
     "output_type": "display_data"
    }
   ],
   "source": [
    "learn.fit_one_cycle(5, slice(1e-6,1e-4))"
   ]
  },
  {
   "cell_type": "code",
   "execution_count": 17,
   "metadata": {},
   "outputs": [],
   "source": [
    "learn.save('12-stage3')"
   ]
  },
  {
   "cell_type": "code",
   "execution_count": 34,
   "metadata": {},
   "outputs": [],
   "source": [
    "learn.load('12-stage3');"
   ]
  },
  {
   "cell_type": "code",
   "execution_count": 8,
   "metadata": {},
   "outputs": [],
   "source": [
    "data_ar = (src.transform(tfms,size=(299,400)).databunch(bs=12).normalize(imagenet_stats))"
   ]
  },
  {
   "cell_type": "code",
   "execution_count": 9,
   "metadata": {},
   "outputs": [],
   "source": [
    "learn.data = data_ar"
   ]
  },
  {
   "cell_type": "code",
   "execution_count": 22,
   "metadata": {},
   "outputs": [],
   "source": [
    "learn.freeze()"
   ]
  },
  {
   "cell_type": "code",
   "execution_count": 39,
   "metadata": {},
   "outputs": [
    {
     "data": {
      "text/html": [],
      "text/plain": [
       "<IPython.core.display.HTML object>"
      ]
     },
     "metadata": {},
     "output_type": "display_data"
    },
    {
     "name": "stdout",
     "output_type": "stream",
     "text": [
      "LR Finder is complete, type {learner_name}.recorder.plot() to see the graph.\n"
     ]
    }
   ],
   "source": [
    "learn.lr_find(start_lr=1e-10)"
   ]
  },
  {
   "cell_type": "code",
   "execution_count": 40,
   "metadata": {},
   "outputs": [
    {
     "data": {
      "image/png": "[encoded data removed]",
      "text/plain": [
       "<Figure size 432x288 with 1 Axes>"
      ]
     },
     "metadata": {
      "needs_background": "light"
     },
     "output_type": "display_data"
    }
   ],
   "source": [
    "learn.recorder.plot()"
   ]
  },
  {
   "cell_type": "code",
   "execution_count": 41,
   "metadata": {},
   "outputs": [
    {
     "data": {
      "text/html": [
       "<table border=\"1\" class=\"dataframe\">\n",
       "  <thead>\n",
       "    <tr style=\"text-align: left;\">\n",
       "      <th>epoch</th>\n",
       "      <th>train_loss</th>\n",
       "      <th>valid_loss</th>\n",
       "      <th>error_rate</th>\n",
       "      <th>accuracy</th>\n",
       "      <th>precision</th>\n",
       "      <th>recall</th>\n",
       "      <th>time</th>\n",
       "    </tr>\n",
       "  </thead>\n",
       "  <tbody>\n",
       "    <tr>\n",
       "      <td>0</td>\n",
       "      <td>0.086858</td>\n",
       "      <td>0.438017</td>\n",
       "      <td>0.114251</td>\n",
       "      <td>0.885749</td>\n",
       "      <td>0.896928</td>\n",
       "      <td>0.885749</td>\n",
       "      <td>08:30</td>\n",
       "    </tr>\n",
       "    <tr>\n",
       "      <td>1</td>\n",
       "      <td>0.094140</td>\n",
       "      <td>0.415321</td>\n",
       "      <td>0.109951</td>\n",
       "      <td>0.890049</td>\n",
       "      <td>0.901054</td>\n",
       "      <td>0.890049</td>\n",
       "      <td>08:30</td>\n",
       "    </tr>\n",
       "    <tr>\n",
       "      <td>2</td>\n",
       "      <td>0.086174</td>\n",
       "      <td>0.406428</td>\n",
       "      <td>0.106265</td>\n",
       "      <td>0.893735</td>\n",
       "      <td>0.904897</td>\n",
       "      <td>0.893735</td>\n",
       "      <td>08:31</td>\n",
       "    </tr>\n",
       "    <tr>\n",
       "      <td>3</td>\n",
       "      <td>0.081997</td>\n",
       "      <td>0.404973</td>\n",
       "      <td>0.110565</td>\n",
       "      <td>0.889435</td>\n",
       "      <td>0.901823</td>\n",
       "      <td>0.889435</td>\n",
       "      <td>08:29</td>\n",
       "    </tr>\n",
       "    <tr>\n",
       "      <td>4</td>\n",
       "      <td>0.085486</td>\n",
       "      <td>0.399086</td>\n",
       "      <td>0.105651</td>\n",
       "      <td>0.894349</td>\n",
       "      <td>0.905450</td>\n",
       "      <td>0.894349</td>\n",
       "      <td>08:29</td>\n",
       "    </tr>\n",
       "  </tbody>\n",
       "</table>"
      ],
      "text/plain": [
       "<IPython.core.display.HTML object>"
      ]
     },
     "metadata": {},
     "output_type": "display_data"
    }
   ],
   "source": [
    "learn.fit_one_cycle(5,1e-6)"
   ]
  },
  {
   "cell_type": "code",
   "execution_count": 42,
   "metadata": {},
   "outputs": [],
   "source": [
    "learn.save('12-stage4.2')"
   ]
  },
  {
   "cell_type": "code",
   "execution_count": 20,
   "metadata": {},
   "outputs": [],
   "source": [
    "learn.load('12-stage4.2');"
   ]
  },
  {
   "cell_type": "code",
   "execution_count": 22,
   "metadata": {},
   "outputs": [],
   "source": [
    "learn.unfreeze()"
   ]
  },
  {
   "cell_type": "code",
   "execution_count": 23,
   "metadata": {},
   "outputs": [
    {
     "data": {
      "text/html": [],
      "text/plain": [
       "<IPython.core.display.HTML object>"
      ]
     },
     "metadata": {},
     "output_type": "display_data"
    },
    {
     "name": "stdout",
     "output_type": "stream",
     "text": [
      "LR Finder is complete, type {learner_name}.recorder.plot() to see the graph.\n"
     ]
    }
   ],
   "source": [
    "learn.lr_find(start_lr=1e-8)"
   ]
  },
  {
   "cell_type": "code",
   "execution_count": 24,
   "metadata": {},
   "outputs": [
    {
     "data": {
      "image/png": "[encoded data removed]",
      "text/plain": [
       "<Figure size 432x288 with 1 Axes>"
      ]
     },
     "metadata": {
      "needs_background": "light"
     },
     "output_type": "display_data"
    }
   ],
   "source": [
    "learn.recorder.plot()"
   ]
  },
  {
   "cell_type": "code",
   "execution_count": 25,
   "metadata": {},
   "outputs": [
    {
     "data": {
      "text/html": [
       "<table border=\"1\" class=\"dataframe\">\n",
       "  <thead>\n",
       "    <tr style=\"text-align: left;\">\n",
       "      <th>epoch</th>\n",
       "      <th>train_loss</th>\n",
       "      <th>valid_loss</th>\n",
       "      <th>error_rate</th>\n",
       "      <th>accuracy</th>\n",
       "      <th>time</th>\n",
       "    </tr>\n",
       "  </thead>\n",
       "  <tbody>\n",
       "    <tr>\n",
       "      <td>0</td>\n",
       "      <td>0.068056</td>\n",
       "      <td>0.401427</td>\n",
       "      <td>0.108108</td>\n",
       "      <td>0.891892</td>\n",
       "      <td>08:30</td>\n",
       "    </tr>\n",
       "    <tr>\n",
       "      <td>1</td>\n",
       "      <td>0.066819</td>\n",
       "      <td>0.394532</td>\n",
       "      <td>0.102580</td>\n",
       "      <td>0.897420</td>\n",
       "      <td>08:29</td>\n",
       "    </tr>\n",
       "    <tr>\n",
       "      <td>2</td>\n",
       "      <td>0.064478</td>\n",
       "      <td>0.396947</td>\n",
       "      <td>0.109951</td>\n",
       "      <td>0.890049</td>\n",
       "      <td>08:28</td>\n",
       "    </tr>\n",
       "    <tr>\n",
       "      <td>3</td>\n",
       "      <td>0.056660</td>\n",
       "      <td>0.390975</td>\n",
       "      <td>0.101351</td>\n",
       "      <td>0.898649</td>\n",
       "      <td>08:29</td>\n",
       "    </tr>\n",
       "    <tr>\n",
       "      <td>4</td>\n",
       "      <td>0.042473</td>\n",
       "      <td>0.389081</td>\n",
       "      <td>0.100737</td>\n",
       "      <td>0.899263</td>\n",
       "      <td>08:29</td>\n",
       "    </tr>\n",
       "    <tr>\n",
       "      <td>5</td>\n",
       "      <td>0.053548</td>\n",
       "      <td>0.388539</td>\n",
       "      <td>0.104423</td>\n",
       "      <td>0.895577</td>\n",
       "      <td>08:29</td>\n",
       "    </tr>\n",
       "    <tr>\n",
       "      <td>6</td>\n",
       "      <td>0.050048</td>\n",
       "      <td>0.387687</td>\n",
       "      <td>0.105651</td>\n",
       "      <td>0.894349</td>\n",
       "      <td>08:30</td>\n",
       "    </tr>\n",
       "    <tr>\n",
       "      <td>7</td>\n",
       "      <td>0.049545</td>\n",
       "      <td>0.387605</td>\n",
       "      <td>0.098894</td>\n",
       "      <td>0.901106</td>\n",
       "      <td>08:28</td>\n",
       "    </tr>\n",
       "    <tr>\n",
       "      <td>8</td>\n",
       "      <td>0.038794</td>\n",
       "      <td>0.386403</td>\n",
       "      <td>0.098894</td>\n",
       "      <td>0.901106</td>\n",
       "      <td>08:29</td>\n",
       "    </tr>\n",
       "    <tr>\n",
       "      <td>9</td>\n",
       "      <td>0.050656</td>\n",
       "      <td>0.378948</td>\n",
       "      <td>0.097666</td>\n",
       "      <td>0.902334</td>\n",
       "      <td>08:29</td>\n",
       "    </tr>\n",
       "  </tbody>\n",
       "</table>"
      ],
      "text/plain": [
       "<IPython.core.display.HTML object>"
      ]
     },
     "metadata": {},
     "output_type": "display_data"
    }
   ],
   "source": [
    "learn.fit_one_cycle(10,slice(3e-7,3e-5))"
   ]
  },
  {
   "cell_type": "code",
   "execution_count": 26,
   "metadata": {},
   "outputs": [],
   "source": [
    "learn.save('12-stage5.3')"
   ]
  },
  {
   "cell_type": "markdown",
   "metadata": {},
   "source": [
    "### Test Set Performance"
   ]
  },
  {
   "cell_type": "code",
   "execution_count": 36,
   "metadata": {},
   "outputs": [],
   "source": [
    "all_img_df = pd.read_csv('all_img.csv', usecols=['filename','class_name', 'test'])\n",
    "data_test = (ImageList.from_df(all_img_df,all_img_path,cols='filename')\n",
    "           .split_from_df(col='test').label_from_df(cols='class_name').transform(tfms,size=(299,400)).databunch(bs=64).normalize(imagenet_stats))"
   ]
  },
  {
   "cell_type": "code",
   "execution_count": 39,
   "metadata": {},
   "outputs": [],
   "source": [
    "learn.load('12-stage5.3');"
   ]
  },
  {
   "cell_type": "code",
   "execution_count": 38,
   "metadata": {},
   "outputs": [],
   "source": [
    "learn.data = data_test"
   ]
  },
  {
   "cell_type": "code",
   "execution_count": 40,
   "metadata": {},
   "outputs": [
    {
     "data": {
      "text/plain": [
       "[0.3279637, tensor(0.0831), tensor(0.9169)]"
      ]
     },
     "execution_count": 40,
     "metadata": {},
     "output_type": "execute_result"
    }
   ],
   "source": [
    "learn.validate()"
   ]
  },
  {
   "cell_type": "markdown",
   "metadata": {},
   "source": [
    "Accuracy 91.69% \n",
    "Error rate 8.31% "
   ]
  }
 ],
 "metadata": {
  "kernelspec": {
   "display_name": "Python 3",
   "language": "python",
   "name": "python3"
  },
  "language_info": {
   "codemirror_mode": {
    "name": "ipython",
    "version": 3
   },
   "file_extension": ".py",
   "mimetype": "text/x-python",
   "name": "python",
   "nbconvert_exporter": "python",
   "pygments_lexer": "ipython3",
   "version": "3.7.3"
  }
 },
 "nbformat": 4,
 "nbformat_minor": 2
}
